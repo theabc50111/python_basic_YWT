{
 "cells": [
  {
   "cell_type": "markdown",
   "metadata": {},
   "source": [
    "#  <font color=red> Module_15_匿名函數與變數可見度 </font> "
   ]
  },
  {
   "cell_type": "markdown",
   "metadata": {},
   "source": [
    "# P15-4"
   ]
  },
  {
   "cell_type": "code",
   "execution_count": null,
   "metadata": {},
   "outputs": [],
   "source": [
    "def func(arg1,arg2):\n",
    "    return arg1+arg2\n",
    "\n",
    "a = func(5,6)\n",
    "print(a)"
   ]
  },
  {
   "cell_type": "code",
   "execution_count": null,
   "metadata": {},
   "outputs": [],
   "source": [
    "sum_data = lambda arg1, arg2 : arg1+arg2   # 這個Lambda函數沒有名字，只是用了㇐個變數(sum_data)去參考這個Lambda函數\n",
    "print(sum_data(10, 20))"
   ]
  },
  {
   "cell_type": "markdown",
   "metadata": {},
   "source": [
    "---"
   ]
  },
  {
   "cell_type": "markdown",
   "metadata": {},
   "source": [
    "# P15-5"
   ]
  },
  {
   "cell_type": "code",
   "execution_count": null,
   "metadata": {},
   "outputs": [],
   "source": [
    "def func(x):\n",
    "    return x[3]\n",
    "\n",
    "lis1=['Mr.Tsao','Mr.Cheng','Mr.Lin','Mr.Wang','Mr.GAO','Mr.XIAO']\n",
    "lis1.sort(key=func) # P9-16\n",
    "lis1"
   ]
  },
  {
   "cell_type": "code",
   "execution_count": null,
   "metadata": {},
   "outputs": [],
   "source": [
    "lis1=['Mr.Tsao','Mr.Cheng','Mr.Lin','Mr.Wang','Mr.GAO','Mr.XIAO']\n",
    "lis1.sort(key=lambda x:x[3]) # P9-16\n",
    "lis1"
   ]
  },
  {
   "cell_type": "code",
   "execution_count": null,
   "metadata": {},
   "outputs": [],
   "source": [
    "# function: return sum of two values\n",
    "def sum_data(a, b):\n",
    "    return a+b\n",
    "    \n",
    "# function: using function as parameter    \n",
    "def operate_on(x, y, func):\n",
    "    return func(x, y)\n",
    "\n",
    "# MAIN\n",
    "r = operate_on(16,20,sum_data)   # call function\n",
    "print('operate_on(16,20,sum_data) =',r)\n",
    "          \n",
    "r = operate_on(10,40,lambda a,b:a-b)   # with anonymous function\n",
    "print('operate_on(10,40,Lambda_function) =', r)"
   ]
  },
  {
   "cell_type": "markdown",
   "metadata": {},
   "source": [
    "---"
   ]
  },
  {
   "cell_type": "markdown",
   "metadata": {},
   "source": [
    "# P15-9\n",
    "## Python語言有兩種變數的可見度\n",
    "### - 在函數內的變數稱為區域變數\n",
    "### - 在函數之外的變數稱為全域變數\n",
    ">### (1) 最外面的範疇即全域範疇，識別字有 foo。\n",
    ">### (2) 中間的範疇是在 foo 裡面，識別字有 a、b、bar、foo。\n",
    ">### (3) 最裡面的範疇是在 bar 裡面，識別字只有 a、b、c、bar、foo。\n",
    "><img src='./img/variable_scope.png' style='height:400px'>"
   ]
  },
  {
   "cell_type": "code",
   "execution_count": null,
   "metadata": {},
   "outputs": [],
   "source": [
    "def foo(a):\n",
    "    b = a * 2\n",
    "    def bar(c):\n",
    "        print(a,b,c)\n",
    "    bar(b*3)\n",
    "\n",
    "foo(2)"
   ]
  },
  {
   "cell_type": "markdown",
   "metadata": {},
   "source": [
    "---"
   ]
  },
  {
   "cell_type": "markdown",
   "metadata": {},
   "source": [
    "# P15-11"
   ]
  },
  {
   "cell_type": "markdown",
   "metadata": {},
   "source": [
    "### 函數可以直接參考全域變數"
   ]
  },
  {
   "cell_type": "code",
   "execution_count": null,
   "metadata": {},
   "outputs": [],
   "source": [
    "a = 'A' # global\n",
    "def func1():\n",
    "    print(a)\n",
    "\n",
    "func1()"
   ]
  },
  {
   "cell_type": "markdown",
   "metadata": {},
   "source": [
    "###  如果函數內有指定㇐個值給變數，該變數則自動視為區域變數，<font color =red>區域變數只能在該函數內存取</font>"
   ]
  },
  {
   "cell_type": "code",
   "execution_count": null,
   "metadata": {},
   "outputs": [],
   "source": [
    "def fun2():\n",
    "    b='Hi!!!!'\n",
    "    print(b)\n",
    "\n",
    "fun2()\n",
    "print(b)"
   ]
  },
  {
   "cell_type": "markdown",
   "metadata": {},
   "source": [
    "### 假如區域與全域變數同名，區域變數會蓋掉全域變數(在函數內)"
   ]
  },
  {
   "cell_type": "code",
   "execution_count": null,
   "metadata": {},
   "outputs": [],
   "source": [
    "# Function definition\n",
    "def sum_data(arg1, arg2):\n",
    "    total  = arg1 + arg2; # total is local variable\n",
    "    print('In function local total :', total)\n",
    "\n",
    "# MAIN    \n",
    "# Call function\n",
    "\n",
    "# Using global variable\n",
    "total = 0   # This is global variable\n",
    "\n",
    "sum_data(10, 20)\n",
    "\n",
    "\n",
    "print('Outside function global total :', total)"
   ]
  },
  {
   "cell_type": "markdown",
   "metadata": {},
   "source": [
    "### 如果函數內有指定㇐個值給變數，該變數則自動視為區域變數，除非明確使用 “global” 關鍵字宣告該變數為全域變數"
   ]
  },
  {
   "cell_type": "code",
   "execution_count": null,
   "metadata": {},
   "outputs": [],
   "source": [
    "def func3():\n",
    "    global c \n",
    "    c = 'Hi!!'\n",
    "    print(c)\n",
    "\n",
    "func3()\n",
    "print('outside function:',c)"
   ]
  },
  {
   "cell_type": "code",
   "execution_count": null,
   "metadata": {},
   "outputs": [],
   "source": [
    "c = 'Hello'\n",
    "def func3():\n",
    "    global c \n",
    "    c = 'Hi!!'\n",
    "    print(f'inside function c is : {c}')\n",
    "\n",
    "print(f'before call func3, c is : {c}')\n",
    "func3()\n",
    "print(f'after call func3, outside c is : {c}')"
   ]
  },
  {
   "cell_type": "markdown",
   "metadata": {},
   "source": [
    "### 全域變數可以在整個程式內使用，包含<font color=red>函數</font>"
   ]
  },
  {
   "cell_type": "code",
   "execution_count": null,
   "metadata": {},
   "outputs": [],
   "source": [
    "a = 2\n",
    "def add_2(x):\n",
    "    return x+a # 可以使用a，因為全域變數可以在整個程式內使用\n",
    "\n",
    "def multiply1(x,y):\n",
    "    print(x*add_2(y)) # 可以使用add_2()，因為全域範圍定義的函數可以在整個程式內使用\n",
    "\n",
    "multiply1(10,7)"
   ]
  },
  {
   "cell_type": "markdown",
   "metadata": {},
   "source": [
    "---"
   ]
  },
  {
   "cell_type": "markdown",
   "metadata": {},
   "source": [
    "# P15-12"
   ]
  },
  {
   "cell_type": "code",
   "execution_count": null,
   "metadata": {},
   "outputs": [],
   "source": [
    "def spam():\n",
    "    global eggs\n",
    "    eggs = 'spam'    # this is the global\n",
    "    \n",
    "def bacon():\n",
    "    eggs = 'bacon'   # this is a local\n",
    "    \n",
    "def ham():\n",
    "    print(eggs)  # this is the global\n",
    "\n",
    "# MAIN\n",
    "eggs = 42        # this is the global\n",
    "\n",
    "ham()\n",
    "\n",
    "bacon()\n",
    "print(eggs)      # 42\n",
    "\n",
    "spam()\n",
    "print(eggs)      # spam\n",
    "\n",
    "ham()            # spam"
   ]
  },
  {
   "cell_type": "markdown",
   "metadata": {},
   "source": [
    "---"
   ]
  },
  {
   "cell_type": "markdown",
   "metadata": {},
   "source": [
    "# &spades; 補充: "
   ]
  },
  {
   "cell_type": "markdown",
   "metadata": {},
   "source": [
    "### Python 沒有block variable (其他語言才有)"
   ]
  },
  {
   "cell_type": "code",
   "execution_count": null,
   "metadata": {},
   "outputs": [],
   "source": [
    "for i in range(10):\n",
    "    print(i, end=' ')\n",
    "\n",
    "i  # it's still globle after for... loop"
   ]
  },
  {
   "cell_type": "markdown",
   "metadata": {},
   "source": [
    "### 函式的遞迴(recursive)特色"
   ]
  },
  {
   "cell_type": "code",
   "execution_count": null,
   "metadata": {},
   "outputs": [],
   "source": [
    "def factorial(n):\n",
    "    answer = 0\n",
    "    if n>1:\n",
    "        oneLess = n-1\n",
    "        answer = n*factorial(oneLess)\n",
    "    else:\n",
    "        answer=1\n",
    "    return answer\n",
    "\n",
    "print(factorial(1))\n",
    "print(factorial(2))\n",
    "print(factorial(3))\n",
    "print(factorial(4))\n",
    "print(factorial(5))\n",
    "print(factorial(6))\n",
    "print(factorial(7))\n",
    "print(factorial(8))\n",
    "print(factorial(9))\n",
    "print(factorial(10))"
   ]
  }
 ],
 "metadata": {
  "kernelspec": {
   "display_name": "Python 3 (ipykernel)",
   "language": "python",
   "name": "python3"
  },
  "language_info": {
   "codemirror_mode": {
    "name": "ipython",
    "version": 3
   },
   "file_extension": ".py",
   "mimetype": "text/x-python",
   "name": "python",
   "nbconvert_exporter": "python",
   "pygments_lexer": "ipython3",
   "version": "3.8.10"
  }
 },
 "nbformat": 4,
 "nbformat_minor": 4
}
