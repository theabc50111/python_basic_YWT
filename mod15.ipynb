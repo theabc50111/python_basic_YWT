{
 "cells": [
  {
   "attachments": {},
   "cell_type": "markdown",
   "metadata": {},
   "source": [
    "#  <font color=red> Module_15_引數傳遞機制與匿名函數 </font> "
   ]
  },
  {
   "attachments": {},
   "cell_type": "markdown",
   "metadata": {},
   "source": [
    "# P15-2"
   ]
  },
  {
   "attachments": {},
   "cell_type": "markdown",
   "metadata": {},
   "source": [
    "<details>\n",
    "    <summary style=\"font-size: 1.25em;\">Assignment 只是建立物件的參考(References to objects)，Python中的reference類似C語言的指標</summary>\n",
    "    <img src='./img/py_c_pointer.gif' style='height:400px'>\n",
    "</details>\n",
    "<details>\n",
    "    <summary style=\"font-size: 1.25em;\">Python傳引數時，傳遞的是變數的參考，而非傳遞數值本身</summary>\n",
    "    <ul>\n",
    "        <li>\n",
    "            <details>\n",
    "                <summary>pass with interger, before change</summary>\n",
    "                <img src='./img/pass_by_assignment1_1.png' style='height:400px'>\n",
    "            </details>\n",
    "        </li>\n",
    "        <li>\n",
    "            <details>\n",
    "                <summary>pass with integer, after change</summary>\n",
    "                <img src='./img/pass_by_assignment1_2.png' style='height:400px'>\n",
    "            </details>\n",
    "        </li>\n",
    "    </ul>\n",
    "</details>"
   ]
  },
  {
   "cell_type": "code",
   "execution_count": null,
   "metadata": {},
   "outputs": [],
   "source": [
    "# Function definition\n",
    "def changeme(myvar):\n",
    "    print('In function, before change:', myvar)\n",
    "    myvar = 50\n",
    "    print('In function, after change:', myvar)\n",
    "    \n",
    "# main function\n",
    "myvar = 20\n",
    "changeme(myvar) # Call function\n",
    "print('Outside function:', myvar)"
   ]
  },
  {
   "attachments": {},
   "cell_type": "markdown",
   "metadata": {},
   "source": [
    "<details>\n",
    "    <summary style=\"font-size: 1.25em;\">pass by assignment for mutable data</summary>\n",
    "    <ul>\n",
    "        <li>\n",
    "            <details>\n",
    "                <summary>Python中的Integer的reference類似C語言的指標(pointer)</summary>\n",
    "                <img src='./img/py_c_pointer.gif' style='height:400px'>\n",
    "            </details>\n",
    "        </li>\n",
    "        <li>\n",
    "            <details>\n",
    "                <summary>Python的List的reference類似C語言的指標陣列(array of pointer)</summary>\n",
    "                <img src='./img/pointers_array.png' style='height:500px'>\n",
    "            </details>\n",
    "        </li>\n",
    "        <li>\n",
    "            <details>\n",
    "                <summary>pass with list, before change</summary>\n",
    "                <img src='./img/pass_by_assignment_mutable1_1.png' style='height:400px'>\n",
    "            </details>\n",
    "        </li>\n",
    "        <li>\n",
    "            <details>\n",
    "                <summary>pass with list, after change</summary>\n",
    "                <img src='./img/pass_by_assignment_mutable1_2.png' style='height:400px'>\n",
    "            </details>\n",
    "        </li>\n",
    "    </ul>\n",
    "</details>\n",
    "\n",
    "\n"
   ]
  },
  {
   "cell_type": "code",
   "execution_count": null,
   "metadata": {},
   "outputs": [],
   "source": [
    "# Function definition\n",
    "def changeme(mylist):\n",
    "    print('In function, before change:', mylist)\n",
    "    mylist[1] = 50\n",
    "    print('In function, after change:', mylist)\n",
    "\n",
    "# Call function\n",
    "mylist = [10,20,30]\n",
    "changeme(mylist)\n",
    "print('Outside function:',mylist)"
   ]
  },
  {
   "attachments": {},
   "cell_type": "markdown",
   "metadata": {},
   "source": [
    "---\n",
    "# P15-4 Lambda function"
   ]
  },
  {
   "cell_type": "code",
   "execution_count": null,
   "metadata": {},
   "outputs": [],
   "source": [
    "def func(arg1,arg2):\n",
    "    return arg1+arg2\n",
    "\n",
    "a = func(5,6)\n",
    "print(a)"
   ]
  },
  {
   "cell_type": "code",
   "execution_count": null,
   "metadata": {},
   "outputs": [],
   "source": [
    "sum_data = lambda arg1, arg2 : arg1+arg2   # 這個Lambda函數沒有名字，只是用了㇐個變數(sum_data)去參考這個Lambda函數\n",
    "print(sum_data(10, 20))"
   ]
  },
  {
   "cell_type": "code",
   "execution_count": null,
   "metadata": {},
   "outputs": [],
   "source": [
    "def func(x):\n",
    "    return x[3]\n",
    "\n",
    "lis1=['Mr.Tsao','Mr.Cheng','Mr.Lin','Mr.Wang','Mr.GAO','Mr.XIAO']\n",
    "lis1.sort(key=func) # P9-16\n",
    "lis1"
   ]
  },
  {
   "cell_type": "code",
   "execution_count": null,
   "metadata": {},
   "outputs": [],
   "source": [
    "lis1=['Mr.Tsao','Mr.Cheng','Mr.Lin','Mr.Wang','Mr.GAO','Mr.XIAO']\n",
    "lis1.sort(key=lambda x:x[3]) # P9-16\n",
    "lis1"
   ]
  },
  {
   "attachments": {},
   "cell_type": "markdown",
   "metadata": {},
   "source": [
    "---\n",
    "# &spades; 補充: "
   ]
  },
  {
   "attachments": {},
   "cell_type": "markdown",
   "metadata": {},
   "source": [
    "### 呼叫者(Caller) 與被呼叫者(Callee) 的引數彼此之間沒有別名(Alias) 的關係，所以沒有傳參考呼叫(Call-by-Reference) 的方式\n",
    "- #### Python 的 pass by assignment 還是使用C的Call-by-value的風格\n",
    "- #### 其實Python傳參數還是使用C的Call-by-value的風格，只是傳遞的是參考而非數值。但這也並非類似C++的Call-by-reference風格，所以才解釋為Pass-by-Assignment。\n",
    "- #### <a href='https://docs.python.org/3/faq/programming.html#how-do-i-write-a-function-with-output-parameters-call-by-reference'>How do I write a function with output parameters (call by reference)?</a>"
   ]
  },
  {
   "cell_type": "code",
   "execution_count": null,
   "metadata": {},
   "outputs": [],
   "source": [
    "def func2(a, b): \n",
    "    a = 'new-value' # a and b are local names\n",
    "    b = b + 1 # assigned to new objects\n",
    "    return a, b # return new values，x, y = 'old-value', 99\n",
    "\n",
    "x, y = 'old-value', 99 # x and y are aliasees of 'old-value' and 99\n",
    "w, z = func2(x, y)\n",
    "print(w, z) # output: new-value 100"
   ]
  },
  {
   "cell_type": "markdown",
   "metadata": {},
   "source": [
    "### 函式的遞迴(recursive)特色"
   ]
  },
  {
   "cell_type": "code",
   "execution_count": null,
   "metadata": {},
   "outputs": [],
   "source": [
    "def factorial(n):\n",
    "    answer = 0\n",
    "    if n>1:\n",
    "        oneLess = n-1\n",
    "        answer = n*factorial(oneLess)\n",
    "    else:\n",
    "        answer=1\n",
    "    return answer\n",
    "\n",
    "print(factorial(1))\n",
    "print(factorial(2))\n",
    "print(factorial(3))\n",
    "print(factorial(4))\n",
    "print(factorial(5))\n",
    "print(factorial(6))\n",
    "print(factorial(7))\n",
    "print(factorial(8))\n",
    "print(factorial(9))\n",
    "print(factorial(10))"
   ]
  }
 ],
 "metadata": {
  "kernelspec": {
   "display_name": "Python 3 (ipykernel)",
   "language": "python",
   "name": "python3"
  },
  "language_info": {
   "codemirror_mode": {
    "name": "ipython",
    "version": 3
   },
   "file_extension": ".py",
   "mimetype": "text/x-python",
   "name": "python",
   "nbconvert_exporter": "python",
   "pygments_lexer": "ipython3",
   "version": "3.8.10"
  }
 },
 "nbformat": 4,
 "nbformat_minor": 4
}
