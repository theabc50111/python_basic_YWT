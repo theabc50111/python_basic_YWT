{
 "cells": [
  {
   "cell_type": "markdown",
   "metadata": {},
   "source": [
    "#  <font color=red> Module_09_List</font>"
   ]
  },
  {
   "attachments": {},
   "cell_type": "markdown",
   "metadata": {},
   "source": [
    "# P9-2\n",
    "## List &rArr; 有序(sequence)、可變(mutable)\n",
    ">### P3-3<img src='./img/py_data_type_3.png'>"
   ]
  },
  {
   "cell_type": "code",
   "execution_count": null,
   "metadata": {},
   "outputs": [],
   "source": [
    "list1 = ['a', 'b', 'c', 'd']\n",
    "print(list1)\n",
    "list2='a b c d'.split() # 講義P5-13\n",
    "print(list2)\n",
    "list3 = ['bdse', 'aien', 2015, 2018]\n",
    "print(list3)\n",
    "list4 = []\n",
    "print(list4)"
   ]
  },
  {
   "attachments": {},
   "cell_type": "markdown",
   "metadata": {},
   "source": [
    "---\n",
    "# P9-3\n",
    "## 透過Index & Slice 來取得串列內的資料\n",
    "><img src=\"./img/list.png\"  style='height:250px; width:650px'>"
   ]
  },
  {
   "cell_type": "code",
   "execution_count": null,
   "metadata": {},
   "outputs": [],
   "source": [
    "names=['fraser', 'grace', 'john', 'jess', 'jack', 23.5, 2019]\n",
    "print('names =                  ', names)\n",
    "print('names[0] =               ', names[0])\n",
    "print('names[0][0] =            ', names[0][0], '\\n')\n",
    "\n",
    "print('names[5] =               ', names[5])\n",
    "print('names[-1] =              ', names[-1],'\\n')\n",
    "\n",
    "print('names[1:5] =             ', names[1:5])\n",
    "print('names[1:6:2] =           ', (names[1:6:2]))"
   ]
  },
  {
   "attachments": {},
   "cell_type": "markdown",
   "metadata": {},
   "source": [
    "---\n",
    "# P9-4\n",
    "## List 是Python 最多樣化的資料型態，List裡的內容可以放入任何型態 &rArr; List裡面就可以放入多層次的資料\n",
    "> <img src=\"./img/listNested.png\">"
   ]
  },
  {
   "cell_type": "code",
   "execution_count": null,
   "metadata": {},
   "outputs": [],
   "source": [
    "x=['a', ['bb', ['ccc', 'ddd'], 'ee', 'ff'], 'g', ['hh', 'ii'], 'j']\n",
    "print('x[1] :      ', x[1])\n",
    "print('x[1][1] :   ', x[1][1])\n",
    "print('x[1][1][0] :', x[1][1][0])\n",
    "print('x[3] :      ', x[3])"
   ]
  },
  {
   "attachments": {},
   "cell_type": "markdown",
   "metadata": {},
   "source": [
    "---\n",
    "# P9-5"
   ]
  },
  {
   "attachments": {},
   "cell_type": "markdown",
   "metadata": {},
   "source": [
    "## List 是可變的資料型態\n",
    "<details>\n",
    "    <summary style=\"text-align: 2em; font-size: 1.275em\">referenc on mutable object</summary>\n",
    "    <img src='./img/List_mutable.png' style= height:450px>\n",
    "</details>\n",
    "<details>\n",
    "    <summary style=\"text-align: 2em; font-size: 1.275em\">P3-10 比較 mutable & immutable 資料型態</summary>\n",
    "    <img src='./img/py_reference.gif' style= height:450px>\n",
    "</details>"
   ]
  },
  {
   "cell_type": "code",
   "execution_count": null,
   "metadata": {},
   "outputs": [],
   "source": [
    "names=['fraser', 'grace', 'john', 'jess', 'jack', 23.5, 2019]\n",
    "print('id of names :            ', id(names))\n",
    "\n",
    "names[2]='Kevin'\n",
    "print(\"names[2]='Kevin' :       \", names) # 修改\n",
    "print('id of names :            ', id(names))"
   ]
  },
  {
   "cell_type": "code",
   "execution_count": null,
   "metadata": {},
   "outputs": [],
   "source": [
    "names[-1:]=[2000, 23.5] # 一次改兩筆資料\n",
    "print('names[-1:]=[2000, 23.5] :', names) #list 可增加直接擴大\n",
    "\n",
    "print('id of names :            ', id(names))"
   ]
  },
  {
   "cell_type": "code",
   "execution_count": null,
   "metadata": {},
   "outputs": [],
   "source": [
    "a = 10\n",
    "print(id(a))\n",
    "a = 20\n",
    "print(id(a))"
   ]
  },
  {
   "attachments": {},
   "cell_type": "markdown",
   "metadata": {},
   "source": [
    "---\n",
    "# P9-6"
   ]
  },
  {
   "cell_type": "code",
   "execution_count": null,
   "metadata": {},
   "outputs": [],
   "source": [
    "[1, 2, 3] + [4, 5, 6]"
   ]
  },
  {
   "cell_type": "code",
   "execution_count": null,
   "metadata": {},
   "outputs": [],
   "source": [
    "['Hi!'] * 4"
   ]
  },
  {
   "cell_type": "code",
   "execution_count": null,
   "metadata": {},
   "outputs": [],
   "source": [
    "30 in [10, 20, 30]"
   ]
  },
  {
   "cell_type": "code",
   "execution_count": null,
   "metadata": {},
   "outputs": [],
   "source": [
    "a = [10, 20, 30]\n",
    "for x in a: \n",
    "    print (x, end = ' ')"
   ]
  },
  {
   "attachments": {},
   "cell_type": "markdown",
   "metadata": {},
   "source": [
    "---\n",
    "# P9-7 built-in function for List"
   ]
  },
  {
   "cell_type": "code",
   "execution_count": null,
   "metadata": {},
   "outputs": [],
   "source": [
    "lst=[20, 10, 30]\n",
    "\n",
    "print('lst =                       ', lst)\n",
    "print('len(lst) :                  ', len(lst))\n",
    "print('max(lst) :                  ', max(lst))\n",
    "print('min(lst) :                  ', min(lst))\n",
    "print('sum(lst) :                  ', sum(lst))\n",
    "print('sorted(lst):                ', sorted(lst))\n",
    "print('sorted(lst, reverse=True) : ', sorted(lst, reverse=True))"
   ]
  },
  {
   "cell_type": "code",
   "execution_count": null,
   "metadata": {},
   "outputs": [],
   "source": [
    "list('abcd')"
   ]
  },
  {
   "attachments": {},
   "cell_type": "markdown",
   "metadata": {},
   "source": [
    "---\n",
    "# P9-8 List methods"
   ]
  },
  {
   "cell_type": "code",
   "execution_count": null,
   "metadata": {
    "tags": []
   },
   "outputs": [],
   "source": [
    "a = [4, 777, 444, 999, 11, 4]\n",
    "\n",
    "print('id of a :                 ', id(a))\n",
    "\n",
    "a.append('1')\n",
    "print('a.append(1) :             ', a)\n",
    "\n",
    "b = a.count(4)\n",
    "print('a.count(4) :              ', b)\n",
    "\n",
    "a.clear()\n",
    "print('a.clear() :               ', a)"
   ]
  },
  {
   "attachments": {},
   "cell_type": "markdown",
   "metadata": {},
   "source": [
    "## P9-8 & P4-4:\n",
    "<details>\n",
    "    <summary>P4-4</summary>\n",
    "    <img src='./img/is_equal.png' style='height:400px'>\n",
    "</details>"
   ]
  },
  {
   "cell_type": "code",
   "execution_count": null,
   "metadata": {},
   "outputs": [],
   "source": [
    "li1=[1,2]\n",
    "li2=li1.copy()\n",
    "print('li2 id:', id(li2))\n",
    "print('li1 id:', id(li1))\n",
    "print('li2 == li1:', li2==li1)\n",
    "print('li2 is li1:', li2 is li1) # 數值雖然相同, 但記憶體位置不同"
   ]
  },
  {
   "attachments": {},
   "cell_type": "markdown",
   "metadata": {},
   "source": [
    "---\n",
    "# P9-9 List methods"
   ]
  },
  {
   "cell_type": "code",
   "execution_count": null,
   "metadata": {},
   "outputs": [],
   "source": [
    "a = [4, 777, 444, 999, 11, 45, 999, 66, 88, 73]\n",
    "b = ['aa', 'bb', 'cc']\n",
    "a.extend(b)\n",
    "print('a.extend(b) :             ', a)\n",
    "\n",
    "print('a.index(999) :            ', a.index(999))\n",
    "\n",
    "a.insert(5, 555)\n",
    "print('a.insert(5, 555) :        ', a)\n",
    "\n",
    "a.pop()                                       #刪除\n",
    "print('a.pop() :                 ', a)        \n",
    "\n",
    "a.pop(4)                                      #刪除\n",
    "print('a.pop(4) :                ', a)"
   ]
  },
  {
   "cell_type": "code",
   "execution_count": null,
   "metadata": {},
   "outputs": [],
   "source": [
    "a = [4, 777, 444, 999, 11, 45, 999, 66, 88, 73]\n",
    "b = ['aa', 'bb', 'cc']\n",
    "a.append(b)\n",
    "print('a.append(b) :             ', a)"
   ]
  },
  {
   "cell_type": "code",
   "execution_count": null,
   "metadata": {
    "tags": []
   },
   "outputs": [],
   "source": [
    "a = [4, 777, 444, 999, 11, 45, 999, 66, 88, 73]\n",
    "\n",
    "b = a.pop()\n",
    "print(b)\n",
    "print(a)\n",
    "\n",
    "c = a.pop()\n",
    "print(c)\n",
    "print(a)"
   ]
  },
  {
   "attachments": {},
   "cell_type": "markdown",
   "metadata": {},
   "source": [
    "---\n",
    "# P9-10 List methods"
   ]
  },
  {
   "cell_type": "code",
   "execution_count": null,
   "metadata": {},
   "outputs": [],
   "source": [
    "a = [4, 777, 444, 999, 11, 45, 66, 88, 73]\n",
    "\n",
    "a.remove(11)                                #刪除\n",
    "print('a.remove(11) :          ', a, '\\n')\n",
    "\n",
    "a.reverse()\n",
    "print('a.reverse :               ', a)"
   ]
  },
  {
   "cell_type": "code",
   "execution_count": null,
   "metadata": {
    "tags": []
   },
   "outputs": [],
   "source": [
    "b = ['saw', 'active', 'He', 'foxes', 'rich']\n",
    "b.sort(key=len)  # length\n",
    "b"
   ]
  },
  {
   "cell_type": "code",
   "execution_count": null,
   "metadata": {
    "tags": []
   },
   "outputs": [],
   "source": [
    "b.sort(key=max)\n",
    "print(b)\n",
    "print(max('He'),max('rich'),max('active'),max('saw'),max('foxes'))"
   ]
  },
  {
   "attachments": {},
   "cell_type": "markdown",
   "metadata": {},
   "source": [
    "---\n",
    "# &spades; 補充\n",
    "<img src='./img/list_reference.png' style='height:400px'>"
   ]
  },
  {
   "cell_type": "code",
   "execution_count": null,
   "metadata": {},
   "outputs": [],
   "source": [
    "names=['fraser', 'grace', 'john', 'jess', 'jack', 23.5, 2019]\n",
    "names2 = names\n",
    "print(id(names),id(names2))\n",
    "\n",
    "names2[2]='Kevin' # 更改names2，但是因為names2與names是參考到同一個記憶體位置，所以names會一起被修改。\n",
    "print(names)         "
   ]
  }
 ],
 "metadata": {
  "kernelspec": {
   "display_name": "Python 3",
   "language": "python",
   "name": "python3"
  },
  "language_info": {
   "codemirror_mode": {
    "name": "ipython",
    "version": 3
   },
   "file_extension": ".py",
   "mimetype": "text/x-python",
   "name": "python",
   "nbconvert_exporter": "python",
   "pygments_lexer": "ipython3",
   "version": "3.8.10"
  },
  "vscode": {
   "interpreter": {
    "hash": "916dbcbb3f70747c44a77c7bcd40155683ae19c65e1c03b4aa3499c5328201f1"
   }
  }
 },
 "nbformat": 4,
 "nbformat_minor": 4
}
