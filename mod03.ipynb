{
 "cells": [
  {
   "cell_type": "markdown",
   "metadata": {},
   "source": [
    "#  <font color=red> Module_03_Python數值資料型態</font>"
   ]
  },
  {
   "cell_type": "markdown",
   "metadata": {},
   "source": [
    "# P3-2\n",
    ">## Object(物件) 三要素 : \n",
    ">>### 1.  id (記憶體位置)\n",
    ">>### 2.  value (1, 2.0, 'john')\n",
    ">>### 3.  type (int, float, str...)\n",
    ">> <img src=\"./img/memoryIndex.jpg\"><br>\n",
    ">>> #### ps. 當整數介於-5~255之間，python預設會共用記憶體(https://docs.python.org/3/c-api/long.html#c.PyLong_FromLong)"
   ]
  },
  {
   "cell_type": "code",
   "execution_count": null,
   "metadata": {},
   "outputs": [],
   "source": [
    "a = 7\n",
    "b = 7\n",
    "c = 7.\n",
    "# type\n",
    "print(type(a))\n",
    "print(type(b))\n",
    "print(type(c))"
   ]
  },
  {
   "cell_type": "code",
   "execution_count": null,
   "metadata": {},
   "outputs": [],
   "source": [
    "# memmory address\n",
    "print(id(a))  # 記憶體位置 memory address\n",
    "print(id(b))  # 記憶體位置 memory address\n",
    "print(id(c))  # 記憶體位置 memory address"
   ]
  },
  {
   "cell_type": "code",
   "execution_count": null,
   "metadata": {},
   "outputs": [],
   "source": [
    "# values\n",
    "print(a)\n",
    "print(b)\n",
    "print(c)"
   ]
  },
  {
   "attachments": {},
   "cell_type": "markdown",
   "metadata": {},
   "source": [
    "---\n",
    "# P3-3\n",
    "<img src='./img/py_data_type_3.png'>"
   ]
  },
  {
   "attachments": {},
   "cell_type": "markdown",
   "metadata": {},
   "source": [
    "---\n",
    "# P3-5 & P3-6 & P3-7 Numeric Type"
   ]
  },
  {
   "cell_type": "code",
   "execution_count": null,
   "metadata": {},
   "outputs": [],
   "source": [
    "a=2**100 # integer won't overflow in python\n",
    "a"
   ]
  },
  {
   "cell_type": "code",
   "execution_count": null,
   "metadata": {},
   "outputs": [],
   "source": [
    "print(0b10)\n",
    "print(0o10)\n",
    "print(0x10)\n",
    "print(2.5e3)\n",
    "print(2.5e+3)\n",
    "print(2.5e-3)"
   ]
  },
  {
   "cell_type": "code",
   "execution_count": null,
   "metadata": {},
   "outputs": [],
   "source": [
    "2.5e2+18.3e-2j"
   ]
  },
  {
   "attachments": {},
   "cell_type": "markdown",
   "metadata": {},
   "source": [
    "---\n",
    "# P3-8 Numeric Type Transformation"
   ]
  },
  {
   "cell_type": "code",
   "execution_count": null,
   "metadata": {},
   "outputs": [],
   "source": [
    "a=2\n",
    "b=1.777\n",
    "c=1.333\n",
    "print(float(a))\n",
    "print(int(b)) # 無條件捨去小數\n",
    "print(int(c))"
   ]
  },
  {
   "cell_type": "code",
   "execution_count": null,
   "metadata": {},
   "outputs": [],
   "source": [
    "print(int('123'))\n",
    "print(int('1.23'))"
   ]
  },
  {
   "cell_type": "code",
   "execution_count": null,
   "metadata": {},
   "outputs": [],
   "source": [
    "print(float('123'))\n",
    "print(float('1.23'))"
   ]
  },
  {
   "attachments": {},
   "cell_type": "markdown",
   "metadata": {},
   "source": [
    "---\n",
    "# P3-9\n",
    ">### - <font color=red>布林值屬於整數型態的子型態</font>"
   ]
  },
  {
   "cell_type": "code",
   "execution_count": null,
   "metadata": {},
   "outputs": [],
   "source": [
    "print(1+True) # 布林值屬於整數型態的子型態"
   ]
  },
  {
   "cell_type": "code",
   "execution_count": null,
   "metadata": {},
   "outputs": [],
   "source": [
    "print(0+False)"
   ]
  },
  {
   "attachments": {},
   "cell_type": "markdown",
   "metadata": {},
   "source": [
    "- ### 在python中執行條件判斷時採用廣義布林值(如if判斷式、while迴圈、布林運算)\n",
    "><img src='./img/bool_in_py.png'  style='height:300px;'>\n",
    "- #### bool() 將資料轉為布林值"
   ]
  },
  {
   "cell_type": "code",
   "execution_count": null,
   "metadata": {},
   "outputs": [],
   "source": [
    "print(bool(''))"
   ]
  },
  {
   "cell_type": "code",
   "execution_count": null,
   "metadata": {},
   "outputs": [],
   "source": [
    "print(bool([]))"
   ]
  },
  {
   "cell_type": "code",
   "execution_count": null,
   "metadata": {},
   "outputs": [],
   "source": [
    "print(bool('123'))"
   ]
  },
  {
   "attachments": {},
   "cell_type": "markdown",
   "metadata": {},
   "source": [
    "---\n",
    "# P3-10 Refenence\n",
    "<details>\n",
    "    <summary>改變前</summary>\n",
    "    <img src='./img/py_reference1_1.png' style='width:500px;'> \n",
    "</details>\n",
    "<details>\n",
    "    <summary>改變後</summary>\n",
    "    <img src='./img/py_reference1_2.png'  style='width:500px'>\n",
    "</details>"
   ]
  },
  {
   "cell_type": "code",
   "execution_count": null,
   "metadata": {},
   "outputs": [],
   "source": [
    "a = b = 10\n",
    "print(id(a))\n",
    "print(id(b))\n",
    "print(id(10))"
   ]
  },
  {
   "cell_type": "code",
   "execution_count": null,
   "metadata": {},
   "outputs": [],
   "source": [
    "a = 20 # 改變數值資料型態的值，其實是參考到另㇐個新建立的物件\n",
    "print(id(a))\n",
    "print(id(20))\n",
    "print(id(b))\n",
    "print(id(10))"
   ]
  },
  {
   "attachments": {},
   "cell_type": "markdown",
   "metadata": {},
   "source": [
    "---\n",
    "# &spades; 補充"
   ]
  },
  {
   "attachments": {},
   "cell_type": "markdown",
   "metadata": {},
   "source": [
    "## 廣義的布林值 vs. 狹義的布林值"
   ]
  },
  {
   "cell_type": "code",
   "execution_count": null,
   "metadata": {},
   "outputs": [],
   "source": [
    "print(0 == False)  # 布林值屬於整數型態的子型態 \n",
    "print(bool([]) == False)  # Empty list 屬於廣義上的False，所以透過bool()轉換[]可以得到False\n",
    "print(bool([]) == 0)  # 布林值屬於整數型態的子型態\n",
    "print([] == 0)  # Empty list 是廣義上的False，但是在透過bool()轉換之前，Empty list並非True"
   ]
  }
 ],
 "metadata": {
  "kernelspec": {
   "display_name": "Python 3",
   "language": "python",
   "name": "python3"
  },
  "language_info": {
   "codemirror_mode": {
    "name": "ipython",
    "version": 3
   },
   "file_extension": ".py",
   "mimetype": "text/x-python",
   "name": "python",
   "nbconvert_exporter": "python",
   "pygments_lexer": "ipython3",
   "version": "3.8.10"
  },
  "vscode": {
   "interpreter": {
    "hash": "916dbcbb3f70747c44a77c7bcd40155683ae19c65e1c03b4aa3499c5328201f1"
   }
  }
 },
 "nbformat": 4,
 "nbformat_minor": 4
}
