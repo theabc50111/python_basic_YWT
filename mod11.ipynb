{
 "cells": [
  {
   "cell_type": "markdown",
   "metadata": {},
   "source": [
    "#  <font color=red> Module_11_Dictionary </font>"
   ]
  },
  {
   "attachments": {},
   "cell_type": "markdown",
   "metadata": {},
   "source": [
    "# P11-2"
   ]
  },
  {
   "attachments": {},
   "cell_type": "markdown",
   "metadata": {},
   "source": [
    "## Key 與 value 用冒號(:) 隔開，每個項目以逗點隔開，最後整個字典用大括號括起來"
   ]
  },
  {
   "cell_type": "code",
   "execution_count": null,
   "metadata": {},
   "outputs": [],
   "source": [
    "d1={'Apple':'蘋果', 'Banana':'香蕉'}\n",
    "d1"
   ]
  },
  {
   "attachments": {},
   "cell_type": "markdown",
   "metadata": {},
   "source": [
    "## Dictionary &rArr; 無序(Non-sequence)、可變(mutable)\n",
    "<details>\n",
    "    <summary style=\"margin-left: 2em; font-size: 1.5em;\">P3-3</summary>\n",
    "    <img src='./img/py_data_type_3.png'>\n",
    "</details>"
   ]
  },
  {
   "cell_type": "markdown",
   "metadata": {},
   "source": [
    "### 字典內的 values 可以是任意的資料型態，但 keys 必須是不可變的(immutable) 資料型態"
   ]
  },
  {
   "cell_type": "code",
   "execution_count": null,
   "metadata": {},
   "outputs": [],
   "source": [
    "dict1 = {'A':\"a\", 'B':[1,2,3], 'C':(1,2,3), 'D':{'AA':'aa', 'BB':'bb'}}\n",
    "dict2 = {1:\"a\", 2:'b'}\n",
    "dict3 = {(0,1):'a', (0,2):'b'}\n",
    "print('dict1 :', dict1)\n",
    "print('dict2 :', dict2)\n",
    "print('dict3 :', dict3)"
   ]
  },
  {
   "cell_type": "markdown",
   "metadata": {},
   "source": [
    "### 字典是無序的"
   ]
  },
  {
   "cell_type": "code",
   "execution_count": null,
   "metadata": {},
   "outputs": [],
   "source": [
    "d1={'name':'John', 'age':30}\n",
    "d2={'age':30, 'name':'John'}\n",
    "\n",
    "print(d1==d2) # 字典是無序的"
   ]
  },
  {
   "cell_type": "code",
   "execution_count": null,
   "metadata": {},
   "outputs": [],
   "source": [
    "d3={'A':1, 'B':2, 'C':3, 'D':4, 'E':5}\n",
    "d3[:3]"
   ]
  },
  {
   "attachments": {},
   "cell_type": "markdown",
   "metadata": {},
   "source": [
    "---\n",
    "# P11-3"
   ]
  },
  {
   "attachments": {},
   "cell_type": "markdown",
   "metadata": {},
   "source": [
    "### 利用Key取得想要的資料"
   ]
  },
  {
   "cell_type": "code",
   "execution_count": null,
   "metadata": {},
   "outputs": [],
   "source": [
    "d1={'Apple':'蘋果', 'Banana':'香蕉'}\n",
    "print(d1['Apple'])\n",
    "print(d1['Banana'])\n",
    "print(d1['Cat']) # 沒有'Cat'這個 Key => 引發KeyError"
   ]
  },
  {
   "attachments": {},
   "cell_type": "markdown",
   "metadata": {},
   "source": [
    "### keys 最好設成唯㇐，但 values 可以相同\n",
    "><img src='./img/key_value_pair.png' style=\"height:300px\">"
   ]
  },
  {
   "cell_type": "code",
   "execution_count": null,
   "metadata": {},
   "outputs": [],
   "source": [
    "d1={'A':'a', 'B':'b', 'A':1}\n",
    "print(\"d1['A'] : \", d1['A']) # Key 重複的話，無法取出'a'，只能取出1"
   ]
  },
  {
   "cell_type": "code",
   "execution_count": null,
   "metadata": {},
   "outputs": [],
   "source": [
    "d2={'A':1, 'B':1}\n",
    "print(\"d2['A'] : \", d2['A']) # Key 'A' 與 Key 'B'的values都是1\n",
    "print(\"d2['B'] : \", d2['B'])"
   ]
  },
  {
   "attachments": {},
   "cell_type": "markdown",
   "metadata": {},
   "source": [
    "### Key 盡可能不要用數值格式。請用字串(String)作為Keys，這樣後續比較容易整合其他Lib。"
   ]
  },
  {
   "cell_type": "code",
   "execution_count": null,
   "metadata": {},
   "outputs": [],
   "source": [
    "dt = {1:'Python', 2:'Java', 3:'C'}\n",
    "dt[1] # dt[1] 的寫法會誤以為字典可以使用索引功能。"
   ]
  },
  {
   "attachments": {},
   "cell_type": "markdown",
   "metadata": {},
   "source": [
    "---\n",
    "# P11-4"
   ]
  },
  {
   "cell_type": "code",
   "execution_count": null,
   "metadata": {},
   "outputs": [],
   "source": [
    "dict1 = {'one':1, 'two':2, \"three\":3}\n",
    "\n",
    "dict1['two'] = 7 # 修改\n",
    "print(\"dict1['two'] = 7 : \", dict1)    \n",
    "\n",
    "dict1['four']=7 # 新增 \n",
    "print(\"dict1['four'] = 7 :\", dict1) "
   ]
  },
  {
   "cell_type": "code",
   "execution_count": null,
   "metadata": {},
   "outputs": [],
   "source": [
    "dict1 = {'one':1, 'two':2, \"three\":3}\n",
    "print(\"'two' in dict1 : \", 'two' in dict1)\n",
    "print(\"3 in dict1 :     \", 3 in dict1) # 成員運算子只會看Key值"
   ]
  },
  {
   "cell_type": "markdown",
   "metadata": {},
   "source": [
    "---"
   ]
  },
  {
   "attachments": {},
   "cell_type": "markdown",
   "metadata": {},
   "source": [
    "# P11-5 Delete Dictionary"
   ]
  },
  {
   "cell_type": "code",
   "execution_count": null,
   "metadata": {},
   "outputs": [],
   "source": [
    "dict1 = {'Name': 'III', 'Year': 1979, 'Class': 'A'}\n",
    "\n",
    "del dict1['Class']\n",
    "print(\"del dict1['Class'] : \", dict1)\n",
    "\n",
    "dict1.clear()   # empty dict1\n",
    "print('dict1.clear() :      ', dict1)\n",
    "\n",
    "del dict1      # del dict1.  dict1 is gone\n",
    "print('del dict1 :        ', dict1)   # error since there is no dict1"
   ]
  },
  {
   "cell_type": "code",
   "execution_count": null,
   "metadata": {},
   "outputs": [],
   "source": [
    "a = 10\n",
    "print(a)\n",
    "del a # del可以將建立過的變數(識別字)直接刪除\n",
    "print(a)"
   ]
  },
  {
   "attachments": {},
   "cell_type": "markdown",
   "metadata": {},
   "source": [
    "---\n",
    "# P11-6 & P11-7 Built-in function for Dictionary"
   ]
  },
  {
   "cell_type": "code",
   "execution_count": null,
   "metadata": {},
   "outputs": [],
   "source": [
    "a= {'num':77, 'num1': 85, 'nums': [1,2,3]}\n",
    "\n",
    "print('len(a) :     ', len(a)) # 計算Key的數量\n",
    "print('max(a) :     ', max(a)) # 找出最大的Key\n",
    "print('min(a) :     ', min(a)) # 找出最小的Key\n",
    "print('sorted(a) :  ', sorted(a)) # 根據Key排序"
   ]
  },
  {
   "cell_type": "code",
   "execution_count": null,
   "metadata": {},
   "outputs": [],
   "source": [
    "dict1 = dict(one=1, two=2, three=3) # 以**kwarg的形式建立，先有個認識就好，後面會介紹\n",
    "print(dict1)"
   ]
  },
  {
   "cell_type": "code",
   "execution_count": null,
   "metadata": {},
   "outputs": [],
   "source": [
    "dict2 = dict([('one', 1), ('two', 2), ('three', [3, 'III', '三'])]) # 以iterable 物件的內容建立\n",
    "print(dict2)"
   ]
  },
  {
   "attachments": {},
   "cell_type": "markdown",
   "metadata": {},
   "source": [
    "---\n",
    "# P11-8  Dictionary methods"
   ]
  },
  {
   "cell_type": "code",
   "execution_count": null,
   "metadata": {},
   "outputs": [],
   "source": [
    "d1 ={'a': 'apple', 'b':'banana'}\n",
    "print('d1 =           ', d1)\n",
    "\n",
    "d2 = d1.copy() # copy has diff memory address\n",
    "print('d2 =           ', d2)\n",
    "print('d1 is d2 :     ', d1 is d2)\n",
    "print('d1 == d2 :     ', d1 == d2)\n",
    "\n",
    "d3 = d1 # point to same address\n",
    "print('d3 :           ', d3)\n",
    "print('d3 is d1 :     ', d3 is d1)"
   ]
  },
  {
   "cell_type": "code",
   "execution_count": null,
   "metadata": {},
   "outputs": [],
   "source": [
    "a= {'num':77, 'num1': 85, 'nums': [1,2,3]} # dict\n",
    "print(a.get('num')) # 取得 “key” 對應的值\n",
    "print(a['num'])"
   ]
  },
  {
   "cell_type": "code",
   "execution_count": null,
   "metadata": {},
   "outputs": [],
   "source": [
    "print(a.get('aaaaaaaaa', 'No item')) # 如果 “key” 不存在則傳回 default 值\n",
    "print(a.get('aaaaaaaaa')) # 如果 “key” 不存在，也沒有設定default 值 =>回傳None\n",
    "print(a['aaaaaaaaa']) # KeyError"
   ]
  },
  {
   "cell_type": "code",
   "execution_count": null,
   "metadata": {},
   "outputs": [],
   "source": [
    "a = {'num':77, 'num1': 85, 'nums': [1,2,3]}  \n",
    "\n",
    "print(a.setdefault('num', 12345)) # 如果 “key” 存在則取用該Key值對應的Value"
   ]
  },
  {
   "cell_type": "code",
   "execution_count": null,
   "metadata": {},
   "outputs": [],
   "source": [
    "print(a.setdefault('aaaaaa', 12345)) # 如果 “key” 不存在則會產生㇐個新的 dict[key]=default的項目\n",
    "print(a)"
   ]
  },
  {
   "attachments": {},
   "cell_type": "markdown",
   "metadata": {},
   "source": [
    "---\n",
    "# P11-9 Dictionary methods"
   ]
  },
  {
   "cell_type": "code",
   "execution_count": null,
   "metadata": {},
   "outputs": [],
   "source": [
    "dict1 = {'star trek':'John Doe','Starwars':'Jedi'}\n",
    "a = {'age':[1966,1977]}\n",
    "\n",
    "print((dict1.items())) # ㇐個 (key, value) tuple 配對的dict_items\n",
    "print(list(dict1.items()),'\\n') # 將dict_items轉成List\n",
    "\n",
    "print(dict1.keys()) # 得到dict_keys\n",
    "print(list(dict1.keys()),'\\n') # 將dict_keys轉成List\n",
    "\n",
    "print(dict1.values()) # 得到dict_values\n",
    "print(list(dict1.values()),'\\n') # 將dict_values轉成List"
   ]
  },
  {
   "cell_type": "code",
   "execution_count": null,
   "metadata": {},
   "outputs": [],
   "source": [
    "dict1.update(a) # 將 other 字典加到 dict 內\n",
    "print('update(a) :  ', dict1)"
   ]
  },
  {
   "attachments": {},
   "cell_type": "markdown",
   "metadata": {},
   "source": [
    "---\n",
    "# P11-10 Dictionary methods"
   ]
  },
  {
   "cell_type": "code",
   "execution_count": null,
   "metadata": {},
   "outputs": [],
   "source": [
    "dict1 = {'A':1,'B':2, 'C':3, 'E':5}\n",
    "\n",
    "print(dict1.pop('B'))\n",
    "print('pop(\"B\") :', dict1)"
   ]
  },
  {
   "cell_type": "code",
   "execution_count": null,
   "metadata": {},
   "outputs": [],
   "source": [
    "dict1['D'] = 4 # dict 無順序\n",
    "print(dict1)\n",
    "print(dict1.popitem())  # 後進先出\n",
    "print('popitem() :  ', dict1)"
   ]
  },
  {
   "attachments": {},
   "cell_type": "markdown",
   "metadata": {},
   "source": [
    "---\n",
    "# P11-11"
   ]
  },
  {
   "cell_type": "code",
   "execution_count": null,
   "metadata": {},
   "outputs": [],
   "source": [
    "char_counts = {}\n",
    "word = 'this is a letters about Python learning'\n",
    "for char in word:\n",
    "    char_counts[char] = word.count(char)  \n",
    "\n",
    "char_counts"
   ]
  },
  {
   "cell_type": "code",
   "execution_count": null,
   "metadata": {},
   "outputs": [],
   "source": [
    "word = 'this is a letters about Python learning'\n",
    "char_counts = {char : word.count(char) for char in word}\n",
    "char_counts"
   ]
  },
  {
   "attachments": {},
   "cell_type": "markdown",
   "metadata": {},
   "source": [
    "---\n",
    "# &spades; 補充 \n",
    "### 使用dict()，以Mapping 的形式建立 dictionary"
   ]
  },
  {
   "cell_type": "code",
   "execution_count": null,
   "metadata": {},
   "outputs": [],
   "source": [
    "list(zip(['one', 'two', 'three'], [1, 2, 3]))"
   ]
  },
  {
   "cell_type": "code",
   "execution_count": null,
   "metadata": {},
   "outputs": [],
   "source": [
    "dic1 = dict(zip(['one', 'two', 'three'], [1, 2, 3]))\n",
    "dic1"
   ]
  }
 ],
 "metadata": {
  "kernelspec": {
   "display_name": "Python 3",
   "language": "python",
   "name": "python3"
  },
  "language_info": {
   "codemirror_mode": {
    "name": "ipython",
    "version": 3
   },
   "file_extension": ".py",
   "mimetype": "text/x-python",
   "name": "python",
   "nbconvert_exporter": "python",
   "pygments_lexer": "ipython3",
   "version": "3.8.10"
  },
  "vscode": {
   "interpreter": {
    "hash": "916dbcbb3f70747c44a77c7bcd40155683ae19c65e1c03b4aa3499c5328201f1"
   }
  }
 },
 "nbformat": 4,
 "nbformat_minor": 4
}
