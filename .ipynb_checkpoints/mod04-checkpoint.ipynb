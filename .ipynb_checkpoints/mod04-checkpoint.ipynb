{
 "cells": [
  {
   "cell_type": "markdown",
   "metadata": {},
   "source": [
    "#  <font color=red> Module_04_Python運算子</font>"
   ]
  },
  {
   "cell_type": "markdown",
   "metadata": {},
   "source": [
    "# P4-3"
   ]
  },
  {
   "cell_type": "code",
   "execution_count": null,
   "metadata": {},
   "outputs": [],
   "source": [
    "x = 2\n",
    "print('x == 2 : ', x == 2) # 用逗號隔開要輸出的元素 print(a,b)\n",
    "print('x != 2 : ', x != 2)\n",
    "print('x < 5  : ', x < 5)\n",
    "print('x > 2  : ', x > 2)\n",
    "print('x <= 2 : ', x <= 2)\n",
    "print('x >= 2 : ', x >= 2)"
   ]
  },
  {
   "cell_type": "markdown",
   "metadata": {},
   "source": [
    "---"
   ]
  },
  {
   "cell_type": "markdown",
   "metadata": {},
   "source": [
    "# P4-4\n",
    ">### `4 <= 6 > 7`  : 這種寫法只有在Python中適用，其他語言不一定適用"
   ]
  },
  {
   "cell_type": "code",
   "execution_count": null,
   "metadata": {},
   "outputs": [],
   "source": [
    "print('4 <= 6 > 7 :       ', 4 <= 6 > 7)\n",
    "print('4 <= 6 and 6 > 7 : ', 4<= 6 and 6>7)  # 6 > 7 false"
   ]
  },
  {
   "cell_type": "code",
   "execution_count": null,
   "metadata": {},
   "outputs": [],
   "source": [
    "print('5 > 6 > 3 :        ', 5 > 6 > 3)\n",
    "print('8 > 6 > 3 :        ', 8 > 6 > 3)"
   ]
  },
  {
   "cell_type": "markdown",
   "metadata": {},
   "source": [
    "---"
   ]
  },
  {
   "attachments": {
    "b2318c88-7415-4873-8980-638f7e7a697d.png": {
     "image/png": "[encoded data removed]"
    }
   },
   "cell_type": "markdown",
   "metadata": {},
   "source": [
    "![truth_value.png](attachment:b2318c88-7415-4873-8980-638f7e7a697d.png)# P4-5 \n",
    "## 真值表 (Truth Table)\n",
    "><img src=\"./img/truth_value.png\"  style='height:400px;'>"
   ]
  },
  {
   "cell_type": "code",
   "execution_count": null,
   "metadata": {},
   "outputs": [],
   "source": [
    "x = True\n",
    "y = False\n",
    "print('not x :   ', not x)\n",
    "print('x and y : ', x and y)\n",
    "print('x or y :  ', x or y)"
   ]
  },
  {
   "cell_type": "markdown",
   "metadata": {},
   "source": [
    "---"
   ]
  },
  {
   "cell_type": "markdown",
   "metadata": {},
   "source": [
    "# P4-6"
   ]
  },
  {
   "cell_type": "markdown",
   "metadata": {},
   "source": [
    "### 在執行一連串運算的時候會從左至右運算\n",
    "><img src=\"./img/logic_operator_order.png\"  style='height:100px;'>"
   ]
  },
  {
   "cell_type": "markdown",
   "metadata": {},
   "source": [
    "## and 運算\n",
    "### eg.飛彈發射系統 &rArr; 所有高官要員直到最後一關的總統都要同意，才能發射\n",
    "><img src=\"./img/logic_operator_and.png\"  style='height:500px;'>"
   ]
  },
  {
   "cell_type": "code",
   "execution_count": null,
   "metadata": {},
   "outputs": [],
   "source": [
    "print(True and True and True and True and True and True and True and True)\n",
    "print(True and True and False and True and True and True and True and True) # False 後的就不需要再判斷了"
   ]
  },
  {
   "cell_type": "code",
   "execution_count": null,
   "metadata": {
    "tags": []
   },
   "outputs": [],
   "source": [
    "# 可以推廣到廣義布林值\n",
    "print(1 and 2 and 3 and 4 and 5 and 6)\n",
    "print(1 and 2 and 0 and 4 and 5 and 6) # False 後的就不需要再判斷了"
   ]
  },
  {
   "cell_type": "markdown",
   "metadata": {},
   "source": [
    "## or 運算\n",
    "### eg.FB社團加入系統 &rArr; 所有的社員中只要有一個同意，就能讓新會員加入\n",
    "><img src=\"./img/logic_operator_or.png\"  style='height:500px;'>"
   ]
  },
  {
   "cell_type": "code",
   "execution_count": null,
   "metadata": {},
   "outputs": [],
   "source": [
    "print(False or False or False or False or False or False or False or False) \n",
    "print(False or False or True or False or False or False or False or False) # True後的就不需要再判斷了"
   ]
  },
  {
   "cell_type": "code",
   "execution_count": null,
   "metadata": {
    "tags": []
   },
   "outputs": [],
   "source": [
    "# 可以推廣到廣義布林值\n",
    "print(0 or 0.0 or 0 or 0 or 0.0 or 0)\n",
    "print(0 or 0 or 1 or 0 or 0 or 0.0) # True後的就不需要再判斷了"
   ]
  },
  {
   "cell_type": "markdown",
   "metadata": {},
   "source": [
    "## and 運算的時候:\n",
    "- 當 and左邊 結果為True時，才會評估and右邊的數值，且<font color=red>and運算的結果由and右邊數值決定</font> \n",
    "- 當 and左邊 結果為False時，and右邊的數值就不需要去評估了，<font color=red>而and運算的結果就是False</font>\n",
    "><img src=\"./img/logic_and_quick.png\"  style='height:300px;'>"
   ]
  },
  {
   "cell_type": "code",
   "execution_count": null,
   "metadata": {},
   "outputs": [],
   "source": [
    "# 若 and左邊 為 Ture =>代表and運算的結果將由and右邊的數值決定!!\n",
    "print('True and 6 :', True and 6) # 如果and右邊的數值是True(廣義True)那and運算的結果就是True(廣義)\n",
    "print('True and 0 :', True and 0) # 如果and右邊的數值是False(廣義False)那and運算的結果就是False(廣義)\n",
    "\n",
    "print('False and 6 :', False and 6) # 若 and左邊 為 False =>代表and運算的結果就是False，也不需要再另外運算and右邊數值了"
   ]
  },
  {
   "cell_type": "code",
   "execution_count": null,
   "metadata": {},
   "outputs": [],
   "source": [
    "print('5 and 6 :', 5 and 6)\n",
    "print('5 and 0 :', 5 and 0)\n",
    "print('0 and 6 :', 0 and 6)\n",
    "print('0 and 0.0 :', 0 and 0.0)"
   ]
  },
  {
   "cell_type": "markdown",
   "metadata": {},
   "source": [
    "## or 運算的時候:\n",
    "- 當 or左邊 結果為False時，才會評估or右邊的值，且<font color=red>or運算的結果由or右邊的值決定</font>  \n",
    "- 當 or左邊 結果為True時，or右邊的值就不需要評估了，而<font color=red>or運算的結果就是True</font>  \n",
    "><img src=\"./img/logic_or_quick.png\"  style='height:300px;'>"
   ]
  },
  {
   "cell_type": "code",
   "execution_count": null,
   "metadata": {},
   "outputs": [],
   "source": [
    "# 若 or左邊 為 False =>代表or運算的結果將由or的右邊數值決定!!\n",
    "print('False or 6  :', False or 6) # 如果or的右邊是True(廣義True)那or運算的結果值就是True(廣義)\n",
    "print('False or 0  :', False or 0) # 如果or的右邊是False(廣義False)那or運算的結果就是False(廣義)\n",
    "\n",
    "print('True or 6  :', True or 6) # 若 or左邊 為 Ture =>代表or運算的結果就是True，也不需要再另外運算or右邊的數值了"
   ]
  },
  {
   "cell_type": "code",
   "execution_count": null,
   "metadata": {},
   "outputs": [],
   "source": [
    "print('5 or 6  :', 5 or 6)\n",
    "print('5 or 0  :', 5 or 0)\n",
    "print('0 or 5  :', 0 or 5)\n",
    "print('0 or 0.0  :', 0 or 0.0)"
   ]
  },
  {
   "cell_type": "markdown",
   "metadata": {},
   "source": [
    "---"
   ]
  },
  {
   "cell_type": "markdown",
   "metadata": {},
   "source": [
    "# P4-9\n",
    "## `is` 與 `==` 的差別\n",
    ">### `is` &rArr; 判斷兩個物件的id是否相同\n",
    ">### `==` &rArr; 判斷兩個物件的value是否相同\n",
    "---\n",
    "## 下圖為下列程式碼說明圖:\n",
    "<img src='./img/is_equal.png' style='height:500px'>"
   ]
  },
  {
   "cell_type": "code",
   "execution_count": null,
   "metadata": {},
   "outputs": [],
   "source": [
    "li1 = [1,2]\n",
    "li2 = li1.copy()\n",
    "print('li2 id:    ', id(li2))\n",
    "print('li1 id:    ', id(li1))\n",
    "print('li2 == li1:', li2 == li1)\n",
    "print('li2 is li1:', li2 is li1)"
   ]
  },
  {
   "cell_type": "markdown",
   "metadata": {},
   "source": [
    "---"
   ]
  },
  {
   "cell_type": "markdown",
   "metadata": {
    "tags": []
   },
   "source": [
    "# P4-11\n",
    "## 二進位說明\n",
    "> <img src='./img/binary01.png'>\n"
   ]
  },
  {
   "cell_type": "markdown",
   "metadata": {},
   "source": [
    "---"
   ]
  },
  {
   "cell_type": "markdown",
   "metadata": {},
   "source": [
    "# P4-13"
   ]
  },
  {
   "cell_type": "code",
   "execution_count": null,
   "metadata": {},
   "outputs": [],
   "source": [
    "k=60\n",
    "print('60 in binary :  ',bin(k))\n",
    "print('60 << 3 in bin :',bin(k<<3),'; 60 << 3 in 十進位 :',k<<3)\n",
    "print('60*2**3 :       ',k*2**3)"
   ]
  },
  {
   "cell_type": "code",
   "execution_count": null,
   "metadata": {},
   "outputs": [],
   "source": [
    "print('60 >> 3 in bin:',bin(k>>3),'; 60 >> 3 in 十進位 :',k>>3)\n",
    "print('60/2**3 :      ',k/2**3)"
   ]
  },
  {
   "cell_type": "markdown",
   "metadata": {},
   "source": [
    "---"
   ]
  },
  {
   "cell_type": "markdown",
   "metadata": {},
   "source": [
    "# P4-14\n",
    "### &運算 說明圖\n",
    "><img src=\"./img/binary.png\"  style='height:350px; width:750px'></img>\n",
    "---\n",
    "### `and` 與 `&`是不同的，`and`是邏輯運算子，`&`是位元運算子"
   ]
  },
  {
   "cell_type": "code",
   "execution_count": null,
   "metadata": {},
   "outputs": [],
   "source": [
    "print(60 & 13)\n",
    "print(60 and 13) # P4-6的概念，如果and左邊是True，and運算的結果由右邊決定"
   ]
  },
  {
   "cell_type": "code",
   "execution_count": null,
   "metadata": {},
   "outputs": [],
   "source": [
    "print(60 | 13)\n",
    "print(60 ^ 13)"
   ]
  },
  {
   "cell_type": "markdown",
   "metadata": {},
   "source": [
    "---"
   ]
  },
  {
   "cell_type": "markdown",
   "metadata": {},
   "source": [
    "# P4-16\n",
    "## 運算子優先順序 :\n",
    "https://docs.python.org/3/reference/expressions.html#operator-precedence\n",
    "\n",
    "> <img src=\"./img/OpPriority_2.png\">"
   ]
  },
  {
   "cell_type": "code",
   "execution_count": null,
   "metadata": {},
   "outputs": [],
   "source": [
    "a=0\n",
    "b=1\n",
    "print(not a+b,(not a)+b) # “not” 運算子的優先順序較低\n",
    "                         # not a+b -> 相當於not(a+b) -> not(1) -> False\n",
    "                         # (not a)+b -> (1)+1 -> 2"
   ]
  },
  {
   "cell_type": "code",
   "execution_count": null,
   "metadata": {},
   "outputs": [],
   "source": [
    "print('30 < 5+5*4 :', 30 < 5+5*4)"
   ]
  },
  {
   "cell_type": "code",
   "execution_count": null,
   "metadata": {},
   "outputs": [],
   "source": [
    "a, b = 0, 9\n",
    "print(a>10|b<15) # a>11<15 => Flase\n",
    "print((a>10)|(b<15)) # 0|1 => True"
   ]
  },
  {
   "cell_type": "markdown",
   "metadata": {},
   "source": [
    "---"
   ]
  },
  {
   "cell_type": "markdown",
   "metadata": {},
   "source": [
    "# &spades; 補充 "
   ]
  },
  {
   "cell_type": "markdown",
   "metadata": {},
   "source": [
    "### 範例: 融合<font color=red>運算子優先順序</font>與<font color=green>運算子以數學形式表達</font>的概念"
   ]
  },
  {
   "cell_type": "code",
   "execution_count": null,
   "metadata": {},
   "outputs": [],
   "source": [
    "a, b = 0, 9\n",
    "print('a is not b & a < b : ', a is not b & a < b) # 相當於((a is not (b & a)) and ((b & a) < b))\n",
    "print('a is not b & a > b : ', a is not b & a > b) # 相當於((a is not (b & a)) and ((b & a) > b))"
   ]
  },
  {
   "cell_type": "markdown",
   "metadata": {},
   "source": [
    "###  講義中提到 : 從效能來說，使用「位元運算子」做計算會比使用「算術運算子」得到更好的效能。但其實Python直譯器已經優化效率了，位移運算的速度不見得比較快"
   ]
  },
  {
   "cell_type": "code",
   "execution_count": null,
   "metadata": {},
   "outputs": [],
   "source": [
    "%%timeit\n",
    "5*2**3"
   ]
  },
  {
   "cell_type": "code",
   "execution_count": null,
   "metadata": {},
   "outputs": [],
   "source": [
    "%%timeit\n",
    "5<<3"
   ]
  }
 ],
 "metadata": {
  "kernelspec": {
   "display_name": "Python 3 (ipykernel)",
   "language": "python",
   "name": "python3"
  },
  "language_info": {
   "codemirror_mode": {
    "name": "ipython",
    "version": 3
   },
   "file_extension": ".py",
   "mimetype": "text/x-python",
   "name": "python",
   "nbconvert_exporter": "python",
   "pygments_lexer": "ipython3",
   "version": "3.8.10"
  }
 },
 "nbformat": 4,
 "nbformat_minor": 4
}
