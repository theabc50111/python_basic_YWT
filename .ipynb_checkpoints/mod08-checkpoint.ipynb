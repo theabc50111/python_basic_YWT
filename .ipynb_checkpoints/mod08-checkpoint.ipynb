{
 "cells": [
  {
   "cell_type": "markdown",
   "metadata": {},
   "source": [
    "#  <font color=red> Module_08_程式的流程控制-迴圈</font>"
   ]
  },
  {
   "cell_type": "markdown",
   "metadata": {},
   "source": [
    "# P8-4"
   ]
  },
  {
   "cell_type": "code",
   "execution_count": null,
   "metadata": {},
   "outputs": [],
   "source": [
    "count = 0\n",
    "while count < 9:\n",
    "    print('count is:', count)\n",
    "    count = count +1 # equal to count += 1\n",
    "print('Finished!')"
   ]
  },
  {
   "cell_type": "code",
   "execution_count": null,
   "metadata": {
    "tags": []
   },
   "outputs": [],
   "source": [
    "# while stmt\n",
    "m = int(input('Input factorial: '))\n",
    "r = n = 1\n",
    "while n <= m:\n",
    "\n",
    "    r = r*n # equal to r *= n\n",
    "    n = n+1 # equal to n += 1\n",
    "\n",
    "print(f'{m}! = {r}')"
   ]
  },
  {
   "cell_type": "markdown",
   "metadata": {},
   "source": [
    "---"
   ]
  },
  {
   "cell_type": "markdown",
   "metadata": {},
   "source": [
    "# P8-8 \n",
    "### range([start,] stop[, step])"
   ]
  },
  {
   "cell_type": "code",
   "execution_count": null,
   "metadata": {},
   "outputs": [],
   "source": [
    "print(list(range(10))) # lazy evaluation\n",
    "print(range(10))"
   ]
  },
  {
   "cell_type": "code",
   "execution_count": null,
   "metadata": {},
   "outputs": [],
   "source": [
    "print(list(range(10)))\n",
    "print(list(range(5,10)))\n",
    "print(list(range(2,10,2)))"
   ]
  },
  {
   "cell_type": "markdown",
   "metadata": {},
   "source": [
    "---"
   ]
  },
  {
   "cell_type": "markdown",
   "metadata": {},
   "source": [
    "# P8-5\n",
    "## 常見 迭代(iterable) 物件\n",
    ">### string\n",
    ">### List\n",
    ">### Tuple\n",
    ">### Dictionary\n",
    ">### Set\n",
    ">### range()\n",
    ">### enumerate()"
   ]
  },
  {
   "cell_type": "code",
   "execution_count": null,
   "metadata": {},
   "outputs": [],
   "source": [
    "for var in [1, 2, 3, 4, 5]:\n",
    "    print(var)"
   ]
  },
  {
   "cell_type": "code",
   "execution_count": null,
   "metadata": {},
   "outputs": [],
   "source": [
    "# for stmt with range()\n",
    "print('range(5) =', end=' ')\n",
    "for i in range(5):\n",
    "    print(i, end=' ')"
   ]
  },
  {
   "cell_type": "code",
   "execution_count": null,
   "metadata": {},
   "outputs": [],
   "source": [
    "# for stmt\n",
    "m = int(input('Input a value: '))\n",
    "\n",
    "s = 0\n",
    "for i in range(1, m+1):\n",
    "    s=s+i # equal to s += i\n",
    "\n",
    "print('sum =',s)"
   ]
  },
  {
   "cell_type": "markdown",
   "metadata": {},
   "source": [
    "---"
   ]
  },
  {
   "cell_type": "markdown",
   "metadata": {},
   "source": [
    "# P8-7"
   ]
  },
  {
   "cell_type": "code",
   "execution_count": null,
   "metadata": {},
   "outputs": [],
   "source": [
    "for i in range(1,10):\n",
    "    for j in range(1,10):\n",
    "        x = i * j\n",
    "        print(x, end=' ')\n",
    "    print()"
   ]
  },
  {
   "cell_type": "code",
   "execution_count": null,
   "metadata": {},
   "outputs": [],
   "source": [
    "for i in range(1,10):\n",
    "    for j in range(1,10):\n",
    "        print(f'{i:1} * {j:1} = {i*j:2}', end=',  ')\n",
    "\n",
    "    print() # 當作換行使用"
   ]
  },
  {
   "cell_type": "markdown",
   "metadata": {},
   "source": [
    "---"
   ]
  },
  {
   "cell_type": "markdown",
   "metadata": {
    "tags": []
   },
   "source": [
    "# P8-12\n",
    "<details>,\n",
    "    <summary> break </summary>\n",
    "    <img src=\"./img/break.png\">\n",
    "</details>\n",
    "<details>\n",
    "    <summary> continue </summary>\n",
    "    <img src=\"./img/continue.png\">\n",
    "</details>"
   ]
  },
  {
   "cell_type": "code",
   "execution_count": null,
   "metadata": {},
   "outputs": [],
   "source": [
    "# whie with break stmt\n",
    "i = 1\n",
    "while True:\n",
    "    print(i)\n",
    "    i = i + 1\n",
    "    if i > 5:\n",
    "        break"
   ]
  },
  {
   "cell_type": "code",
   "execution_count": null,
   "metadata": {},
   "outputs": [],
   "source": [
    "# continue stmt\n",
    "for i in range (1, 7):\n",
    "    if i % 2 == 1:\n",
    "        continue\n",
    "    print(i, end=' ')"
   ]
  },
  {
   "cell_type": "code",
   "execution_count": null,
   "metadata": {},
   "outputs": [],
   "source": [
    "count = 1\n",
    "while True:\n",
    "    if count%9==0:\n",
    "        if count%10==0:\n",
    "            if count%23==0:\n",
    "                print(count)\n",
    "                break\n",
    "    count+=1"
   ]
  },
  {
   "cell_type": "code",
   "execution_count": null,
   "metadata": {},
   "outputs": [],
   "source": [
    "for i in range(1,10):\n",
    "    for j in range(1,10):\n",
    "        if i*j==15:\n",
    "            break\n",
    "        elif i*j==28:\n",
    "            continue\n",
    "        print(f'{i:1} * {j:1} = {i*j:2}', end=',   ')\n",
    "    print('')"
   ]
  },
  {
   "cell_type": "markdown",
   "metadata": {},
   "source": [
    "---"
   ]
  },
  {
   "cell_type": "markdown",
   "metadata": {},
   "source": [
    "# P8-14"
   ]
  },
  {
   "cell_type": "code",
   "execution_count": null,
   "metadata": {},
   "outputs": [],
   "source": [
    "numbers = [31, 57, 75, 85, 27, 93, 63, 19]\n",
    "for num in numbers:\n",
    "    if num%2 == 0:\n",
    "        print('有 偶數存在', num)\n",
    "        break\n",
    "    print(num)\n",
    "else:\n",
    "    print('無 偶數存在')"
   ]
  },
  {
   "cell_type": "markdown",
   "metadata": {},
   "source": [
    "---"
   ]
  },
  {
   "cell_type": "markdown",
   "metadata": {},
   "source": [
    "# &spades;補充 : 透過搭配 else 與迴圈可以節省一些 flag 的使用。"
   ]
  },
  {
   "cell_type": "markdown",
   "metadata": {},
   "source": [
    "### for 搭配 else"
   ]
  },
  {
   "cell_type": "code",
   "execution_count": null,
   "metadata": {},
   "outputs": [],
   "source": [
    "list(range(2,7))"
   ]
  },
  {
   "cell_type": "code",
   "execution_count": null,
   "metadata": {},
   "outputs": [],
   "source": [
    "for i in range(2,100):\n",
    "    for j in range(2,i):\n",
    "        if i%j==0:\n",
    "            break\n",
    "    else:               \n",
    "        print(i,end=' ')"
   ]
  },
  {
   "cell_type": "markdown",
   "metadata": {},
   "source": [
    "### 不使用else 改用flag的概念"
   ]
  },
  {
   "cell_type": "code",
   "execution_count": null,
   "metadata": {},
   "outputs": [],
   "source": [
    "is_Prime = False # is_prime就是flag\n",
    "for i in range(2,100):\n",
    "    if is_Prime:\n",
    "        print(i-1,end=' ')\n",
    "    for j in range(1,i):\n",
    "        if i%j==0 and j!=1:\n",
    "            is_Prime = False\n",
    "            break\n",
    "        is_Prime = True"
   ]
  },
  {
   "cell_type": "markdown",
   "metadata": {},
   "source": [
    "### corelab解答"
   ]
  },
  {
   "cell_type": "code",
   "execution_count": null,
   "metadata": {},
   "outputs": [],
   "source": [
    "# 年利率5%，則每個月的利率為5%/12=0.4167%\n",
    "# 1萬元放在銀行，本金加利率總額為 10000*(1+0.05/12)=10041.67元\n",
    "total=0\n",
    "i=0\n",
    "while total < 1e6:\n",
    "    total = total * 1.004167\n",
    "    total = total + 1e4\n",
    "    i += 1\n",
    "\n",
    "print(i)"
   ]
  }
 ],
 "metadata": {
  "kernelspec": {
   "display_name": "Python 3 (ipykernel)",
   "language": "python",
   "name": "python3"
  },
  "language_info": {
   "codemirror_mode": {
    "name": "ipython",
    "version": 3
   },
   "file_extension": ".py",
   "mimetype": "text/x-python",
   "name": "python",
   "nbconvert_exporter": "python",
   "pygments_lexer": "ipython3",
   "version": "3.8.10"
  }
 },
 "nbformat": 4,
 "nbformat_minor": 4
}
