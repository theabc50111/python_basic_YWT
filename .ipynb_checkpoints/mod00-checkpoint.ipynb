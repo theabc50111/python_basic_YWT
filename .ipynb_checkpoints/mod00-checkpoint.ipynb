{
 "cells": [
  {
   "cell_type": "markdown",
   "metadata": {},
   "source": [
    "# <font color=red> Module_00 課程簡介--Python先修課程</font>\n",
    "## 課程注意事項\n",
    ">###   請固定座位\n",
    ">###   放學時間要更正為?:?\n",
    ">###   上課時長50分鐘,休息時長10分鐘,自由發問、上廁所\n",
    ">###   最後一天有線上教學評量"
   ]
  },
  {
   "cell_type": "markdown",
   "metadata": {},
   "source": [
    "## 為什麼要學基礎語法？"
   ]
  },
  {
   "cell_type": "markdown",
   "metadata": {
    "tags": []
   },
   "source": [
    "<details>\n",
    "    <summary>What ChatGPT can do?</summary>\n",
    "    <img src='./img/chatgpt.png'>\n",
    "</details>"
   ]
  },
  {
   "cell_type": "markdown",
   "metadata": {},
   "source": [
    "<details>\n",
    "    <summary>Why should I hire a software engineer if I can just copy and paste code from Stack Overflow?</summary>\n",
    "    <img src='./img/idiom.jpg'>\n",
    "</details>"
   ]
  },
  {
   "cell_type": "markdown",
   "metadata": {
    "tags": []
   },
   "source": [
    "<details>\n",
    "    <summary>After knowing basic knowledge, what ChatGPT can do?</summary>\n",
    "    <img src='./img/chatgpt2.png'>\n",
    "</details>"
   ]
  }
 ],
 "metadata": {
  "kernelspec": {
   "display_name": "Python 3 (ipykernel)",
   "language": "python",
   "name": "python3"
  },
  "language_info": {
   "codemirror_mode": {
    "name": "ipython",
    "version": 3
   },
   "file_extension": ".py",
   "mimetype": "text/x-python",
   "name": "python",
   "nbconvert_exporter": "python",
   "pygments_lexer": "ipython3",
   "version": "3.8.10"
  }
 },
 "nbformat": 4,
 "nbformat_minor": 4
}
