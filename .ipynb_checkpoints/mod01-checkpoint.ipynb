{
 "cells": [
  {
   "cell_type": "markdown",
   "metadata": {},
   "source": [
    "#  <font color=red> Module_01_Python簡介</font>"
   ]
  },
  {
   "cell_type": "markdown",
   "metadata": {
    "tags": []
   },
   "source": [
    "# P1-4, Python 特色\n",
    ">### 程式導向(Procedural Programging Paradigms)\n",
    ">- 易於維護\n",
    ">- 讓程式碼可以重複使用\n",
    "><img src=\"./img/pop_hierarchy_2.png\" style='height:400px; width:800px'><br>\n",
    "><img src=\"./img/pop_hierarchy.png\" style='height:300px; width:600px'><br>\n",
    "\n",
    ">### 物件導向(Object-Oriented Programging Paradigms)\n",
    ">- 讓程式碼易於理解\n",
    ">- 通過將程式碼化為物件的方式，令程式之間互相傳遞資訊\n",
    "><img src=\"./img/oop_example.png\" style='height:300px; width:600px'><br>\n",
    ">- 這些設計模式並不互相衝突[ref](https://www.freecodecamp.org/news/an-introduction-to-programming-paradigms/)\n",
    "\n",
    ">### 程式發展歷史\n",
    "><img src=\"./img/oop_history.png\" style='height:300px; width:600px'><br>\n",
    "\n",
    ">### Python是<font color=red>直譯式語言</font>\n",
    "\n",
    ">### 腳本語言的特點\n",
    ">- #### 一個enter 執行一行敘述\n",
    ">- #### 可以把一個程式中的多個區段分開執行，其效果等同於一起執行所有區段的程式。"
   ]
  },
  {
   "cell_type": "markdown",
   "metadata": {
    "tags": []
   },
   "source": [
    "# P1-5\n",
    "### 程式語言的成長趨勢\n",
    "><img src=\"./img/PythonTrend.png\"  style='height:450px; width:900px'>\n",
    "\n",
    "[ref 1](https://insights.stackoverflow.com/trends)\n",
    "[ref 2](https://www.tiobe.com/tiobe-index/)"
   ]
  },
  {
   "cell_type": "markdown",
   "metadata": {},
   "source": [
    "# P1-6\n",
    "1. Python 不需要事先宣告變數\n",
    "2. Python 不需要指定變數的型態\n",
    "3. 變數賦值(建立)<font color=red>後</font>即可直接使用"
   ]
  },
  {
   "cell_type": "markdown",
   "metadata": {},
   "source": [
    "# P1-10\n",
    "## python 安裝\n",
    "<details>\n",
    "    <summary>使用官網python</summary>\n",
    "    <ol>\n",
    "        <li>把「Add Python 3.x to PATH」的選取方塊打勾，這樣的目的是為了讓Windows可以找到Python，我們的課程將以純的Python環境進行開發。</li>\n",
    "        <li>接著點擊「Customize installation」。</li>\n",
    "        <li>在Optional Features頁面內，把所有核取方塊打勾。</li>\n",
    "        <li>下一步進到「Advanced Options」，把「install for all users」的核取方塊打勾，其他的核取方塊則維持預設值。</li>\n",
    "        <li>安裝後，要記得點擊「Disable path length limit」(如果沒有出現此按鈕代表之前已經有設定過了)。</li>\n",
    "    </ol>\n",
    "    <details>\n",
    "        <summary>image</summary>\n",
    "        <img src='./img/python_install.png' style='height:500px'>\n",
    "    </details>\n",
    "</details>\n",
    "<hr>\n",
    "<details>\n",
    "    <summary>使用anaconda</summary>\n",
    "    <details>\n",
    "        <summary>anaconda簡介</summary>\n",
    "        <ol>\n",
    "            <li>使用者可以藉由 Anaconda 來針對不同專案創建虛擬環境</li>\n",
    "            <ol>\n",
    "                <li>更易於管理不同專案</li>\n",
    "                <li>避免多個專案同時進行，軟體之間會產生版本衝突</li>\n",
    "                <li>\n",
    "                    <details>\n",
    "                        <summary>image</summary>\n",
    "                        <img src='./img/anaconda_environment.png' style='height:500px'>\n",
    "                    </details>\n",
    "                </li>\n",
    "            </ol>\n",
    "        </ol>\n",
    "    </details>\n",
    "    <details>\n",
    "        <summary>安裝 Anaconda</summary>\n",
    "        <img src='./img/anaconda_install1.png' style='height:500px'>\n",
    "        <img src='./img/anaconda_install2.png' style='height:500px'>\n",
    "        <img src='./img/anaconda_install3.png' style='height:500px'>\n",
    "    </details>\n",
    "</details>\n"
   ]
  },
  {
   "cell_type": "markdown",
   "metadata": {},
   "source": [
    "# P1-14\n",
    "## 命令提示字元cmd(windows)/終端機terminal(linux, macOS)\n",
    "## 命令提示字元常用指令\n",
    ">## - 變更目錄: `cd` / `cd` \n",
    ">## - 查詢目錄: `dir` / `ls`\n",
    ">## - 離開cmd: `exit` / `exit` \n",
    "\n",
    "## cmd/terminal Python相關指令\n",
    ">### - `python -h` ⇒查看所有在cmd中的python指令說明\n",
    ">### - `python -V`(大寫V) ⇒查看版本(模仿linux指令)\n",
    "---\n",
    "## 使用Anaconda開啟命令提示字元(虛擬環境下)\n",
    "<details>\n",
    "    <summary>圖示</summary>\n",
    "    <img src='./img/anaconda_env1.png' style='height:500px'>\n",
    "    <img src='./img/anaconda_env2.png' style='height:500px'>\n",
    "    <img src='./img/anaconda_env3.png' style='height:500px'>\n",
    "    <img src='./img/anaconda_env4.png' style='height:500px'>\n",
    "    <img src='./img/anaconda_env5.png' style='height:500px'>\n",
    "</details>\n",
    "\n",
    "\n",
    "---\n",
    "## Python shell \n",
    ">### - `＞＞＞` &rArr; Python的命令提示字元(可以下指令的地方)\n",
    ">### - `．．．` &rArr; Python的第二提示字元\n",
    ">### - `exit()` &rArr; 離開Python shell，是Python的內建function\n",
    "---\n",
    "## 如何執行Python程式檔案(.py)\n",
    ">### `python XXX.py`\n",
    "---\n",
    "## print(variable) 與 直接呼叫variable的差異:\n",
    ">### - 直接呼叫variable &rArr; 受益於Python shell 是互動式的，所以才可以直接呼叫變數"
   ]
  },
  {
   "cell_type": "markdown",
   "metadata": {},
   "source": [
    "### <font color=red>請注意，使用print()時數字還是文字容易弄混"
   ]
  },
  {
   "cell_type": "code",
   "execution_count": null,
   "metadata": {},
   "outputs": [],
   "source": [
    "y = 123\n",
    "x = '123'\n",
    "print(y)\n",
    "print(x)"
   ]
  },
  {
   "cell_type": "code",
   "execution_count": null,
   "metadata": {},
   "outputs": [],
   "source": [
    "x"
   ]
  },
  {
   "cell_type": "code",
   "execution_count": null,
   "metadata": {},
   "outputs": [],
   "source": [
    "y"
   ]
  },
  {
   "cell_type": "markdown",
   "metadata": {},
   "source": [
    "\n",
    "---"
   ]
  },
  {
   "cell_type": "markdown",
   "metadata": {},
   "source": [
    "# P1-16 IDE (開發工具箱)\n",
    ">## IDLE (Python 提供的)\n",
    ">## VS code\n",
    ">## Jupyter notebook/Jupyter lab (網站架構<HTML>)"
   ]
  },
  {
   "cell_type": "markdown",
   "metadata": {},
   "source": [
    "# VScode\n",
    "## 安裝python相關套件\n",
    ">### 由於VS Code不知道Python的安裝路徑，<font color=red>所以當開啟任一個.py檔案時，VS Code會提示你進行設定。</font>此時我們只要按照下圖的步驟，去設定Python.exe的路徑即可。\n",
    ">### 1. 安裝Python extension\n",
    ">> <details>\n",
    "     <summary>image</summary>\n",
    "     <img src='./img/vscode_py_ext.png'  style='height:500px;'>\n",
    "   </details>\n",
    "\n",
    ">### 2. 開啟資料夾並新增或讀取.py檔\n",
    ">> <details>\n",
    "     <summary>image</summary>\n",
    "     <img src='./img/vscode_open_folder.png'  style='height:500px;'><br>\n",
    "   </details>\n",
    "   <details>\n",
    "     <summary>image</summary>\n",
    "     <img src='./img/vscode_create_py.png'  style='height:500px;'><br>\n",
    "   </details>\n",
    "\n",
    ">### 3. 設定Python.exe的路徑\n",
    ">> <details>\n",
    "     <summary>image</summary>\n",
    "     <img src='./img/vscode_set_py.png'  style='height:500px;'><br>\n",
    "   </details>"
   ]
  },
  {
   "cell_type": "markdown",
   "metadata": {},
   "source": [
    "# Jupyter notebook/Jupyter lab\n",
    "\n",
    "<details>\n",
    "    <summary>使用pip安裝Jupyter notebook(需要另外訂定環境變數)</summary>\n",
    "    <ol>\n",
    "        <li>\n",
    "            以<font color=red>系統管理員身分</font>的身分在命令提示字元中輸入指令: <code>pip install jupyter notebook</code> (安裝程式都用系統管理員身分) (macOS 請在terminal中輸入<code>sudo pip3 install jupyter notebook</code>)\n",
    "            <details>\n",
    "               <summary>image</summary>\n",
    "               <img src=\"img/jupyter_install1.png\">\n",
    "               <img src=\"img/jupyter_install2.png\">\n",
    "           </details>\n",
    "           <details>\n",
    "               <summary>image-macOS</summary>\n",
    "                <div>在terminal輸入<code>sudo pip3 install jupyter notebook</code>，接著輸入登入系統時的密碼(輸入時terminal不會顯示)，輸入完密碼後按enter 即可</div>\n",
    "               <img src=\"img/mac_terminal.jpg\">\n",
    "           </details>\n",
    "        </li>\n",
    "        <li>\n",
    "            安裝完成後(看到<font color=red>C:\\WINDOWS\\system32</font>才代表安裝完成)再輸入<code>exit</code>退出命令提示字元(macOS 也是輸入<code>exit</code>)\n",
    "            <details>\n",
    "               <summary>image</summary>\n",
    "               <img src=\"img/jupyter_install3.png\">\n",
    "           </details>\n",
    "        </li>\n",
    "    </ol>\n",
    "    <hr>\n",
    "    <ol>\n",
    "        啟動Jupyter notebook\n",
    "        <li>\n",
    "            開啟教材資料夾，並在路徑列輸入<code>cmd</code>以<font color=red>一般使用者</font>的身分開啟(macOS 請將教材資料夾放在桌面，並開啟一個新的terminal)\n",
    "            <details>\n",
    "               <summary>image</summary>\n",
    "               <img src=\"img/jupyter_install4.png\">\n",
    "           </details>\n",
    "        </li>\n",
    "        <li>\n",
    "            在命令提示字元中輸入指令 <code>jupyter notebook</code> (執行程式用一般身分即可) (macOS 參考下方圖片:)\n",
    "             <details>\n",
    "                   <summary>image-mac OS</summary>\n",
    "                   <ol>\n",
    "                       <li>將教材資料夾(以zip檔的形式)下載後，放到桌面上</li>\n",
    "                       <li>開啟 terminal後輸入<code>jupyter notebook</code></li>\n",
    "                       <li>請輸入完後到Desktop裡找教材資料夾即可\n",
    "                           <details>\n",
    "                               <img src=\"img/mac_jupyter_notebook.png\">\n",
    "                           </details>\n",
    "                       </li>\n",
    "                   </ol>\n",
    "               </details>\n",
    "        </li>\n",
    "    </ol>\n",
    "</details>\n",
    "\n",
    "---\n",
    "<details>\n",
    "    <summary>使用pip安裝Jupyter Lab(需要另外訂定環境變數)</summary>\n",
    "    <ol>\n",
    "        <li>\n",
    "            以<font color=red>系統管理員身分</font>的身分在命令提示字元中輸入指令: <code>pip install jupyterlab</code> (安裝程式都用系統管理員身分) (macOS 請在terminal中輸入<code>sudo pip3 install jupyterlab</code>)\n",
    "            <details>\n",
    "               <summary>image</summary>\n",
    "               <img src=\"img/jupyter_install1.png\">\n",
    "               <img src=\"img/jupyter_lab_install2.png\"  width=\"2000\">\n",
    "           </details>\n",
    "           <details>\n",
    "               <summary>image-macOS</summary>\n",
    "                <div>在terminal輸入<code>sudo pip3 install jupyterlab</code>，接著輸入登入系統時的密碼(輸入時terminal不會顯示)，輸入完密碼後按enter 即可</div>\n",
    "               <img src=\"img/mac_terminal.jpg\">\n",
    "           </details>\n",
    "        </li>\n",
    "        <li>\n",
    "            安裝完成後(看到<font color=red>C:\\WINDOWS\\system32</font>才代表安裝完成)再輸入<code>exit</code>退出命令提示字元(macOS 也是輸入<code>exit</code>)\n",
    "            <details>\n",
    "               <summary>image</summary>\n",
    "               <img src=\"img/jupyter_install3.png\">\n",
    "           </details>\n",
    "        </li>\n",
    "    </ol>\n",
    "    <hr>\n",
    "    <ol>\n",
    "        啟動Jupyter Lab\n",
    "        <li>\n",
    "            開啟教材資料夾，並在路徑列輸入<code>cmd</code>以<font color=red>一般使用者</font>的身分開啟(macOS 請將教材資料夾放在桌面，並開啟一個新的terminal)\n",
    "            <details>\n",
    "               <summary>image</summary>\n",
    "               <img src=\"img/jupyter_install4.png\">\n",
    "           </details>\n",
    "        </li>\n",
    "        <li>\n",
    "            在命令提示字元中輸入指令 <code>jupyter lab</code> (執行程式用一般身分即可) (macOS 參考下方圖片:)\n",
    "             <details>\n",
    "                   <summary>image-mac OS</summary>\n",
    "                   <ol>\n",
    "                       <li>將教材資料夾(以zip檔的形式)下載後，放到桌面上</li>\n",
    "                       <li>開啟 terminal後輸入<code>jupyter lab</code></li>\n",
    "                       <li>請輸入完後到Desktop裡找教材資料夾即可\n",
    "                           <details>\n",
    "                               <img src=\"img/mac_jupyter_notebook.png\">\n",
    "                           </details>\n",
    "                       </li>\n",
    "                   </ol>\n",
    "               </details>\n",
    "        </li>\n",
    "    </ol>\n",
    "</details>\n",
    "\n",
    "---\n",
    "\n",
    "<details>\n",
    "    <summary>使用anaconda安裝jupyter notebook</summary>\n",
    "    <img src=\"img/anaconda_jupyter.png\">\n",
    "</details>\n",
    "\n",
    "## Jupyter notebook/ Jupyter Lab 介紹\n",
    ">###  Jupyter notebook/ Jupyter Lab 是一個互動式筆記本，本質是一個Web 應用程式，主頁面由許多Cell組成\n",
    ">>### - Ipython 就是 Jupyter Python 的 Kernel (ipython : 互動式)\n",
    ">>### - Cell &rArr; 每一個Cell都是可以執行的區塊，裡面可以輸入程式碼\n",
    ">>> <details>\n",
    "        <summary>功能分類說明</summary>\n",
    "        <ol>\n",
    "            <li>Code cells &rArr; 用來寫 code 所使用的</li>\n",
    "            <li>Markdown cells &rArr; 用來作筆記用的</li>\n",
    "        </ol>\n",
    "        <img src=\"./img/cell_utility.png\">\n",
    "    </details>\n",
    ">>> <details>\n",
    "        <summary>Cell模式說明</summary>\n",
    "        <ol>\n",
    "            <li>命令模式(Cell外框以藍色顯示)</li>\n",
    "            <li>編輯模式(Cell外框以綠色(jupyter lab 則依舊維持藍色)顯示，且會有游標閃動)</li>\n",
    "        </ol>\n",
    "    </details>\n",
    "\n",
    "## Jupyter notebook/ Jupyter Lab 常用功能\n",
    "\n",
    ">### - 快捷鍵 : \n",
    ">> - Help &rarr; Keybosrd ShortCuts(Jupyter notebook)\n",
    ">> - Settints &rarr; Advanced settings &rarr; Keybosrd ShortCuts(Jupyter Lab)\n",
    ">> <details>\n",
    "    <summary>Jupyter notebook Keybosrd ShortCuts</summary>\n",
    "        <p>\n",
    "            <img src='./img/hotkey_commend.png' style='height:500px'>\n",
    "            <img src='./img/hotkey_edit.png' style='height:300px'>\n",
    "        <p/>\n",
    "    </details>\n",
    "\n",
    ">### - auto compelete &rArr; Tab   \n",
    ">### - shift + Tab &rArr; 快速查詢函式、方法的用法\n",
    ">### - ?指令 &rArr; 查看說明文件\n",
    ">### - % &rArr; jupyter的魔法函式\n",
    ">### - ! + cli 指令 &rArr; 執行作業系統命令\n",
    "\n",
    "## 關閉Jupyter notebook/ Jupyter Lab\n",
    ">### Server (通常以cmd介面執行)\n",
    ">>### Ctrl+C\n",
    ">### 瀏覽器頁簽\n",
    ">>### 直接關閉即可"
   ]
  },
  {
   "cell_type": "code",
   "execution_count": null,
   "metadata": {},
   "outputs": [],
   "source": [
    "print"
   ]
  },
  {
   "cell_type": "code",
   "execution_count": null,
   "metadata": {},
   "outputs": [],
   "source": [
    "print?"
   ]
  },
  {
   "cell_type": "code",
   "execution_count": null,
   "metadata": {},
   "outputs": [],
   "source": [
    "%timeit print('Hi')"
   ]
  },
  {
   "cell_type": "code",
   "execution_count": null,
   "metadata": {},
   "outputs": [],
   "source": [
    "!dir"
   ]
  },
  {
   "cell_type": "markdown",
   "metadata": {},
   "source": [
    "---"
   ]
  },
  {
   "cell_type": "markdown",
   "metadata": {
    "tags": []
   },
   "source": [
    "### 在Jupyter notebook的Cell中呼叫變數的話，只會出現最後一個結果，如果要在一個Cell內列印出多個變數的數值 &rArr; `print()`"
   ]
  },
  {
   "cell_type": "code",
   "execution_count": null,
   "metadata": {},
   "outputs": [],
   "source": [
    "a = 10\n",
    "b = 20\n",
    "a\n",
    "b"
   ]
  },
  {
   "cell_type": "code",
   "execution_count": null,
   "metadata": {},
   "outputs": [],
   "source": [
    "a = 10\n",
    "b = 20\n",
    "print(a)\n",
    "print(b)"
   ]
  },
  {
   "cell_type": "markdown",
   "metadata": {},
   "source": [
    "---"
   ]
  },
  {
   "cell_type": "markdown",
   "metadata": {},
   "source": [
    "# &spades; 補充 "
   ]
  },
  {
   "cell_type": "markdown",
   "metadata": {},
   "source": [
    "# 靜態語言&動態語言 說明\n",
    ">## 具體來說，<font color =red>靜態語言</font>是指變數是否帶有資料型態，反之則為<font color =green>動態語言</font>。 \n",
    ">>### - <font color =red>靜態語言</font>寫程序時要聲明所有變量的數據類型\n",
    ">>### - <font color =green>動態語言</font>編程不用給任何變量指定數據類型。\n",
    ">>### - 省略變數類型宣告動作 &rarr; 動態語言"
   ]
  },
  {
   "cell_type": "markdown",
   "metadata": {},
   "source": [
    "## Visual Studio Code-step by step flow debug\n",
    "### 1. 先在Visual Studio Code 適當地設定中斷點, 而在程式執行到某個中斷點就會pause\n",
    ">如下圖第2、3行的紅點<img src='./img/vscode_debug_1.png' style='height:400px'>\n",
    "### 2. 再點選上方頁簽的Run &rarr; Start Debugging(或是輸入f5)來執行程式,用f5執行程式,碰到中斷點,程式執行會pause\n",
    ">如下圖綠框圈選部分<img src='./img/vscode_debug_2.png' style='height:400px'>\n",
    "### 3.選擇Python檔案 (偵錯目前使用中的檔案)\n",
    ">如下圖綠框圈選部分<img src='./img/vscode_debug_3.png' style='height:400px'>\n",
    "### 4.在左邊watch欄位新增要觀察的變數\n",
    ">如下圖綠框圈選部分<img src='./img/vscode_debug_4.png' style='height:400px'>\n",
    "### 5.點擊上方的continue按鈕(或是輸入f5)執行程式\n",
    ">如下圖綠框圈選部分<img src='./img/vscode_debug_5.png' style='height:400px'>\n",
    "### 6.當程式碼的底色變為黃色時，代表執行到該行程式碼，以此觀察如何變數是如何變化的。\n",
    "><img src='./img/vscode_debug.gif' style='height:400px'>"
   ]
  }
 ],
 "metadata": {
  "kernelspec": {
   "display_name": "Python 3 (ipykernel)",
   "language": "python",
   "name": "python3"
  },
  "language_info": {
   "codemirror_mode": {
    "name": "ipython",
    "version": 3
   },
   "file_extension": ".py",
   "mimetype": "text/x-python",
   "name": "python",
   "nbconvert_exporter": "python",
   "pygments_lexer": "ipython3",
   "version": "3.8.10"
  }
 },
 "nbformat": 4,
 "nbformat_minor": 4
}
