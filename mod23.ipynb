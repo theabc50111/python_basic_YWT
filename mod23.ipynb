{
 "cells": [
  {
   "attachments": {},
   "cell_type": "markdown",
   "metadata": {},
   "source": [
    "#  <font color=red> Module_23_常用內建套件</font> "
   ]
  },
  {
   "attachments": {},
   "cell_type": "markdown",
   "metadata": {},
   "source": [
    "# P23-2 argparse"
   ]
  },
  {
   "attachments": {},
   "cell_type": "markdown",
   "metadata": {},
   "source": [
    "### argparse 基本用法"
   ]
  },
  {
   "cell_type": "code",
   "execution_count": null,
   "metadata": {},
   "outputs": [],
   "source": [
    "%run ./mod23/argparse_basic.py --flag1 Hellow --flag2 200"
   ]
  },
  {
   "cell_type": "code",
   "execution_count": null,
   "metadata": {},
   "outputs": [],
   "source": [
    "%run ./mod23/argparse_basic.py --help"
   ]
  },
  {
   "attachments": {},
   "cell_type": "markdown",
   "metadata": {},
   "source": [
    "### `argparse.add_argment` option : `default`"
   ]
  },
  {
   "cell_type": "code",
   "execution_count": null,
   "metadata": {},
   "outputs": [],
   "source": [
    "# 使用預設值\n",
    "%run ./mod23/argparse_default.py\n",
    "# 覆蓋預設值\n",
    "%run ./mod23/argparse_default.py --flag_default Hellow"
   ]
  },
  {
   "attachments": {},
   "cell_type": "markdown",
   "metadata": {},
   "source": [
    "### `argparse.add_argment` option : `type`"
   ]
  },
  {
   "cell_type": "code",
   "execution_count": null,
   "metadata": {},
   "outputs": [],
   "source": [
    "%run ./mod23/argparse_type.py --type_str 10\n",
    "%run ./mod23/argparse_type.py --type_str 10.5\n",
    "%run ./mod23/argparse_type.py --type_str Hellow"
   ]
  },
  {
   "cell_type": "code",
   "execution_count": null,
   "metadata": {},
   "outputs": [],
   "source": [
    "%run ./mod23/argparse_type.py --type_int 10\n",
    "%run ./mod23/argparse_type.py --type_int 10.5\n",
    "%run ./mod23/argparse_type.py --type_int Hellow"
   ]
  },
  {
   "cell_type": "code",
   "execution_count": null,
   "metadata": {},
   "outputs": [],
   "source": [
    "%run ./mod23/argparse_type.py --type_float 10\n",
    "%run ./mod23/argparse_type.py --type_float 10.5\n",
    "%run ./mod23/argparse_type.py --type_float Hellow"
   ]
  },
  {
   "attachments": {},
   "cell_type": "markdown",
   "metadata": {},
   "source": [
    "### `argparse.add_argment` option : `nargs`"
   ]
  },
  {
   "cell_type": "code",
   "execution_count": null,
   "metadata": {},
   "outputs": [],
   "source": [
    "%run ./mod23/argparse_nargs.py"
   ]
  },
  {
   "cell_type": "code",
   "execution_count": null,
   "metadata": {},
   "outputs": [],
   "source": [
    "%run ./mod23/argparse_nargs.py --narg_number a b c\n",
    "%run ./mod23/argparse_nargs.py --narg_number a\n",
    "%run ./mod23/argparse_nargs.py --narg_number"
   ]
  },
  {
   "cell_type": "code",
   "execution_count": null,
   "metadata": {},
   "outputs": [],
   "source": [
    "%run ./mod23/argparse_nargs.py --narg_plus a\n",
    "%run ./mod23/argparse_nargs.py --narg_plus a b c\n",
    "%run ./mod23/argparse_nargs.py --narg_plus"
   ]
  },
  {
   "cell_type": "code",
   "execution_count": null,
   "metadata": {},
   "outputs": [],
   "source": [
    "%run ./mod23/argparse_nargs.py --narg_question a\n",
    "%run ./mod23/argparse_nargs.py --narg_question a b c\n",
    "%run ./mod23/argparse_nargs.py --narg_question"
   ]
  },
  {
   "cell_type": "code",
   "execution_count": null,
   "metadata": {},
   "outputs": [],
   "source": [
    "%run ./mod23/argparse_nargs.py --narg_asterisk a\n",
    "%run ./mod23/argparse_nargs.py --narg_asterisk a b c\n",
    "%run ./mod23/argparse_nargs.py --narg_asterisk\n"
   ]
  },
  {
   "attachments": {},
   "cell_type": "markdown",
   "metadata": {},
   "source": [
    "---\n",
    "# P23-3 os"
   ]
  },
  {
   "cell_type": "code",
   "execution_count": null,
   "metadata": {},
   "outputs": [],
   "source": [
    "import os\n",
    "\n",
    "print(os.environ.get('PATH')) #取得環境變數內容\n",
    "print('==============')\n",
    "print(os.path.expanduser('~'))   #取得家目錄路徑"
   ]
  },
  {
   "cell_type": "code",
   "execution_count": null,
   "metadata": {},
   "outputs": [],
   "source": [
    "os.rename(\"./mod23/text123.txt\", \"./mod23/text456.txt\") # rename file"
   ]
  },
  {
   "cell_type": "code",
   "execution_count": null,
   "metadata": {},
   "outputs": [],
   "source": [
    "os.remove(\"./mod23/text456.txt\")"
   ]
  },
  {
   "cell_type": "code",
   "execution_count": null,
   "metadata": {},
   "outputs": [],
   "source": [
    "dir='./mod23/my_folder'\n",
    "if not os.path.exists(dir):\n",
    "    os.mkdir(dir)\n",
    "else:\n",
    "    print(dir + '已經建立！')"
   ]
  },
  {
   "cell_type": "code",
   "execution_count": null,
   "metadata": {},
   "outputs": [],
   "source": [
    "print(os.getcwd())"
   ]
  },
  {
   "cell_type": "code",
   "execution_count": null,
   "metadata": {},
   "outputs": [],
   "source": [
    "file_names = os.listdir('./mod21/files')\n",
    "\n",
    "for i in file_names:\n",
    "    print(i)"
   ]
  },
  {
   "attachments": {},
   "cell_type": "markdown",
   "metadata": {},
   "source": [
    "---\n",
    "# P23-4 datetime"
   ]
  },
  {
   "cell_type": "code",
   "execution_count": null,
   "metadata": {},
   "outputs": [],
   "source": [
    "from datetime import datetime as dt\n",
    "print(dt.now())"
   ]
  },
  {
   "cell_type": "code",
   "execution_count": null,
   "metadata": {},
   "outputs": [],
   "source": [
    "import datetime\n",
    "datetime_dt = datetime.datetime.today()# 獲得當地時間\n",
    "datetime_str = datetime_dt.strftime(\"%Y-%m-%d %H:%M:%S\")  # 格式化日期\n",
    "print(datetime_str)"
   ]
  },
  {
   "cell_type": "code",
   "execution_count": null,
   "metadata": {},
   "outputs": [],
   "source": [
    "import datetime\n",
    "\n",
    "datetime_dt = datetime.datetime.today() # 獲得當地時間\n",
    "time_delta = datetime.timedelta(hours=3) #時差\n",
    "new_dt = datetime_dt + time_delta #本地時間加3小時\n",
    "datetime_format = new_dt.strftime(\"%Y/%m/%d %H:%M:%S\")  # 格式化日期(最小單位到秒)\n",
    "print(datetime_format)"
   ]
  },
  {
   "cell_type": "code",
   "execution_count": null,
   "metadata": {},
   "outputs": [],
   "source": [
    "import datetime\n",
    "\n",
    "datetime_dt = datetime.datetime.today() # 獲得當地時間\n",
    "dt = datetime_dt.date() # 最小日期顯示到日\n",
    "print(\"現在是 {}年 {}月 {}日\".format(dt.year, dt.month, dt.day))"
   ]
  },
  {
   "attachments": {},
   "cell_type": "markdown",
   "metadata": {},
   "source": [
    "---\n",
    "# P23-5 time"
   ]
  },
  {
   "cell_type": "code",
   "execution_count": null,
   "metadata": {},
   "outputs": [],
   "source": [
    "import time\n",
    "\n",
    "# 從 1970/1/1 00:00:00 至今的秒數\n",
    "seconds = time.time()\n",
    "\n",
    "print(seconds)"
   ]
  },
  {
   "cell_type": "code",
   "execution_count": null,
   "metadata": {},
   "outputs": [],
   "source": [
    "import time\n",
    "\n",
    "# 從 1970/1/1 00:00:00 至今的秒數\n",
    "seconds = time.time()\n",
    "\n",
    "# 將秒數轉為本地時間\n",
    "local_time = time.ctime(seconds)\n",
    "\n",
    "print(\"本地時間：\", local_time)"
   ]
  },
  {
   "cell_type": "code",
   "execution_count": null,
   "metadata": {},
   "outputs": [],
   "source": [
    "import time\n",
    "\n",
    "# 現在時間\n",
    "now = time.ctime()\n",
    "\n",
    "print(\"現在時間：\", now)"
   ]
  },
  {
   "cell_type": "code",
   "execution_count": null,
   "metadata": {},
   "outputs": [],
   "source": [
    "import time\n",
    "\n",
    "print(\"Hello\")\n",
    "\n",
    "# 暫停 1.5 秒\n",
    "time.sleep(1.5)\n",
    "\n",
    "print(\"World\")"
   ]
  },
  {
   "cell_type": "code",
   "execution_count": null,
   "metadata": {},
   "outputs": [],
   "source": [
    "import time\n",
    "\n",
    "# 取得 struct_time 格式的時間\n",
    "t = time.localtime()\n",
    "\n",
    "# 依指定格式輸出\n",
    "result = time.strftime(\"%m/%d/%Y, %H:%M:%S\", t)\n",
    "print(result)"
   ]
  },
  {
   "attachments": {},
   "cell_type": "markdown",
   "metadata": {},
   "source": [
    "---\n",
    "# P23-6 math"
   ]
  },
  {
   "cell_type": "code",
   "execution_count": null,
   "metadata": {},
   "outputs": [],
   "source": [
    "import math\n",
    "\n",
    "x1 = math.ceil(1.4)\n",
    "x2 = math.floor(1.4)\n",
    "x3 = math.sqrt(64)\n",
    "x4 = math.sin(0)\n",
    "x5 = math.cos(0)\n",
    "x6 = math.e\n",
    "x7 = math.pi\n",
    "x8 = math.log(1)\n",
    "x9 = math.exp(2)\n",
    "\n",
    "\n",
    "print(x1)\n",
    "print(x2)\n",
    "print(x3)\n",
    "print(x4)\n",
    "print(x5)\n",
    "print(x6)\n",
    "print(x7)\n",
    "print(x8)\n",
    "print(x9)"
   ]
  },
  {
   "attachments": {},
   "cell_type": "markdown",
   "metadata": {},
   "source": [
    "---\n",
    "# P23-7 random"
   ]
  },
  {
   "cell_type": "code",
   "execution_count": null,
   "metadata": {},
   "outputs": [],
   "source": [
    "import random\n",
    "random.seed(10)\n",
    "\n",
    "print(random.random())"
   ]
  },
  {
   "cell_type": "code",
   "execution_count": null,
   "metadata": {},
   "outputs": [],
   "source": [
    "import random\n",
    "\n",
    "print(random.randrange(3, 9))"
   ]
  },
  {
   "cell_type": "code",
   "execution_count": null,
   "metadata": {},
   "outputs": [],
   "source": [
    "import random\n",
    "\n",
    "mylist = [\"apple\", \"banana\", \"cherry\"]\n",
    "random.shuffle(mylist)\n",
    "\n",
    "print(mylist)"
   ]
  },
  {
   "cell_type": "code",
   "execution_count": null,
   "metadata": {},
   "outputs": [],
   "source": [
    "import random\n",
    "\n",
    "mylist = [\"apple\", \"banana\", \"cherry\"]\n",
    "\n",
    "print(random.sample(mylist, k=2))"
   ]
  },
  {
   "cell_type": "code",
   "execution_count": null,
   "metadata": {},
   "outputs": [],
   "source": [
    "import random\n",
    "\n",
    "mylist = [\"apple\", \"banana\", \"cherry\"]\n",
    "\n",
    "print(random.choices(mylist, weights = [10, 1, 1], k = 14))"
   ]
  },
  {
   "attachments": {},
   "cell_type": "markdown",
   "metadata": {},
   "source": [
    "---\n",
    "# P23-8 itertools"
   ]
  },
  {
   "cell_type": "code",
   "execution_count": null,
   "metadata": {},
   "outputs": [],
   "source": [
    "from itertools import cycle\n",
    "a = cycle('ABCDE')\n",
    "print(next(a))\n",
    "print(next(a))\n",
    "print(\"------------------in for loop----------------\")\n",
    "for i,v in enumerate(a):\n",
    "    print(v)\n",
    "    if i > 10:\n",
    "        break"
   ]
  },
  {
   "cell_type": "code",
   "execution_count": null,
   "metadata": {},
   "outputs": [],
   "source": [
    "from itertools import islice\n",
    "a = islice('ABCDEFGHIJKL', 2, 14,3)\n",
    "print(next(a))\n",
    "print(next(a))\n",
    "print(\"------------------in for loop----------------\")\n",
    "for i in a:\n",
    "    print(i)"
   ]
  },
  {
   "cell_type": "code",
   "execution_count": null,
   "metadata": {},
   "outputs": [],
   "source": [
    "from itertools import product\n",
    "li1 = [2, 16, 32]\n",
    "li2 = [\"A\", \"B\"]\n",
    "print(list(product(li1, li2)))"
   ]
  },
  {
   "cell_type": "code",
   "execution_count": null,
   "metadata": {},
   "outputs": [],
   "source": [
    "from itertools import compress\n",
    "li1=[1,2,3,4,5,6]\n",
    "selector=[1,0,1,0,1,1]\n",
    "print(list(compress(li1, selector)),list(compress(\"ASCDEF\", selector)))"
   ]
  },
  {
   "cell_type": "code",
   "execution_count": null,
   "metadata": {},
   "outputs": [],
   "source": [
    "from itertools import chain\n",
    "print(list(chain('ABC','DEF')))"
   ]
  },
  {
   "cell_type": "markdown",
   "metadata": {},
   "source": [
    "---\n",
    "# P23-9 collections"
   ]
  },
  {
   "cell_type": "code",
   "execution_count": null,
   "metadata": {},
   "outputs": [],
   "source": [
    "from collections import deque\n",
    "\n",
    "a = deque([1, 2, 3])\n",
    "a.appendleft(20)\n",
    "a.append(10)\n",
    "print(a)"
   ]
  },
  {
   "cell_type": "code",
   "execution_count": null,
   "metadata": {},
   "outputs": [],
   "source": [
    "from collections import deque\n",
    "a = deque(maxlen=3)\n",
    "for i in range(7):\n",
    "    a.append(i)\n",
    "    print(a)\n",
    "\n",
    "a.append(10)\n",
    "print(a)\n",
    "a.appendleft(20)\n",
    "print(a)\n",
    "a.pop()\n",
    "print(a)\n",
    "a.popleft()\n",
    "print(a)"
   ]
  },
  {
   "cell_type": "code",
   "execution_count": null,
   "metadata": {},
   "outputs": [],
   "source": [
    "from collections import Counter\n",
    "c = Counter()                           # a new, empty counter\n",
    "c = Counter('gallahad')                 # a new counter from an iterable\n",
    "print(c['a'])\n",
    "c = Counter({'red': 4, 'blue': 2})      # a new counter from a mapping\n",
    "print(c['red'])\n",
    "c = Counter(cats=5, dogs=8)\n",
    "print(c['cats'])\n",
    "c = Counter(['eggs', 'ham', 'ham', 'ham'])\n",
    "print(c['ham'])\n",
    "c = Counter('abracadabra')\n",
    "print(c.most_common())"
   ]
  },
  {
   "attachments": {},
   "cell_type": "markdown",
   "metadata": {},
   "source": [
    "---\n",
    "# P23-10 logging"
   ]
  },
  {
   "attachments": {},
   "cell_type": "markdown",
   "metadata": {},
   "source": [
    "### logging level\n",
    "- ##### NOTSET\n",
    "- ##### DEBUG\n",
    "- ##### INFO\n",
    "- ##### WARNING\n",
    "- ##### ERROR\n",
    "- ##### CRITICAL"
   ]
  },
  {
   "cell_type": "code",
   "execution_count": null,
   "metadata": {},
   "outputs": [],
   "source": [
    "import logging\n",
    "\n",
    "print(logging.NOTSET)   # 0\n",
    "print(logging.DEBUG)    # 10\n",
    "print(logging.INFO)     # 20\n",
    "print(logging.WARNING)  # 30\n",
    "print(logging.ERROR)    # 40\n",
    "print(logging.CRITICAL) # 50"
   ]
  },
  {
   "cell_type": "code",
   "execution_count": null,
   "metadata": {},
   "outputs": [],
   "source": [
    "print(logging.getLevelName(0))    # NOTSET\n",
    "print(logging.getLevelName(10))   # DEBUG\n",
    "print(logging.getLevelName(20))   # INFO\n",
    "print(logging.getLevelName(30))   # WARNING\n",
    "print(logging.getLevelName(40))   # ERROR\n",
    "print(logging.getLevelName(50))   # CRITICAL\n"
   ]
  },
  {
   "attachments": {},
   "cell_type": "markdown",
   "metadata": {},
   "source": [
    "### logging message for each level"
   ]
  },
  {
   "cell_type": "code",
   "execution_count": null,
   "metadata": {},
   "outputs": [],
   "source": [
    "import logging\n",
    "\n",
    "logging.debug('debug message')\n",
    "logging.info('info message')\n",
    "logging.warning('warning message')\n",
    "logging.error('error message')\n",
    "logging.critical('critical message')\n"
   ]
  },
  {
   "attachments": {},
   "cell_type": "markdown",
   "metadata": {},
   "source": [
    "### Set logging level"
   ]
  },
  {
   "cell_type": "code",
   "execution_count": null,
   "metadata": {},
   "outputs": [],
   "source": [
    "import logging\n",
    "# Remove all handlers associated with the root logger object.\n",
    "for handler in logging.root.handlers[:]:\n",
    "    logging.root.removeHandler(handler)  # For jupyter. Usually don't need this in python script\n",
    "\n",
    "logging.basicConfig(level=logging.INFO)\n",
    "\n",
    "\n",
    "\n",
    "logging.debug('debug message')\n",
    "logging.info('info message')\n",
    "logging.warning('warning message')\n",
    "logging.error('error message')\n",
    "logging.critical('critical message')\n",
    "logging.shutdown()"
   ]
  },
  {
   "attachments": {},
   "cell_type": "markdown",
   "metadata": {},
   "source": [
    "### Set logging message format"
   ]
  },
  {
   "cell_type": "code",
   "execution_count": null,
   "metadata": {},
   "outputs": [],
   "source": [
    "import logging\n",
    "\n",
    "for handler in logging.root.handlers[:]:\n",
    "    logging.root.removeHandler(handler)\n",
    "\n",
    "FORMAT = '%(asctime)s %(levelname)s: %(message)s'\n",
    "logging.basicConfig(level=logging.DEBUG, format=FORMAT)\n",
    "\n",
    "logging.debug('debug message')\n",
    "logging.info('info message')\n",
    "logging.warning('warning message')\n",
    "logging.error('error message')\n",
    "logging.critical('critical message')"
   ]
  },
  {
   "attachments": {},
   "cell_type": "markdown",
   "metadata": {},
   "source": [
    "### Set logging file"
   ]
  },
  {
   "cell_type": "code",
   "execution_count": null,
   "metadata": {},
   "outputs": [],
   "source": [
    "import logging\n",
    "\n",
    "for handler in logging.root.handlers[:]:\n",
    "    logging.root.removeHandler(handler)\n",
    "\n",
    "FORMAT = '%(asctime)s %(levelname)s: %(message)s'\n",
    "logging.basicConfig(level=logging.DEBUG, filename='./mod23/myLog123.log', filemode='w', format=FORMAT)\n",
    "\n",
    "logging.debug('debug message')\n",
    "logging.info('info message')\n",
    "logging.warning('warning message')\n",
    "logging.error('error message')\n",
    "logging.critical('critical message')"
   ]
  }
 ],
 "metadata": {
  "kernelspec": {
   "display_name": "Python 3 (ipykernel)",
   "language": "python",
   "name": "python3"
  },
  "language_info": {
   "codemirror_mode": {
    "name": "ipython",
    "version": 3
   },
   "file_extension": ".py",
   "mimetype": "text/x-python",
   "name": "python",
   "nbconvert_exporter": "python",
   "pygments_lexer": "ipython3",
   "version": "3.8.10"
  },
  "vscode": {
   "interpreter": {
    "hash": "916dbcbb3f70747c44a77c7bcd40155683ae19c65e1c03b4aa3499c5328201f1"
   }
  }
 },
 "nbformat": 4,
 "nbformat_minor": 4
}
