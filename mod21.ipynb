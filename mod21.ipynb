{
 "cells": [
  {
   "attachments": {},
   "cell_type": "markdown",
   "metadata": {},
   "source": [
    "#  <font color=red> Module_21_類別與物件導向</font> "
   ]
  },
  {
   "attachments": {},
   "cell_type": "markdown",
   "metadata": {},
   "source": [
    "---\n",
    "# P21-3 Class"
   ]
  },
  {
   "cell_type": "code",
   "execution_count": null,
   "metadata": {},
   "outputs": [],
   "source": [
    "class Account():\n",
    "    ''' 定義用戶帳號類別 '''\n",
    "    def get_balance(self):            # 定義成員方法，成員方法的第一個參數要是self(成員方法，Member method, 實例方法，Instance method，物件方法，Object method)\n",
    "        self.balance = 0              # 定義成員屬性，存取成員的attribute時，需要在前面加上 self(成員屬性，Member attribute, 實例屬性，Instance attribute，物件屬性，Object attribute)\n",
    "        return f\"Not set yet, the defalt values of balance:{self.balance}\"  # 存取成員的attribute時，需要在前面加上 self\n",
    "\n",
    "user_a_account = Account()              # 定義成員user_a_bank，其類別為Account\n",
    "# print(\"銀行餘額是 \", user_a_account.balance)  # balance是user_a_account的屬性，執行user_a_account.get_balance()前，user_a_account.balance不存在\n",
    "print(f\"銀行餘額是(透過存取Member methods): {user_a_account.get_balance()}\")\n",
    "print(f\"銀行餘額是 \", user_a_account.balance)  # balance是user_a_account的屬性"
   ]
  },
  {
   "attachments": {},
   "cell_type": "markdown",
   "metadata": {},
   "source": [
    "### `__init__()`\n",
    "- #### `self`指向剛被建立的成員本身"
   ]
  },
  {
   "cell_type": "code",
   "execution_count": null,
   "metadata": {},
   "outputs": [],
   "source": [
    "class Account():\n",
    "    ''' 定義用戶帳號類別 '''\n",
    "    def __init__(self, uname, money):       # 初始化方法\n",
    "        self.name = uname                   # 設定存款者名字，self指向剛被建立的成員本身\n",
    "        self.balance = money                # 設定所存的錢\n",
    "\n",
    "    def get_balance(self):                  # 獲得存款餘額\n",
    "        return self.balance                 \n",
    "\n",
    "isaac_account = Account('Isaac Li', 100)  # 定義成員isaac_account, self指向issac_account本身(self指向剛被建立的成員本身)\n",
    "print(f\"{isaac_account.name}的存款餘額是{isaac_account.get_balance()}\")"
   ]
  },
  {
   "attachments": {},
   "cell_type": "markdown",
   "metadata": {},
   "source": [
    "### 各成員之間的屬性與資料互不相關"
   ]
  },
  {
   "cell_type": "code",
   "execution_count": null,
   "metadata": {},
   "outputs": [],
   "source": [
    "class Account():\n",
    "    ''' 定義用戶帳號類別 '''\n",
    "    bankname = 'Taipei Bank'                                            # 定義屬性\n",
    "    def __init__(self, uname, money):                                   # 初始化方法\n",
    "        self.name = uname                                               # 設定存款者名字\n",
    "        self.balance = money                                            # 設定所存的錢\n",
    "\n",
    "    def save_money(self, money):                                        # 設計存款方法\n",
    "        self.balance += money                                           # 執行存款\n",
    "        print(f\"{self.name}存進{money}，目前餘額為：{self.balance}\")       # 列印存款完成\n",
    "\n",
    "    def withdraw_money(self, money):                                    # 設計提款方法\n",
    "        self.balance -= money                                           # 執行提款\n",
    "        print(f\"{self.name}提領出{money}，目前餘額為：{self.balance}\")     # 列印提款完成\n",
    "\n",
    "    def get_balance(self):                  # 獲得存款餘額\n",
    "        print(f\"目前{self.name}帳戶裡的餘額為{self.balance}\")\n",
    "\n",
    "isaac_account = Account('Isaac Li', 100)         # 定義成員isaac_account, self指向issac_account\n",
    "isaac_account.get_balance()                      # 獲得存款餘額                \n",
    "isaac_account.save_money(500)                    # 存款500元\n",
    "isaac_account.get_balance()                      # 獲得存款餘額\n",
    "isaac_account.withdraw_money(400)                # 提款400元\n",
    "isaac_account.get_balance()                      # 獲得存款餘額"
   ]
  },
  {
   "cell_type": "code",
   "execution_count": null,
   "metadata": {},
   "outputs": [],
   "source": [
    "isaac_account = Account('Isaac Li', 100)             # self指向issac_account本身\n",
    "nick_account = Account('Nick Tsao', 200)             # self指向nick_account本身\n",
    "print(f\"type of isaac_account:{type(isaac_account)}, type of nick_account:{type(nick_account)}\")  # 在Account 類別上建立兩個成員：isaac_account, nick_account\n",
    "isaac_account.get_balance()                      \n",
    "nick_account.get_balance()          \n",
    "nick_account.save_money(500)        # nick存進500元\n",
    "isaac_account.get_balance()         # isaac存款餘額還是100，nick存進500元不會影響到issac的餘額\n",
    "nick_account.get_balance()          # nick存款餘額700元，nick存進500元只影響到自己的餘額"
   ]
  },
  {
   "attachments": {},
   "cell_type": "markdown",
   "metadata": {},
   "source": [
    "---\n",
    "# P21-5 Encapsulation"
   ]
  },
  {
   "attachments": {},
   "cell_type": "markdown",
   "metadata": {},
   "source": [
    "### 如果沒有進行封裝，容易發生成員的資料被錯誤變動"
   ]
  },
  {
   "cell_type": "code",
   "execution_count": null,
   "metadata": {},
   "outputs": [],
   "source": [
    "class Account():\n",
    "    ''' 定義用戶帳號類別 '''\n",
    "    bankname = 'Taipei Bank'                                            # 定義屬性\n",
    "    def __init__(self, uname, money):                                   # 初始化方法\n",
    "        self.name = uname                                               # 設定存款者名字\n",
    "        self.balance = money                                            # 設定所存的錢\n",
    "\n",
    "    def save_money(self, money):                                        # 設計存款方法\n",
    "        self.balance += money                                           # 執行存款\n",
    "        print(f\"{self.name}存進{money}，目前餘額為：{self.balance}\")       # 列印存款完成\n",
    "\n",
    "    def withdraw_money(self, money):                                    # 設計提款方法\n",
    "        self.balance -= money                                           # 執行提款\n",
    "        print(f\"{self.name}提領出{money}，目前餘額為：{self.balance}\")     # 列印提款完成\n",
    "\n",
    "    def get_balance(self):                  # 獲得存款餘額\n",
    "        print(f\"目前{self.name}帳戶裡的餘額為{self.balance}\")\n",
    "\n",
    "isaac_account = Account('Isaac Li', 100)         # 定義成員isaac_account, self指向issac_account\n",
    "isaac_account.get_balance()                      \n",
    "isaac_account.balance = 20000                    # 沒有封裝的話，很容易在操作成員時誤改該成員的資料\n",
    "isaac_account.get_balance()                      "
   ]
  },
  {
   "attachments": {},
   "cell_type": "markdown",
   "metadata": {},
   "source": [
    "### 透過私有化屬性來實現封裝性質"
   ]
  },
  {
   "cell_type": "code",
   "execution_count": null,
   "metadata": {},
   "outputs": [],
   "source": [
    "class Account():\n",
    "    ''' 定義用戶帳號類別 '''\n",
    "    bankname = 'Taipei Bank'                                            # 定義屬性\n",
    "    def __init__(self, uname, money):                                   # 初始化方法\n",
    "        self.name = uname                                               # 設定存款者名字\n",
    "        self.__balance = money                                          # 將餘額設定為私有化\n",
    "\n",
    "    def save_money(self, money):                                        # 設計存款方法\n",
    "        self.balance += money                                           # 執行存款\n",
    "        print(f\"{self.name}存進{money}，目前餘額為：{self.__balance}\")       # 列印存款完成\n",
    "\n",
    "    def withdraw_money(self, money):                                    # 設計提款方法\n",
    "        self.balance -= money                                           # 執行提款\n",
    "        print(f\"{self.name}提領出{money}，目前餘額為：{self.__balance}\")     # 列印提款完成\n",
    "\n",
    "    def get_balance(self):                  # 獲得存款餘額\n",
    "        print(f\"目前{self.name}帳戶裡的餘額為{self.__balance}\")\n",
    "\n",
    "\n",
    "isaac_account = Account('Isaac Li', 100)         # 定義成員isaac_account, self指向issac_account\n",
    "print(f\"名字：{isaac_account.name}\")\n",
    "isaac_account.name = \"!!ISAAC!!\"\n",
    "print(f\"名字：{isaac_account.name}\")\n",
    "isaac_account.get_balance()                      # 只能透過類別提供的方法來存取\n",
    "print(isaac_account.__balance)                   # 無法從外部存取私有化的屬性"
   ]
  },
  {
   "attachments": {},
   "cell_type": "markdown",
   "metadata": {},
   "source": [
    "### 透過@property實現封裝性質"
   ]
  },
  {
   "cell_type": "code",
   "execution_count": null,
   "metadata": {},
   "outputs": [],
   "source": [
    "class Account():\n",
    "    ''' 定義用戶帳號類別 '''\n",
    "    def __init__(self, uname, money):\n",
    "        self.name = uname                        # 習慣上，底線開頭的屬性代表最好不要去變動\n",
    "        self._hard_to_guess = money\n",
    "\n",
    "    @property\n",
    "    def balance(self):                           # balance()被@property轉化成為只能讀取的屬性\n",
    "        return self._hard_to_guess\n",
    "\n",
    "\n",
    "\n",
    "isaac_account = Account('Isaac Li', 100)         # 定義成員isaac_account, self指向issac_account\n",
    "print(isaac_account.balance)                     # balance被轉化成屬性，不再是方法，而且它只能被讀取\n",
    "isaac_account.balance = 500                      # 無法從外部直接修改"
   ]
  },
  {
   "attachments": {},
   "cell_type": "markdown",
   "metadata": {},
   "source": [
    "### 透過setter來改變property"
   ]
  },
  {
   "cell_type": "code",
   "execution_count": null,
   "metadata": {},
   "outputs": [],
   "source": [
    "class Account():\n",
    "    ''' 定義用戶帳號類別 '''\n",
    "    def __init__(self, uname, money):\n",
    "        self.name = uname\n",
    "        self._hard_to_guess = money\n",
    "\n",
    "    @property\n",
    "    def balance(self):\n",
    "        return self._hard_to_guess\n",
    "\n",
    "    @balance.setter\n",
    "    def save_money(self, money):                                               # 透過setter將其轉化為可以對balance的值進行修改的屬性\n",
    "        self._hard_to_guess += money\n",
    "        print(f\"{self.name}存進{money}，目前餘額為：{self._hard_to_guess}\")\n",
    "\n",
    "    @balance.setter\n",
    "    def withdraw_money(self, money):                                           # 透過setter將其轉化為可以對balance的值進行修改的屬性\n",
    "        self._hard_to_guess -= money\n",
    "        print(f\"{self.name}提領出{money}，目前餘額為：{self._hard_to_guess}\")\n",
    "\n",
    "    def get_balance(self):\n",
    "        print(f\"目前{self.name}帳戶裡的餘額為{self.balance}\")\n",
    "\n",
    "\n",
    "isaac_account = Account('Isaac Li', 100)\n",
    "isaac_account.get_balance()                      \n",
    "isaac_account.save_money = 500\n",
    "isaac_account.get_balance()\n",
    "isaac_account.withdraw_money = 200\n",
    "isaac_account.get_balance()                      "
   ]
  },
  {
   "attachments": {},
   "cell_type": "markdown",
   "metadata": {},
   "source": [
    "---\n",
    "# P21-6 Inheritance"
   ]
  },
  {
   "cell_type": "markdown",
   "metadata": {},
   "source": [
    "### 子類別可以繼承父類別的attribute / method"
   ]
  },
  {
   "cell_type": "code",
   "execution_count": null,
   "metadata": {},
   "outputs": [],
   "source": [
    "class Father():\n",
    "    def hometown(self):\n",
    "        print('我住在台北')\n",
    "\n",
    "class Son(Father):               # Son 繼承 Father\n",
    "    pass\n",
    "\n",
    "dylan = Father()\n",
    "isaac = Son()\n",
    "dylan.hometown()\n",
    "isaac.hometown()      # Son 沒有定義hometown()，它是從Father那裡繼承過來的"
   ]
  },
  {
   "attachments": {},
   "cell_type": "markdown",
   "metadata": {},
   "source": [
    "### 子類別的物件可以被視為父類別物件，但是父類別的物件不能被當作子類別的物件"
   ]
  },
  {
   "cell_type": "code",
   "execution_count": null,
   "metadata": {},
   "outputs": [],
   "source": [
    "class Father():\n",
    "    def hometown(self):\n",
    "        print('我住在台北')\n",
    "\n",
    "class Son(Father):               # Son 繼承 Father\n",
    "    pass\n",
    "\n",
    "dylan = Father()\n",
    "isaac = Son()\n",
    "\n",
    "print(f\"Is dylan an instance of Father: {isinstance(dylan, Father)}, Is isaac an instance of Father: {isinstance(isaac, Father)}\")      # 子類別的物件可以被視為父類別物件\n",
    "print(f\"Is dylan an instance of Son: {isinstance(dylan, Son)}, Is isaac an instance of Father: {isinstance(isaac, Son)}\")               # 但是父類別的物件不能被當作子類別的物件\n",
    "print(f\"type of dylan:{type(dylan)}, type of isaac:{type(isaac)}\") "
   ]
  },
  {
   "attachments": {},
   "cell_type": "markdown",
   "metadata": {},
   "source": [
    "\n",
    "### Python的類別可以同時繼承多個父類別"
   ]
  },
  {
   "cell_type": "code",
   "execution_count": null,
   "metadata": {},
   "outputs": [],
   "source": [
    "class Grandfather():\n",
    "    \"\"\" 定義祖父類別 \"\"\"\n",
    "    def action1(self):\n",
    "        print(\"Grandfather\")\n",
    "        \n",
    "class Father(Grandfather):\n",
    "    \"\"\" 定義父親類別 \"\"\"\n",
    "    def action2(self):      \n",
    "        print(\"Father\")\n",
    "\n",
    "class Uncle(Grandfather):\n",
    "    \"\"\" 定義叔父類別 \"\"\"\n",
    "    def action3(self):      \n",
    "        print(\"Uncle\")\n",
    "\n",
    "class Isaac(Father, Uncle):\n",
    "    \"\"\" 定義Isaac類別 \"\"\"\n",
    "    def action4(self):\n",
    "        print(\"Isaac\")\n",
    "\n",
    "isaac = Isaac()\n",
    "isaac.action4() \n",
    "isaac.action3()              \n",
    "isaac.action2()              \n",
    "isaac.action1()      "
   ]
  },
  {
   "attachments": {},
   "cell_type": "markdown",
   "metadata": {},
   "source": [
    "### Method Resolution Order"
   ]
  },
  {
   "cell_type": "code",
   "execution_count": null,
   "metadata": {},
   "outputs": [],
   "source": [
    "\n",
    "class Grandfather():\n",
    "    \"\"\" 定義祖父類別 \"\"\"\n",
    "    def action(self):\n",
    "        print(\"Grandfather\")\n",
    "        \n",
    "class Father(Grandfather):\n",
    "    \"\"\" 定義父親類別 \"\"\"\n",
    "    def action(self):      \n",
    "        print(\"Father\")\n",
    "\n",
    "class Uncle(Grandfather):\n",
    "    \"\"\" 定義叔父類別 \"\"\"\n",
    "    def action(self):      \n",
    "        print(\"Uncle\")\n",
    "\n",
    "class Isaac(Father, Uncle):\n",
    "    \"\"\" 定義Isaac類別 \"\"\"\n",
    "    def action(self):\n",
    "        print(\"Isaac\")\n",
    "\n",
    "print(Isaac.mro())\n",
    "isaac = Isaac()\n",
    "isaac.action()              # 順序 Isaac -> Father -> Uncle -> Grandfather"
   ]
  },
  {
   "attachments": {},
   "cell_type": "markdown",
   "metadata": {},
   "source": [
    "---\n",
    "# P21-7 Polymorphism"
   ]
  },
  {
   "cell_type": "markdown",
   "metadata": {},
   "source": [
    "### 運算子多載 (Operator overloading)"
   ]
  },
  {
   "cell_type": "code",
   "execution_count": null,
   "metadata": {},
   "outputs": [],
   "source": [
    "print(1 + 1)      # + 用在數字上是數值相加\n",
    "print(\"A\" + \"B\")  # + 用在字串上是字串連接"
   ]
  },
  {
   "attachments": {},
   "cell_type": "markdown",
   "metadata": {},
   "source": [
    "### Function Polymorphism"
   ]
  },
  {
   "cell_type": "code",
   "execution_count": null,
   "metadata": {},
   "outputs": [],
   "source": [
    "# len() 可以接收多種類型的資料\n",
    "len([1, 2, 3, 4, 5])  # len()用在list上是計算元素的數量\n",
    "len(\"ABC\")            # len()用在字串上是計算字串長度"
   ]
  },
  {
   "attachments": {},
   "cell_type": "markdown",
   "metadata": {},
   "source": [
    "### 複寫(Override)\n",
    "- #### 如果子類別與父類別有同名attribute / method，會以子類別的優先"
   ]
  },
  {
   "cell_type": "code",
   "execution_count": null,
   "metadata": {},
   "outputs": [],
   "source": [
    "class Father():\n",
    "    def hometown(self):\n",
    "        print('我住在台北')\n",
    "    \n",
    "    def occupation(self):\n",
    "        print('我是老師')\n",
    "\n",
    "class Son(Father):\n",
    "    def occupation(self):\n",
    "        print('我是工程師')\n",
    "\n",
    "\n",
    "dylan = Father()\n",
    "isaac = Son()\n",
    "dylan.hometown()\n",
    "isaac.hometown()        # Son 沒有定義hometown()，它是從Father那裡繼承過來的\n",
    "dylan.occupation()\n",
    "isaac.occupation()      # Son 有定義occupation()，所以Father的occupatoin()被覆蓋過去了"
   ]
  },
  {
   "attachments": {},
   "cell_type": "markdown",
   "metadata": {},
   "source": [
    "### 透過複寫達到Polymorphism的效果"
   ]
  },
  {
   "cell_type": "code",
   "execution_count": null,
   "metadata": {},
   "outputs": [],
   "source": [
    "class Animal():\n",
    "    \"\"\"Animal類別, 這是基底類別 \"\"\"\n",
    "    def __init__(self, name):\n",
    "        self.name = name\n",
    "\n",
    "    def move(self):              # 輸出動物 is runninG\n",
    "        pass\n",
    "\n",
    "class Dog(Animal):\n",
    "    \"\"\"Dog類別, 這是Animal的衍生類別 \"\"\"\n",
    "    def move(self):\n",
    "        print(f\"{self.name} is a instance of Animals:{isinstance(self, Animal)}\")\n",
    "        print(f\"{self.name} is running\")\n",
    "\n",
    "class Fish(Animal):\n",
    "    \"\"\"Fish類別, 這是Animal的衍生類別 \"\"\"\n",
    "    def move(self):\n",
    "        print(f\"{self.name} is a instance of Animals:{isinstance(self, Animal)}\")\n",
    "        print(f\"{self.name} is swimming\")\n",
    "\n",
    "class Bird(Animal):\n",
    "    \"\"\"Bird類別, 這是Animal的衍生類別 \"\"\"\n",
    "    def move(self):\n",
    "        print(f\"{self.name} is a instance of Animals:{isinstance(self, Animal)}\")\n",
    "        print(f\"{self.name} is flying\")\n",
    "\n",
    "# all of them are instance of Animal but their method has different effect\n",
    "mydog = Dog('Lucy')\n",
    "mydog.move()\n",
    "myfish = Fish('Andy')\n",
    "myfish.move()\n",
    "mybird = Bird('Jack')\n",
    "mybird.move()"
   ]
  },
  {
   "attachments": {},
   "cell_type": "markdown",
   "metadata": {},
   "source": [
    "---\n",
    "# &spades; 補充"
   ]
  },
  {
   "attachments": {},
   "cell_type": "markdown",
   "metadata": {},
   "source": [
    "### 可以利用`super()`來呼叫supclass的方法"
   ]
  },
  {
   "cell_type": "code",
   "execution_count": null,
   "metadata": {},
   "outputs": [],
   "source": [
    "class Pet:\n",
    "    def __init__(self, name, age):\n",
    "        self.name = name\n",
    "        self.age = age\n",
    "    def show(self):\n",
    "        print(f\"I'm {self.name}, {self.age} years old\")\n",
    "class Cat(Pet):    \n",
    "    def __init__(self, name, age, color):\n",
    "        super().__init__(name,age)\n",
    "        self.color = color\n",
    "    def show(self):\n",
    "        print(f\"I'm {self.name}, {self.age} years old, and I'm {self.color}\")\n",
    "        \n",
    "p = Pet(\"Tim\",19)\n",
    "p.show()\n",
    "c = Cat(\"Bill\", 34, \"white\") # Cat use super() to call __init__() of Pet and define self.color\n",
    "c.show() # Cat has its own method => show()"
   ]
  },
  {
   "attachments": {},
   "cell_type": "markdown",
   "metadata": {},
   "source": [
    "### `mro()` & `super()`"
   ]
  },
  {
   "cell_type": "code",
   "execution_count": null,
   "metadata": {},
   "outputs": [],
   "source": [
    "class Grandfather():\n",
    "    \"\"\" 定義祖父類別 \"\"\"\n",
    "    def action(self):\n",
    "        print(\"Grandfather\")\n",
    "        \n",
    "class Father(Grandfather):\n",
    "    \"\"\" 定義父親類別 \"\"\"\n",
    "    def action(self):      \n",
    "        print(\"Father\")\n",
    "\n",
    "class Uncle(Grandfather):\n",
    "    \"\"\" 定義叔父類別 \"\"\"\n",
    "    def action(self):      \n",
    "        print(\"Uncle\")\n",
    "\n",
    "class Isaac(Father, Uncle):\n",
    "    \"\"\" 定義Isaac類別 \"\"\"\n",
    "    def action_super_none(self):\n",
    "        super().action()\n",
    "\n",
    "    def action_super_father(self):\n",
    "        super(Father, self).action()\n",
    "\n",
    "    def action_super_uncle(self):\n",
    "        super(Uncle, self).action()\n",
    "\n",
    "    def action_super_grandfather(self):\n",
    "        super(Grandfather, self).action()\n",
    "\n",
    "\n",
    "print(f\"Methods Resoulution Order of Isaac:{Isaac.mro()}\")\n",
    "isaac = Isaac()\n",
    "isaac.action_super_none()\n",
    "isaac.action_super_father()\n",
    "isaac.action_super_uncle()\n",
    "isaac.action_super_grandfather()"
   ]
  },
  {
   "attachments": {},
   "cell_type": "markdown",
   "metadata": {},
   "source": [
    "### 靜態方法(static method)\n",
    "- #### `@staticmethod`\n",
    "- #### Static method不需要也不能將 instance 以參數 `self` 以及 class 以參數 `cls` 的方式傳入"
   ]
  },
  {
   "cell_type": "code",
   "execution_count": null,
   "metadata": {},
   "outputs": [],
   "source": [
    "class Math:\n",
    "    @staticmethod\n",
    "    def add5(x):\n",
    "        return x+5\n",
    "    @staticmethod\n",
    "    def add10(x):\n",
    "        return x+10\n",
    "    \n",
    "print(Math.add10(20))\n",
    "print(Math.add5(10))"
   ]
  },
  {
   "attachments": {},
   "cell_type": "markdown",
   "metadata": {},
   "source": [
    "### 類別屬性(Class Attribute) & 成員屬性(Member Attribute, 實例屬性，Instance Attribute，物件屬性，Object Attribute)"
   ]
  },
  {
   "cell_type": "code",
   "execution_count": 2,
   "metadata": {},
   "outputs": [
    {
     "name": "stdout",
     "output_type": "stream",
     "text": [
      "開戶銀行：Taipei Bank\n",
      "銀行餘額：100\n"
     ]
    }
   ],
   "source": [
    "class Account():\n",
    "    ''' 定義用戶帳號類別 '''\n",
    "    bankname = 'Taipei Bank'                # 定義類別屬性(Class attribute)\n",
    "    def __init__(self, uname, money):       \n",
    "        self.name = uname                   # 定義成員屬性(Member attribute)\n",
    "        self.balance = money                \n",
    "\n",
    "    def get_balance(self):                  # 定義成員方法(Member methods)\n",
    "        return self.balance                 # 取用成員及類別的 attribute 需要加上 self\n",
    "\n",
    "isaac_account = Account('Isaac Li', 100)             # self指向issac_account本身\n",
    "print(f\"開戶銀行：{isaac_account.bankname}\")\n",
    "print(f\"銀行餘額：{isaac_account.get_balance()}\")"
   ]
  },
  {
   "attachments": {},
   "cell_type": "markdown",
   "metadata": {},
   "source": [
    "### 類別方法(class method)\n",
    "- #### `@classmethod`"
   ]
  },
  {
   "cell_type": "code",
   "execution_count": 4,
   "metadata": {},
   "outputs": [
    {
     "name": "stdout",
     "output_type": "stream",
     "text": [
      "Taipei Bank\n",
      "開戶銀行：None\n",
      "用戶名稱：virtual_user\n",
      "銀行餘額：0\n"
     ]
    }
   ],
   "source": [
    "class Account():\n",
    "    ''' 定義用戶帳號類別 '''\n",
    "    bankname = 'Taipei Bank'                # 定義類別屬性(Class attribute)\n",
    "    def __init__(self, uname, money):       \n",
    "        self.name = uname                   # 定義成員屬性(Member attribute)\n",
    "        self.balance = money                \n",
    "\n",
    "    def get_balance(self):                  # 定義成員方法(Member methods)\n",
    "        return self.balance                 # 取用成員及類別的 attribute 需要加上 self\n",
    "    \n",
    "    @classmethod\n",
    "    def show_bankname(cls):\n",
    "        print(cls.bankname)\n",
    "    \n",
    "    @classmethod\n",
    "    def create_virtual_account(cls):\n",
    "        return cls(\"virtual_user\", 0)\n",
    "\n",
    "virtual_account = Account.create_virtual_account()\n",
    "print(f\"開戶銀行：{virtual_account.show_bankname()}\")\n",
    "print(f\"用戶名稱：{virtual_account.name}\")\n",
    "print(f\"銀行餘額：{virtual_account.get_balance()}\")"
   ]
  }
 ],
 "metadata": {
  "kernelspec": {
   "display_name": "Python 3",
   "language": "python",
   "name": "python3"
  },
  "language_info": {
   "codemirror_mode": {
    "name": "ipython",
    "version": 3
   },
   "file_extension": ".py",
   "mimetype": "text/x-python",
   "name": "python",
   "nbconvert_exporter": "python",
   "pygments_lexer": "ipython3",
   "version": "3.8.10"
  },
  "orig_nbformat": 4,
  "vscode": {
   "interpreter": {
    "hash": "916dbcbb3f70747c44a77c7bcd40155683ae19c65e1c03b4aa3499c5328201f1"
   }
  }
 },
 "nbformat": 4,
 "nbformat_minor": 2
}
