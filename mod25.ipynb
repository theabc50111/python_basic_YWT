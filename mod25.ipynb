{
 "cells": [
  {
   "cell_type": "code",
   "execution_count": 1,
   "metadata": {},
   "outputs": [
    {
     "name": "stdout",
     "output_type": "stream",
     "text": [
      "info of note process: <subprocess.Popen object at 0x7fd6941b5b50>\n"
     ]
    },
    {
     "name": "stdout",
     "output_type": "stream",
     "text": [
      "PING 8.8.8.8 (8.8.8.8) 56(84) bytes of data.\n",
      "64 bytes from 8.8.8.8: icmp_seq=1 ttl=111 time=14.8 ms\n",
      "64 bytes from 8.8.8.8: icmp_seq=2 ttl=111 time=16.4 ms\n",
      "64 bytes from 8.8.8.8: icmp_seq=3 ttl=111 time=13.3 ms\n",
      "64 bytes from 8.8.8.8: icmp_seq=4 ttl=111 time=11.9 ms\n",
      "64 bytes from 8.8.8.8: icmp_seq=5 ttl=111 time=13.3 ms\n",
      "\n",
      "--- 8.8.8.8 ping statistics ---\n",
      "5 packets transmitted, 5 received, 0% packet loss, time 4006ms\n",
      "rtt min/avg/max/mdev = 11.854/13.917/16.367/1.544 ms\n"
     ]
    }
   ],
   "source": [
    "from subprocess import Popen\n",
    "note = Popen('ping -c 5 8.8.8.8', shell=True)\n",
    "print('info of note process: {}'.format(note))"
   ]
  },
  {
   "cell_type": "code",
   "execution_count": null,
   "metadata": {},
   "outputs": [],
   "source": []
  }
 ],
 "metadata": {
  "kernelspec": {
   "display_name": "Python 3",
   "language": "python",
   "name": "python3"
  },
  "language_info": {
   "codemirror_mode": {
    "name": "ipython",
    "version": 3
   },
   "file_extension": ".py",
   "mimetype": "text/x-python",
   "name": "python",
   "nbconvert_exporter": "python",
   "pygments_lexer": "ipython3",
   "version": "3.8.10"
  },
  "orig_nbformat": 4,
  "vscode": {
   "interpreter": {
    "hash": "916dbcbb3f70747c44a77c7bcd40155683ae19c65e1c03b4aa3499c5328201f1"
   }
  }
 },
 "nbformat": 4,
 "nbformat_minor": 2
}
