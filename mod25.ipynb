{
 "cells": [
  {
   "attachments": {},
   "cell_type": "markdown",
   "metadata": {},
   "source": [
    "#  <font color=red> Module_25_程序與執行緒</font> "
   ]
  },
  {
   "attachments": {},
   "cell_type": "markdown",
   "metadata": {},
   "source": [
    "# P25-3 subprocess\n",
    "<ul>\n",
    "    <li>\n",
    "        <details>\n",
    "            <summary style=\"font-siz: 1.5em;\"><code>ping 8.8.8.8</code> in windows</summary>\n",
    "            <img src=\"./img/ping_windows.png\">\n",
    "        </details>\n",
    "    </li>\n",
    "    <li>\n",
    "        <details>\n",
    "            <summary style=\"font-siz: 1.5em;\"><code>ping 8.8.8.8</code> in unix</summary>\n",
    "            <img src=\"./img/ping_ubuntu.png\">\n",
    "        </details>\n",
    "    </li>\n",
    "</ul>"
   ]
  },
  {
   "cell_type": "code",
   "execution_count": null,
   "metadata": {},
   "outputs": [],
   "source": [
    "from subprocess import PIPE, Popen\n",
    "\n",
    "command = \"ping 8.8.8.8\"  # unix: ping -c 5 8.8.8.8\n",
    "with Popen(command, stdout=PIPE, shell=True) as process:\n",
    "    output = process.communicate()[0].decode(\"cp950\")  # window using cp950, unix using utf-8\n",
    "    print(output)"
   ]
  },
  {
   "attachments": {},
   "cell_type": "markdown",
   "metadata": {},
   "source": [
    "---\n",
    "# P25-5 threading"
   ]
  },
  {
   "cell_type": "code",
   "execution_count": null,
   "metadata": {},
   "outputs": [],
   "source": [
    "import time\n",
    "\n",
    "def heavy_io(task_id):\n",
    "    \"\"\"\n",
    "    An simulated I/O intensive calculation, we simulate it with sleep.\n",
    "    \"\"\"\n",
    "    print(f\"task_{task_id} is start\")\n",
    "    time.sleep(2)\n",
    "    print(f\"task_{task_id} is done\")\n",
    "\n",
    "def sequential_do(n):\n",
    "    for i in range(n):    \n",
    "        heavy_io(i)\n",
    "\n",
    "start = time.time()\n",
    "sequential_do(10)\n",
    "end = time.time()\n",
    "print(\"Took: \", end - start)  # Took around 20 seconds in my computer"
   ]
  },
  {
   "cell_type": "code",
   "execution_count": null,
   "metadata": {},
   "outputs": [],
   "source": [
    "import threading\n",
    "import time\n",
    "\n",
    "def heavy_io(task_id):\n",
    "    \"\"\"\n",
    "    An simulated I/O intensive calculation, we simulate it with sleep.\n",
    "    \"\"\"\n",
    "    print(f\"task_{task_id} is start\")\n",
    "    time.sleep(2)\n",
    "    print(f\"task_{task_id} is done\")\n",
    "\n",
    "def threaded(n):\n",
    "    threads = []\n",
    "    for i in range(n):\n",
    "        t = threading.Thread(target=heavy_io, args=(i,))\n",
    "        threads.append(t)            # 將執行緒加入到列表中\n",
    "        t.start()                    # 開始各個執行緒\n",
    "    for t in threads:\n",
    "        t.join()                     # 等待各個執行緒結束\n",
    "\n",
    "start = time.time()\n",
    "threaded(10)\n",
    "end = time.time()\n",
    "print(\"Took: \", end - start)  # Took around 2 seconds in my computer"
   ]
  },
  {
   "attachments": {},
   "cell_type": "markdown",
   "metadata": {},
   "source": [
    "---\n",
    "# &spades; 補充"
   ]
  },
  {
   "attachments": {},
   "cell_type": "markdown",
   "metadata": {},
   "source": [
    "### threading 並不適用於CPU_bound的任務"
   ]
  },
  {
   "cell_type": "code",
   "execution_count": null,
   "metadata": {},
   "outputs": [],
   "source": [
    "import time\n",
    "\n",
    "def heavy_cpu(task_id):\n",
    "    \"\"\"\n",
    "    A CPU heavy calculation, just as an example. This can be anything you like\n",
    "    \"\"\"\n",
    "    print(f\"task_{task_id} is start\")\n",
    "    n =800\n",
    "    for x in range(1, n):\n",
    "        for y in range(1, n):\n",
    "            x**y\n",
    "    print(f\"task_{task_id} is done\")\n",
    "\n",
    "def sequential_do(n):\n",
    "    for i in range(n):    \n",
    "        heavy_cpu(i)\n",
    "\n",
    "\n",
    "start = time.time()\n",
    "sequential_do(10)\n",
    "end = time.time()\n",
    "print(\"Took: \", end - start)  # This takes about 25s on my system"
   ]
  },
  {
   "cell_type": "code",
   "execution_count": null,
   "metadata": {},
   "outputs": [],
   "source": [
    "import threading\n",
    "import time\n",
    "\n",
    "def heavy_cpu(task_id):\n",
    "    \"\"\"\n",
    "    A CPU heavy calculation, just as an example. This can be anything you like\n",
    "    \"\"\"\n",
    "    print(f\"task_{task_id} is start\")\n",
    "    n =800\n",
    "    for x in range(1, n):\n",
    "        for y in range(1, n):\n",
    "            x**y\n",
    "    print(f\"task_{task_id} is done\")\n",
    "\n",
    "\n",
    "def threaded(n):\n",
    "    threads = []\n",
    "    for i in range(n):\n",
    "        t = threading.Thread(target=heavy_cpu, args=(i,))\n",
    "        threads.append(t)            # 將執行緒加入到列表中\n",
    "        t.start()                    # 開始各個執行緒\n",
    "    for t in threads:\n",
    "        t.join()                     # 等待各個執行緒結束\n",
    "\n",
    "\n",
    "start = time.time()\n",
    "threaded(10)\n",
    "end = time.time()\n",
    "print(\"Took: \", end - start)  # This takes about 25s on my system\n",
    "# The reason this is *not* an optimization for CPU bound functions, is the GIL!\n",
    "# If the heavy function had a lot of blocking IO, like network calls or filesystem operations, this would  be a big optimization though"
   ]
  },
  {
   "attachments": {},
   "cell_type": "markdown",
   "metadata": {},
   "source": [
    "### 如果是CPU-bound任務，改用multiprocessing才能加快運算速度\n",
    "- #### multiprocessing是透過subprocessing來實現的"
   ]
  },
  {
   "cell_type": "code",
   "execution_count": null,
   "metadata": {},
   "outputs": [],
   "source": [
    "import time\n",
    "\n",
    "def heavy_cpu(task_id):\n",
    "    \"\"\"\n",
    "    A CPU heavy calculation, just as an example. This can be anything you like\n",
    "    \"\"\"\n",
    "    print(f\"task_{task_id} is start\")\n",
    "    n =800\n",
    "    for x in range(1, n):\n",
    "        for y in range(1, n):\n",
    "            x**y\n",
    "    print(f\"task_{task_id} is done\")\n",
    "\n",
    "def sequential_do(n):\n",
    "    for i in range(n):    \n",
    "        heavy_cpu(i)\n",
    "\n",
    "\n",
    "start = time.time()\n",
    "sequential_do(10)\n",
    "end = time.time()\n",
    "print(\"Took: \", end - start)  # This takes about 25s on my system"
   ]
  },
  {
   "cell_type": "code",
   "execution_count": null,
   "metadata": {},
   "outputs": [],
   "source": [
    "import time\n",
    "import multiprocessing\n",
    "\n",
    "def heavy_cpu(task_id):\n",
    "    \"\"\"\n",
    "    A CPU heavy calculation, just as an example. This can be anything you like\n",
    "    \"\"\"\n",
    "    print(f\"task_{task_id} is start\")\n",
    "    n =800\n",
    "    for x in range(1, n):\n",
    "        for y in range(1, n):\n",
    "            x**y\n",
    "    print(f\"task_{task_id} is done\")\n",
    "\n",
    "\n",
    "def multiproc(n):\n",
    "    processes = []\n",
    "    for i in range(n):\n",
    "        p = multiprocessing.Process(target=heavy_cpu, args=(i,))\n",
    "        processes.append(p)\n",
    "        p.start()\n",
    "\n",
    "    for p in processes:\n",
    "        p.join()\n",
    "\n",
    "\n",
    "start = time.time()\n",
    "multiproc(10)\n",
    "end = time.time()\n",
    "print(\"Took: \", end - start)  # This takes about 7s on my system"
   ]
  }
 ],
 "metadata": {
  "kernelspec": {
   "display_name": "Python 3",
   "language": "python",
   "name": "python3"
  },
  "language_info": {
   "codemirror_mode": {
    "name": "ipython",
    "version": 3
   },
   "file_extension": ".py",
   "mimetype": "text/x-python",
   "name": "python",
   "nbconvert_exporter": "python",
   "pygments_lexer": "ipython3",
   "version": "3.8.10"
  },
  "orig_nbformat": 4,
  "vscode": {
   "interpreter": {
    "hash": "916dbcbb3f70747c44a77c7bcd40155683ae19c65e1c03b4aa3499c5328201f1"
   }
  }
 },
 "nbformat": 4,
 "nbformat_minor": 2
}
