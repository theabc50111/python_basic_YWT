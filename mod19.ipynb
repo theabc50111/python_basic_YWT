{
 "cells": [
  {
   "attachments": {},
   "cell_type": "markdown",
   "metadata": {},
   "source": [
    "#  <font color=red> Module_19_函數進階使用方法 </font> "
   ]
  },
  {
   "attachments": {},
   "cell_type": "markdown",
   "metadata": {},
   "source": [
    "# P19-2"
   ]
  },
  {
   "attachments": {},
   "cell_type": "markdown",
   "metadata": {},
   "source": [
    "### 當作引數(argument)傳遞\n",
    "- #### Function 也可以像一般物件一樣,當作引數傳給其他的 functions"
   ]
  },
  {
   "cell_type": "code",
   "execution_count": null,
   "metadata": {},
   "outputs": [],
   "source": [
    "def add_one(num):\n",
    "    return num + 1\n",
    "\n",
    "def myfunc(func): \n",
    "    \"\"\"\n",
    "    - func: take function as arg\n",
    "    \"\"\"\n",
    "    num = 12 \n",
    "    return func(num)\n",
    "\n",
    "myfunc(add_one)"
   ]
  },
  {
   "attachments": {},
   "cell_type": "markdown",
   "metadata": {},
   "source": [
    "### 當作function的傳回值\n",
    "- #### 函數傳回函數 ⇒ Function 也可以產生另一個function,使用技巧就是利用函數傳回另一個函數"
   ]
  },
  {
   "cell_type": "code",
   "execution_count": null,
   "metadata": {},
   "outputs": [],
   "source": [
    "def say_hello(): \n",
    "    def say_hi(): \n",
    "        return \"Hi\" \n",
    "    return say_hi\n",
    "\n",
    "#使用函數 \n",
    "hello = say_hello()\n",
    "hello()"
   ]
  },
  {
   "attachments": {},
   "cell_type": "markdown",
   "metadata": {},
   "source": [
    "### 指定給變數參考(assignment operation)\n",
    "- #### 建立一個function,並將其指定給一個變數參考,利用該變數呼叫 function"
   ]
  },
  {
   "cell_type": "code",
   "execution_count": null,
   "metadata": {},
   "outputs": [],
   "source": [
    "def add_one(num):\n",
    "    return num+1\n",
    "\n",
    "add1 = add_one\n",
    "print(add1(10))"
   ]
  },
  {
   "attachments": {},
   "cell_type": "markdown",
   "metadata": {},
   "source": [
    "### Nested Function\n",
    "<details>\n",
    "    <img src='./img/variable_scope.png' style='height:400px'>\n",
    "</details>"
   ]
  },
  {
   "cell_type": "code",
   "execution_count": null,
   "metadata": {},
   "outputs": [],
   "source": [
    "def foo(a):\n",
    "    b = a * 2\n",
    "    def bar(c):  # bar() is a nested function\n",
    "        print(a,b,c)\n",
    "    bar(b*3)\n",
    "\n",
    "foo(2)"
   ]
  },
  {
   "attachments": {},
   "cell_type": "markdown",
   "metadata": {},
   "source": [
    "---\n",
    "# P19-4"
   ]
  },
  {
   "attachments": {},
   "cell_type": "markdown",
   "metadata": {},
   "source": [
    "### Enclosed scope & `nonlocal`"
   ]
  },
  {
   "cell_type": "code",
   "execution_count": null,
   "metadata": {},
   "outputs": [],
   "source": [
    "def foo():\n",
    "    x = 10\n",
    "    print(x)\n",
    "    def bar():\n",
    "        x = 20  \n",
    "        print(x)  # call local of bar()\n",
    "    bar()\n",
    "    print(x)  # call local of foo()\n",
    "\n",
    "foo()"
   ]
  },
  {
   "cell_type": "code",
   "execution_count": null,
   "metadata": {},
   "outputs": [],
   "source": [
    "def foo():\n",
    "    x = 10\n",
    "    print(x)\n",
    "    def bar():\n",
    "        nonlocal x  # call parent's scope x\n",
    "        x = 2\n",
    "        print(x)\n",
    "    bar()\n",
    "    print(x)  # call local of foo()\n",
    "\n",
    "foo()"
   ]
  },
  {
   "cell_type": "code",
   "execution_count": null,
   "metadata": {},
   "outputs": [],
   "source": [
    "\n",
    "g_a = 0\n",
    "def f1():\n",
    "    g_a = 100\n",
    "    print(g_a)\n",
    "    def f2():\n",
    "        # nonlocal g_a \n",
    "        g_a = 20\n",
    "        print(g_a)\n",
    "    f2()\n",
    "    print(g_a)\n",
    "\n",
    "f1()\n",
    "print(g_a)"
   ]
  },
  {
   "attachments": {},
   "cell_type": "markdown",
   "metadata": {},
   "source": [
    "### `global` vs `nonlocal`"
   ]
  },
  {
   "cell_type": "code",
   "execution_count": null,
   "metadata": {},
   "outputs": [],
   "source": [
    "x = 0\n",
    "def bar():\n",
    "    global x\n",
    "    x = 20\n",
    "bar()\n",
    "print(x)  # 20\n",
    "\n",
    "def baz():\n",
    "    nonlocal x  # Can't binding nonlocal variable to global variable\n",
    "    x = 20  \n",
    "baz()"
   ]
  },
  {
   "cell_type": "code",
   "execution_count": null,
   "metadata": {},
   "outputs": [],
   "source": [
    "x = 10\n",
    "def foo():\n",
    "    x=5\n",
    "    def bar():\n",
    "        nonlocal x\n",
    "        print(x)\n",
    "    def baz():\n",
    "        global x\n",
    "        print(x)\n",
    "    def qux():\n",
    "        x = 300\n",
    "        def quux():\n",
    "            nonlocal x\n",
    "            print(x)\n",
    "        def quuz():\n",
    "            global x\n",
    "            print(x)\n",
    "        quux()\n",
    "        quuz()\n",
    "    bar()\n",
    "    baz()\n",
    "    qux()\n",
    "\n",
    "foo()"
   ]
  },
  {
   "attachments": {},
   "cell_type": "markdown",
   "metadata": {},
   "source": [
    "---\n",
    "# P19-5 Decorator"
   ]
  },
  {
   "attachments": {},
   "cell_type": "markdown",
   "metadata": {},
   "source": [
    "- ### 將`@`加在函數上\n",
    "- ### `@`相當於 `f2=f1(f2)`\n"
   ]
  },
  {
   "cell_type": "code",
   "execution_count": null,
   "metadata": {},
   "outputs": [],
   "source": [
    "def f1(func):\n",
    "    print (\"f1\")\n",
    "    func_ret = func()\n",
    "    print(func_ret)\n",
    "    return func_ret + \" & f1_return\"\n",
    "\n",
    "def f2():\n",
    "    print(\"f2\")\n",
    "    return \"f2_return\"\n",
    "\n",
    "f2 = f1(f2)\n",
    "print(f2)"
   ]
  },
  {
   "cell_type": "code",
   "execution_count": null,
   "metadata": {},
   "outputs": [],
   "source": [
    "def f1(func):\n",
    "    print (\"f1\")\n",
    "    func_ret = func()\n",
    "    print(func_ret)\n",
    "    return func_ret + \" & f1_return\"\n",
    "\n",
    "@f1\n",
    "def f2():\n",
    "    print(\"f2\")\n",
    "    return \"f2_return\"\n",
    "\n",
    "print(f2)"
   ]
  },
  {
   "attachments": {},
   "cell_type": "markdown",
   "metadata": {},
   "source": [
    "### Decorator 應用範例\n",
    "- #### 它允許使用者在不改變現有物件的結構下, <font color=\"red\">增加新的功能</font>"
   ]
  },
  {
   "cell_type": "code",
   "execution_count": null,
   "metadata": {},
   "outputs": [],
   "source": [
    "import time\n",
    "\n",
    "def dosomething(sleep_time):\n",
    "    time.sleep(sleep_time)\n",
    "    print('do some thing')\n",
    "\n",
    "dosomething(3)"
   ]
  },
  {
   "cell_type": "code",
   "execution_count": null,
   "metadata": {},
   "outputs": [],
   "source": [
    "import time\n",
    "\n",
    "def timer(func):\n",
    "    def wrap(sleep_time):\n",
    "        t_start = time.time()              # 紀錄func()開始執行前的時間\n",
    "        func(sleep_time)\n",
    "        t_end = time.time()                # 紀錄func()結束執行後的時間\n",
    "        t_count = t_end - t_start          # 計算func()執行時間\n",
    "        print('[花費時間]', t_count)\n",
    "\n",
    "    return wrap\n",
    "\n",
    "\n",
    "def dosomething(sleep_time):\n",
    "    time.sleep(sleep_time)                  # 暫停執行腳本\n",
    "    print('do some thing')\n",
    "\n",
    "\n",
    "foo = timer(dosomething)\n",
    "foo(3)\n"
   ]
  },
  {
   "cell_type": "code",
   "execution_count": null,
   "metadata": {},
   "outputs": [],
   "source": [
    "import time\n",
    "\n",
    "def timer(func):\n",
    "    def wrap(sleep_time):\n",
    "        t_start = time.time()              # 紀錄func()開始執行前的時間\n",
    "        func(sleep_time)\n",
    "        t_end = time.time()                # 紀錄func()結束執行後的時間\n",
    "        t_count = t_end - t_start          # 計算func()執行時間\n",
    "        print('[花費時間]', t_count)\n",
    "\n",
    "    return wrap\n",
    "\n",
    "\n",
    "@timer\n",
    "def dosomething(sleep_time):\n",
    "    time.sleep(sleep_time)                  # 暫停執行腳本\n",
    "    print('do some thing')\n",
    "\n",
    "\n",
    "dosomething(3)"
   ]
  }
 ],
 "metadata": {
  "kernelspec": {
   "display_name": "Python 3",
   "language": "python",
   "name": "python3"
  },
  "language_info": {
   "codemirror_mode": {
    "name": "ipython",
    "version": 3
   },
   "file_extension": ".py",
   "mimetype": "text/x-python",
   "name": "python",
   "nbconvert_exporter": "python",
   "pygments_lexer": "ipython3",
   "version": "3.8.10"
  },
  "orig_nbformat": 4,
  "vscode": {
   "interpreter": {
    "hash": "916dbcbb3f70747c44a77c7bcd40155683ae19c65e1c03b4aa3499c5328201f1"
   }
  }
 },
 "nbformat": 4,
 "nbformat_minor": 2
}
