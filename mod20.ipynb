{
 "cells": [
  {
   "attachments": {},
   "cell_type": "markdown",
   "metadata": {},
   "source": [
    "#  <font color=red> Module_20_函數遞迴與函數式設計 </font> "
   ]
  },
  {
   "attachments": {},
   "cell_type": "markdown",
   "metadata": {},
   "source": [
    "# P20-2 Recursive"
   ]
  },
  {
   "attachments": {},
   "cell_type": "markdown",
   "metadata": {},
   "source": [
    "<details>\n",
    "    <summary style=\"font-size: 1.5em;\">What's factorial</summary>\n",
    "    <img src=\"./img/factorial.png\">\n",
    "</details>\n",
    "<details>\n",
    "    <summary style=\"font-size: 1.5em;\">Factorial with Recursive</summary>\n",
    "    <img src=\"./img/factorial_recursive.png\">\n",
    "</details>"
   ]
  },
  {
   "cell_type": "code",
   "execution_count": null,
   "metadata": {},
   "outputs": [],
   "source": [
    "def fact(n):\n",
    "    \"\"\"Recursive function to find factorial\"\"\"\n",
    "    if n == 1:\n",
    "        return 1\n",
    "    else:\n",
    "        return (n * fact(n - 1))\n",
    "\n",
    "print(fact(1))  # fact(1) = 1\n",
    "print(fact(2))  # fact(2) = 2\n",
    "print(fact(3))  # fact(3) = 6\n",
    "print(fact(4))  # fact(4) = 24\n",
    "print(fact(5))"
   ]
  },
  {
   "attachments": {},
   "cell_type": "markdown",
   "metadata": {},
   "source": [
    "<details>\n",
    "    <summary style=\"font-size: 1.5em;\">What's Fibonacci Sequence?</summary>\n",
    "    <img src=\"./img/fibonacci_sequence.png\">\n",
    "</details>\n",
    "<details>\n",
    "    <summary style=\"font-size: 1.5em;\">Fibonacci with Recursive</summary>\n",
    "    <img src=\"./img/fibonacci_recursive.png\">\n",
    "</details>"
   ]
  },
  {
   "cell_type": "code",
   "execution_count": null,
   "metadata": {},
   "outputs": [],
   "source": [
    "def fib(n):\n",
    "    if n<2 :\n",
    "        return n\n",
    "    return fib(n-1) + fib(n-2)\n",
    "\n",
    "    \n",
    "print(fib(0))  # fib(0) = 0\n",
    "print(fib(1))  # fib(1) = 1\n",
    "print(fib(2))  # fib(2) = 1\n",
    "print(fib(3))  # fib(3) = 2\n",
    "print(fib(4))  # fib(4) = 3\n",
    "print(fib(5))"
   ]
  },
  {
   "attachments": {},
   "cell_type": "markdown",
   "metadata": {},
   "source": [
    "---\n",
    "# P20-3"
   ]
  },
  {
   "attachments": {},
   "cell_type": "markdown",
   "metadata": {},
   "source": [
    "### 運算用的function大多只包含條件式及遞迴呼叫\n",
    "- #### 會盡量使用遞迴取代迴圈"
   ]
  },
  {
   "cell_type": "code",
   "execution_count": null,
   "metadata": {},
   "outputs": [],
   "source": [
    "def fact_loop(n):\n",
    "    \"\"\"Using for-loop to find factorial\"\"\"\n",
    "    final_factorial = 1\n",
    "    for i in range(1, n+1):\n",
    "        final_factorial *= i\n",
    "    return final_factorial\n",
    "\n",
    "\n",
    "def fact_rec(n):\n",
    "    \"\"\"Usig recursive function to find factorial\"\"\"\n",
    "    if n == 1:\n",
    "        return 1\n",
    "    else:\n",
    "        return (n * fact_rec(n - 1))\n",
    "\n",
    "print(fact_loop(5))\n",
    "print(fact_rec(5))"
   ]
  },
  {
   "attachments": {},
   "cell_type": "markdown",
   "metadata": {},
   "source": [
    "### Functional Programming中，常見的三種操作\n",
    "- #### `filter()`\n",
    "  - ##### 用以檢索和篩選\n",
    "- #### `map()`\n",
    "  - ##### 配合給定行為，回傳一個陣列或鏈結串列\n",
    "- #### `reduce()`\n",
    "  - ##### 將素材混合在一塊，得到最終結果\n",
    "\n",
    "\n",
    "<details>\n",
    "    <summary style=\"font-size: 1.5em;\">Illustrator</summary>\n",
    "    <img src=\"./img/filter_map_reduce.png\">\n",
    "</details>"
   ]
  },
  {
   "cell_type": "code",
   "execution_count": null,
   "metadata": {},
   "outputs": [],
   "source": [
    "my_list = [1,2,3,4,5,6,7,8,9,10]\n",
    "odd_list =list(filter(lambda x:(x % 2 == 1), my_list))\n",
    "print(odd_list)"
   ]
  },
  {
   "cell_type": "code",
   "execution_count": null,
   "metadata": {},
   "outputs": [],
   "source": [
    "my_list = [5, 10 ,15, 20, 25, 30]\n",
    "sqrt_list = list(map(lambda x: x**2, my_list))\n",
    "print(sqrt_list)"
   ]
  },
  {
   "cell_type": "code",
   "execution_count": null,
   "metadata": {},
   "outputs": [],
   "source": [
    "from functools import reduce\n",
    "\n",
    "\n",
    "my_list = [5, 8 ,13, 20, 50, 100]\n",
    "reduce_result = reduce(lambda x,y: x+y, my_list)\n",
    "print(reduce_result)"
   ]
  }
 ],
 "metadata": {
  "kernelspec": {
   "display_name": "Python 3",
   "language": "python",
   "name": "python3"
  },
  "language_info": {
   "codemirror_mode": {
    "name": "ipython",
    "version": 3
   },
   "file_extension": ".py",
   "mimetype": "text/x-python",
   "name": "python",
   "nbconvert_exporter": "python",
   "pygments_lexer": "ipython3",
   "version": "3.8.10"
  },
  "orig_nbformat": 4,
  "vscode": {
   "interpreter": {
    "hash": "916dbcbb3f70747c44a77c7bcd40155683ae19c65e1c03b4aa3499c5328201f1"
   }
  }
 },
 "nbformat": 4,
 "nbformat_minor": 2
}
