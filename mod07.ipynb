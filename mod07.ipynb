{
 "cells": [
  {
   "cell_type": "markdown",
   "metadata": {},
   "source": [
    "#  <font color=red> Module_07_程式的流程控制-條件判斷</font>"
   ]
  },
  {
   "cell_type": "markdown",
   "metadata": {},
   "source": [
    "# P7-3"
   ]
  },
  {
   "cell_type": "code",
   "execution_count": null,
   "metadata": {},
   "outputs": [],
   "source": [
    "x = 3\n",
    "y = 7\n",
    "print('Result:', x)"
   ]
  },
  {
   "cell_type": "code",
   "execution_count": null,
   "metadata": {},
   "outputs": [],
   "source": [
    "x = 3; y = 7; print('Result:', x) # 可以這樣寫用分號隔開"
   ]
  },
  {
   "cell_type": "code",
   "execution_count": null,
   "metadata": {},
   "outputs": [],
   "source": [
    "pass"
   ]
  },
  {
   "cell_type": "markdown",
   "metadata": {},
   "source": [
    "---"
   ]
  },
  {
   "cell_type": "markdown",
   "metadata": {},
   "source": [
    "# P7-4"
   ]
  },
  {
   "cell_type": "code",
   "execution_count": null,
   "metadata": {},
   "outputs": [],
   "source": [
    "total = 11+ 12+ 13+ 14\\\n",
    "+15 + 16"
   ]
  },
  {
   "cell_type": "code",
   "execution_count": null,
   "metadata": {},
   "outputs": [],
   "source": [
    "total"
   ]
  },
  {
   "cell_type": "code",
   "execution_count": null,
   "metadata": {},
   "outputs": [],
   "source": [
    "total = 11+ 12+ 13+ 14\n",
    "+15 + 16"
   ]
  },
  {
   "cell_type": "code",
   "execution_count": null,
   "metadata": {},
   "outputs": [],
   "source": [
    "total"
   ]
  },
  {
   "cell_type": "code",
   "execution_count": null,
   "metadata": {},
   "outputs": [],
   "source": [
    "days =['Sun', 'Mon', 'Tue',\n",
    "      'Wed', 'Thu', 'Fri', 'Sat']"
   ]
  },
  {
   "cell_type": "markdown",
   "metadata": {},
   "source": [
    "---"
   ]
  },
  {
   "cell_type": "markdown",
   "metadata": {},
   "source": [
    "# P7-5 "
   ]
  },
  {
   "cell_type": "markdown",
   "metadata": {},
   "source": [
    "### 慣例上 #後面沒有空白，代表只是暫時註解；#後面有空白，代表是正式註解(來自於Linux的慣例)"
   ]
  },
  {
   "cell_type": "code",
   "execution_count": null,
   "metadata": {},
   "outputs": [],
   "source": [
    "# comment\n",
    "#temporary comment"
   ]
  },
  {
   "cell_type": "markdown",
   "metadata": {},
   "source": [
    "---"
   ]
  },
  {
   "cell_type": "markdown",
   "metadata": {},
   "source": [
    "# P7-11\n",
    "Python 使用縮排（indentation）去表示一個程式區塊\n",
    "- 相同縮排表示這些程式碼為同一個區塊\n",
    "- 常常使用 4 個空白鍵或 tab 去做縮排\n",
    "- 不能混和 4 個空白建及 tab 去做縮排，會出現錯誤\n",
    "<details>\n",
    "    <summary>範例圖</summary>\n",
    "    <img src='./img/indentation.png'>\n",
    "</details>"
   ]
  },
  {
   "cell_type": "code",
   "execution_count": null,
   "metadata": {},
   "outputs": [],
   "source": [
    "# if stmt\n",
    "s = int(input('Input score: ')) # 要輸入浮點數的話=>eval(input('Input score: '))\n",
    "\n",
    "if s < 60:\n",
    "    print('Put more effort!')\n",
    "\n",
    "print('Exam socre is',s)"
   ]
  },
  {
   "cell_type": "markdown",
   "metadata": {},
   "source": [
    "---"
   ]
  },
  {
   "cell_type": "markdown",
   "metadata": {},
   "source": [
    "# P7-12"
   ]
  },
  {
   "cell_type": "code",
   "execution_count": null,
   "metadata": {},
   "outputs": [],
   "source": [
    "# if-else stmt\n",
    "s = int(input('Input score: '))\n",
    "\n",
    "if s >= 60:\n",
    "    print(\"Pass!\")\n",
    "else:\n",
    "    print(\"Not pass!\")\n",
    "    \n",
    "print('Exam socre is',s)"
   ]
  },
  {
   "cell_type": "markdown",
   "metadata": {},
   "source": [
    "---"
   ]
  },
  {
   "cell_type": "markdown",
   "metadata": {},
   "source": [
    "# P7-14"
   ]
  },
  {
   "cell_type": "code",
   "execution_count": null,
   "metadata": {},
   "outputs": [],
   "source": [
    "x = 5\n",
    "if x < 10: # x=5符合小於10的條件，程式會進入這個if結構中，執行敘述:print('x < 10')\n",
    "    print('x < 10')\n",
    "elif x < 20: # 雖然x=5符合小於20的條件，但是程式在上一個if條件中就已經進入結構裡了，所以就不會執行這個elif裡的敘述了\n",
    "    print('x < 20')\n",
    "elif x < 50:\n",
    "    print('x < 50')\n",
    "elif x < 100:\n",
    "    print('x < 100')"
   ]
  },
  {
   "cell_type": "markdown",
   "metadata": {},
   "source": [
    "---"
   ]
  },
  {
   "cell_type": "markdown",
   "metadata": {},
   "source": [
    "# P7-16"
   ]
  },
  {
   "cell_type": "code",
   "execution_count": null,
   "metadata": {},
   "outputs": [],
   "source": [
    "num = int(input('enter number'))\n",
    "if num%2 == 0:\n",
    "    if num%3 == 0:\n",
    "        print('Divisible by 3 and 2')\n",
    "    else:\n",
    "        print('Divisible by 2, not divisible by 3')\n",
    "else:\n",
    "    if num%3 == 0:\n",
    "        print('Divisible by 3, not divisible by 2')\n",
    "    else:\n",
    "        print('Not Divisible by 2, not divisible by 3')"
   ]
  },
  {
   "cell_type": "markdown",
   "metadata": {},
   "source": [
    "---"
   ]
  },
  {
   "cell_type": "markdown",
   "metadata": {},
   "source": [
    "# P7-17"
   ]
  },
  {
   "cell_type": "code",
   "execution_count": null,
   "metadata": {},
   "outputs": [],
   "source": [
    "var = 60\n",
    "if var>50: \n",
    "    print('Value more than 50')"
   ]
  },
  {
   "cell_type": "code",
   "execution_count": null,
   "metadata": {},
   "outputs": [],
   "source": [
    "var = 60\n",
    "# Only one statement\n",
    "if var>50: print('Value more than 50')"
   ]
  },
  {
   "cell_type": "markdown",
   "metadata": {},
   "source": [
    "---"
   ]
  },
  {
   "cell_type": "markdown",
   "metadata": {},
   "source": [
    "# P7-19"
   ]
  },
  {
   "cell_type": "markdown",
   "metadata": {},
   "source": [
    "### 先評估C的條件，如果 C 的結果為真則得到 x，否則結果為 y\n",
    ">### `x if C else y`"
   ]
  },
  {
   "cell_type": "code",
   "execution_count": null,
   "metadata": {},
   "outputs": [],
   "source": [
    "x = 7\n",
    "if x==7:\n",
    "    y=3\n",
    "else:\n",
    "    y=5\n",
    "\n",
    "y"
   ]
  },
  {
   "cell_type": "code",
   "execution_count": null,
   "metadata": {},
   "outputs": [],
   "source": [
    "x=9\n",
    "y=3 if x==7 else 5\n",
    "\n",
    "y"
   ]
  },
  {
   "cell_type": "code",
   "execution_count": null,
   "metadata": {},
   "outputs": [],
   "source": [
    "# conditional expression\n",
    "h = int(input('Enter hour(0-23): '))\n",
    "\n",
    "h = h%24 if h>=24 else h\n",
    "\n",
    "print(f'Current time = {h}')"
   ]
  },
  {
   "cell_type": "markdown",
   "metadata": {},
   "source": [
    "---"
   ]
  },
  {
   "cell_type": "markdown",
   "metadata": {},
   "source": [
    "# &spades; 補充 &rArr;單一運算比二元運算快"
   ]
  },
  {
   "cell_type": "code",
   "execution_count": null,
   "metadata": {},
   "outputs": [],
   "source": [
    "%%timeit\n",
    "x=5\n",
    "if x%2==0:\n",
    "    y=1\n",
    "else:\n",
    "    y=50"
   ]
  },
  {
   "cell_type": "code",
   "execution_count": null,
   "metadata": {},
   "outputs": [],
   "source": [
    "%%timeit\n",
    "x=5\n",
    "if x%2: # 少判斷==0的部分\n",
    "    y=50\n",
    "else:\n",
    "    y=1"
   ]
  }
 ],
 "metadata": {
  "kernelspec": {
   "display_name": "Python 3 (ipykernel)",
   "language": "python",
   "name": "python3"
  },
  "language_info": {
   "codemirror_mode": {
    "name": "ipython",
    "version": 3
   },
   "file_extension": ".py",
   "mimetype": "text/x-python",
   "name": "python",
   "nbconvert_exporter": "python",
   "pygments_lexer": "ipython3",
   "version": "3.8.10"
  }
 },
 "nbformat": 4,
 "nbformat_minor": 4
}
