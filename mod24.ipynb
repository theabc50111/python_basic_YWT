{
 "cells": [
  {
   "cell_type": "markdown",
   "metadata": {},
   "source": [
    "#  <font color=red> Module_24_第三方套件</font> "
   ]
  },
  {
   "cell_type": "markdown",
   "metadata": {},
   "source": [
    "# P24-2 pip 指令"
   ]
  },
  {
   "cell_type": "code",
   "execution_count": null,
   "metadata": {},
   "outputs": [],
   "source": [
    "!pip list"
   ]
  },
  {
   "cell_type": "code",
   "execution_count": null,
   "metadata": {},
   "outputs": [],
   "source": [
    "!pip install pillow"
   ]
  },
  {
   "cell_type": "code",
   "execution_count": null,
   "metadata": {},
   "outputs": [],
   "source": [
    "!pip list"
   ]
  },
  {
   "cell_type": "markdown",
   "metadata": {},
   "source": [
    "# P24-3 pillow"
   ]
  },
  {
   "cell_type": "code",
   "execution_count": null,
   "metadata": {},
   "outputs": [],
   "source": [
    "from PIL import Image\n",
    "\n",
    "im = Image.open(\"./mod24/cat.jpg\")\n",
    "print(im)\n",
    "im.save(\"./test.png\")"
   ]
  },
  {
   "cell_type": "code",
   "execution_count": null,
   "metadata": {},
   "outputs": [],
   "source": [
    "from PIL import Image\n",
    "\n",
    "im = Image.open(\"./mod24/cat.jpg\")\n",
    "print(im.size)\n",
    "\n",
    "im.show()\n",
    "\n",
    "width = 400\n",
    "height = 200\n",
    "nim = im.resize( (width, height), Image.BILINEAR )\n",
    "print(nim.size)\n",
    "nim.save(\"./cat_resized.jpg\")"
   ]
  },
  {
   "cell_type": "markdown",
   "metadata": {},
   "source": [
    "- #### Image.FLIP_LEFT_RIGHT (左右翻轉)\n",
    "- #### Image.FLIP_TOP_DOWN (上下翻轉)\n",
    "- #### Image.ROTATE_90 (旋轉90度)\n",
    "- #### Image.ROTATE_180 (旋轉180度)\n",
    "- #### Image.ROTATE_270 (旋轉270度)"
   ]
  },
  {
   "cell_type": "code",
   "execution_count": null,
   "metadata": {},
   "outputs": [],
   "source": [
    "from PIL import Image\n",
    "\n",
    "img = Image.open(\"cat.jpg\")\n",
    "imgR = img.transpose(Image.ROTATE_180)\n",
    "imgR.save(\"cat_R180.jpg\")"
   ]
  },
  {
   "cell_type": "markdown",
   "metadata": {},
   "source": [
    "# P24-4 jieba\n",
    "- 精確模式 ：將句子最精確地切開，叫適合文本分析。\n",
    "- 全模式：把句子中所有的可以成詞的詞語都掃描出來, 速度快。\n",
    "- 搜索引擎模式：在精確模式的基礎上對長詞再次切分，提高召回率，適合用於搜尋引擎分詞。"
   ]
  },
  {
   "cell_type": "code",
   "execution_count": null,
   "metadata": {},
   "outputs": [],
   "source": [
    "import jieba\n",
    "\n",
    "sentence = \"足球運動需要大家一起來推廣，歡迎加入我們的行列！\"\n",
    "print(f\"待切割句子： {sentence}\")\n",
    "words1 = jieba.cut(sentence, cut_all=False)\n",
    "words2 = jieba.cut(sentence, cut_all=True)\n",
    "words3 = jieba.cut_for_search(sentence)\n",
    "print(\"精確模式：\", end=' ')\n",
    "for word in words1:\n",
    "    print(word+'/', end='')\n",
    "print('')\n",
    "print(\"全模式：\", end=' ')\n",
    "for word in words2:\n",
    "    print(word+'/', end='')\n",
    "print('')\n",
    "print(\"搜索引擎模式：\", end=' ')\n",
    "for word in words3:\n",
    "    print(word+'/', end='')"
   ]
  }
 ],
 "metadata": {
  "kernelspec": {
   "display_name": "Python 3 (ipykernel)",
   "language": "python",
   "name": "python3"
  },
  "language_info": {
   "codemirror_mode": {
    "name": "ipython",
    "version": 3
   },
   "file_extension": ".py",
   "mimetype": "text/x-python",
   "name": "python",
   "nbconvert_exporter": "python",
   "pygments_lexer": "ipython3",
   "version": "3.8.10"
  },
  "vscode": {
   "interpreter": {
    "hash": "916dbcbb3f70747c44a77c7bcd40155683ae19c65e1c03b4aa3499c5328201f1"
   }
  }
 },
 "nbformat": 4,
 "nbformat_minor": 4
}
