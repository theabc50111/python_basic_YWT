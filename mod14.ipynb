{
 "cells": [
  {
   "cell_type": "markdown",
   "metadata": {},
   "source": [
    "#  <font color=red> Module_14_函數引數</font>"
   ]
  },
  {
   "attachments": {},
   "cell_type": "markdown",
   "metadata": {},
   "source": [
    "# p14-3 位置引數"
   ]
  },
  {
   "cell_type": "code",
   "execution_count": null,
   "metadata": {},
   "outputs": [],
   "source": [
    "def my_function(x, y):\n",
    "    print(f'x : {x}')\n",
    "    print(f'y : {y}')\n",
    "\n",
    "my_function(5, 6) # 位置引數的接收順序一一對照參數的順序傳給函數"
   ]
  },
  {
   "cell_type": "code",
   "execution_count": null,
   "metadata": {},
   "outputs": [],
   "source": [
    "my_function(5) # 位置引數的數量與函式的參數數量不一致"
   ]
  },
  {
   "cell_type": "code",
   "execution_count": null,
   "metadata": {},
   "outputs": [],
   "source": [
    "# Function definition\n",
    "def printinfo(dbname, port):  # two parameters\n",
    "    print('DB Name:', dbname)\n",
    "    print('Port:', port)\n",
    "\n",
    "# Call function\n",
    "printinfo('MSSQL', 1433)   # two required arguments\n",
    "printinfo(3306, 'MySQL')   # note that order of arguments"
   ]
  },
  {
   "attachments": {},
   "cell_type": "markdown",
   "metadata": {},
   "source": [
    "---\n",
    "# P14-4 keyword arguments"
   ]
  },
  {
   "cell_type": "code",
   "execution_count": null,
   "metadata": {},
   "outputs": [],
   "source": [
    "# 關鍵字引數\n",
    "# Function definition\n",
    "def my_function(x, y):\n",
    "    print(f'x : {x}')\n",
    "    print(f'y : {y}')\n",
    "\n",
    "my_function(y = 6, x = 5) # key-word arguments ,可以不需依照順序傳引數，而是使用引數名稱(x、y)來傳遞引數值"
   ]
  },
  {
   "cell_type": "code",
   "execution_count": null,
   "metadata": {},
   "outputs": [],
   "source": [
    "# Function definition\n",
    "def printinfo(dbname, port):  # two parameters\n",
    "    print('DB Name:', dbname)\n",
    "    print('Port:', port)\n",
    "\n",
    "# Call function\n",
    "printinfo(port=1433, name='MSSQL')  # keyword args"
   ]
  },
  {
   "cell_type": "code",
   "execution_count": null,
   "metadata": {},
   "outputs": [],
   "source": [
    "printinfo(name='MSSQL', port=1433)  # keyword args可以不需依照順序傳引數"
   ]
  },
  {
   "cell_type": "code",
   "execution_count": null,
   "metadata": {},
   "outputs": [],
   "source": [
    "printinfo('MySQL', port=3306)   # 1 positional arguments, 1 kwarg"
   ]
  },
  {
   "cell_type": "code",
   "execution_count": null,
   "metadata": {},
   "outputs": [],
   "source": [
    "printinfo('MSSQL', 1433)   # 2 positional arguments"
   ]
  },
  {
   "attachments": {},
   "cell_type": "markdown",
   "metadata": {},
   "source": [
    "### Look built-in function document "
   ]
  },
  {
   "cell_type": "code",
   "execution_count": null,
   "metadata": {},
   "outputs": [],
   "source": [
    "print?"
   ]
  },
  {
   "cell_type": "code",
   "execution_count": null,
   "metadata": {},
   "outputs": [],
   "source": [
    "print('ABC',end=' ') # 'ABC'就是位置引數，end就是關鍵字引數 "
   ]
  },
  {
   "attachments": {},
   "cell_type": "markdown",
   "metadata": {},
   "source": [
    "---\n",
    "# P14-5 default arguments"
   ]
  },
  {
   "cell_type": "code",
   "execution_count": null,
   "metadata": {},
   "outputs": [],
   "source": [
    "# Function definition\n",
    "def printinfo(tblname, dbname='MySQL', port=3306):\n",
    "    print('Table Name:', tblname)\n",
    "    print('DB Name:', dbname)\n",
    "    print('Port:', port)\n",
    "\n",
    "printinfo('person') # 1 positional argument, two default arguments\n",
    "printinfo(tblname='person') # 1 keyword argument,  two default arguments"
   ]
  },
  {
   "cell_type": "code",
   "execution_count": null,
   "metadata": {},
   "outputs": [],
   "source": [
    "printinfo(port=3330, tblname='products') # 2 keyword arguments, one of them has default value, but is covered by the new given value. the last one is default arguments"
   ]
  },
  {
   "cell_type": "code",
   "execution_count": null,
   "metadata": {},
   "outputs": [],
   "source": [
    "printinfo('person', 'MSSQL', 1433) # 3 positional arguments, two of them have default value, but they are covered by the new given value"
   ]
  },
  {
   "cell_type": "code",
   "execution_count": null,
   "metadata": {},
   "outputs": [],
   "source": [
    "printinfo('products', port=3330)  # 1 positional, 1 keyword arguments. the last one is default arguments"
   ]
  },
  {
   "attachments": {},
   "cell_type": "markdown",
   "metadata": {},
   "source": [
    "### 帶著預設引數的參數必須設置在一般函數參數後面"
   ]
  },
  {
   "cell_type": "code",
   "execution_count": null,
   "metadata": {},
   "outputs": [],
   "source": [
    "# non-default argument follows default argument\n",
    "def printinfo(tblname=\"table1\", dbname, port=3306):\n",
    "    print('Table Name:', tblname)\n",
    "    print('DB Name:', dbname)\n",
    "    print('Port:', port)"
   ]
  },
  {
   "attachments": {},
   "cell_type": "markdown",
   "metadata": {},
   "source": [
    "### Look built-in function document "
   ]
  },
  {
   "cell_type": "code",
   "execution_count": null,
   "metadata": {},
   "outputs": [],
   "source": [
    "print?"
   ]
  },
  {
   "cell_type": "code",
   "execution_count": null,
   "metadata": {},
   "outputs": [],
   "source": [
    "print('ABC') # end 與 sep 都沒傳引數，使用預設值 => 預設引數"
   ]
  },
  {
   "attachments": {},
   "cell_type": "markdown",
   "metadata": {},
   "source": [
    "---\n",
    "# P14-6 不固定長引數"
   ]
  },
  {
   "attachments": {},
   "cell_type": "markdown",
   "metadata": {},
   "source": [
    "### 在參數名稱前面加上㇐個星號(*) 代表它可以接收Arbitrary argument"
   ]
  },
  {
   "cell_type": "code",
   "execution_count": null,
   "metadata": {},
   "outputs": [],
   "source": [
    "# 在參數前面加上一個*，就可以接收複數個引數，且數量可以不固定\n",
    "def person(name,age,*experience): \n",
    "    print(f'Hi {name}, you are {age} years old, you have work experience in {experience}')\n",
    "\n",
    "person('Nick', 18, 'CompanyA', 'CompanyB', 'CompanyC', 'CompanyD','CompanyE') # 'Nick'、18 is  position argumnets, 'CompanyA', 'CompanyB', 'CompanyC', 'CompanyD' is arbitrary arguments "
   ]
  },
  {
   "attachments": {},
   "cell_type": "markdown",
   "metadata": {},
   "source": [
    "### 在參數名稱前面加上兩個星號(**) 代表它可以接收Arbitrary keyword argument"
   ]
  },
  {
   "cell_type": "code",
   "execution_count": null,
   "metadata": {},
   "outputs": [],
   "source": [
    "# 在參數前面加上兩個*，就可以接收複數個關鍵字引數，且數量可以不固定\n",
    "def person(name,age,**experience): \n",
    "    print(f'Hi {name}, you are {age} years old, you have work experience in {experience}')\n",
    "\n",
    "person('Nick', 18, CompanyA=\"3 years\", CompanyB=\"1 year\") # 'Nick'、18 is  position argumnets, CompanyA=\"3 years\", CompanyB=\"1 year\" is arbitrary keyword arguments "
   ]
  },
  {
   "attachments": {},
   "cell_type": "markdown",
   "metadata": {},
   "source": [
    "### 可以接收Arbitrary argument / Arbitrary keyword argument 的參數最好放在一般函數參數後面"
   ]
  },
  {
   "cell_type": "code",
   "execution_count": null,
   "metadata": {},
   "outputs": [],
   "source": [
    "def func(a,b=2,*c,d,e=3):\n",
    "    print(f\"a={a}, b={b}, c={c}, d={d}, e={e}\")\n",
    "\n",
    "func(6,5,4,3,2,1,d=10)\n",
    "func(6,5,4,3,2,1,d=10,e=8)\n",
    "func(8,d=10)\n",
    "func(8,10)  # d只能接收kwarg，所以d無法接收到引數"
   ]
  },
  {
   "attachments": {},
   "cell_type": "markdown",
   "metadata": {},
   "source": [
    "---\n",
    "# P14-7 常見的錯誤使用方法"
   ]
  },
  {
   "cell_type": "code",
   "execution_count": null,
   "metadata": {},
   "outputs": [],
   "source": [
    "# non-default argument after default argument\n",
    "def printinfo(tblname=\"table1\", dbname, port=3306):\n",
    "    print('Table Name:', tblname)\n",
    "    print('DB Name:', dbname)\n",
    "    print('Port:', port)"
   ]
  },
  {
   "cell_type": "code",
   "execution_count": null,
   "metadata": {},
   "outputs": [],
   "source": [
    "# required argument missing\n",
    "def printinfo(name, age=35):\n",
    "    print('Name:', name)\n",
    "    print('Age', age)\n",
    "\n",
    "printinfo()  # lack of required arg"
   ]
  },
  {
   "cell_type": "code",
   "execution_count": null,
   "metadata": {},
   "outputs": [],
   "source": [
    "# positional after keyword argument\n",
    "def printinfo(tblname, dbname='MySQL', port=3306):\n",
    "    print('Table Name:', tblname)\n",
    "    print('DB Name:', dbname)\n",
    "    print('Port:', port)\n",
    "    \n",
    "printinfo(port=8888, 'person')  # keyword argument has to be after required argument"
   ]
  },
  {
   "cell_type": "code",
   "execution_count": null,
   "metadata": {},
   "outputs": [],
   "source": [
    "# duplicate arguments  2 tblname\n",
    "def printinfo(tblname, dbname='MySQL', port=3306):\n",
    "    print('Table Name:', tblname)\n",
    "    print('DB Name:', dbname)\n",
    "    print('Port:', port)\n",
    "    \n",
    "printinfo('person', tblname='products')     "
   ]
  },
  {
   "cell_type": "code",
   "execution_count": null,
   "metadata": {},
   "outputs": [],
   "source": [
    "# duplicate arguments  2 b\n",
    "def func(a,b=2,*c,d,e=3):\n",
    "    print(f\"a={a}, b={b}, c={c}, d={d}, e={e}\")\n",
    "\n",
    "func(6,5,4,3,2,1,e=8,b=9,d=10)\n",
    "# func(1,b=9,2,3,4,5,6,d=10)\n",
    "# func(8,7,6,5,4,8)"
   ]
  },
  {
   "cell_type": "code",
   "execution_count": null,
   "metadata": {},
   "outputs": [],
   "source": [
    "# positional after keyword argument\n",
    "def func(a,b=2,*c,d,e=3):\n",
    "    print(f\"a={a}, b={b}, c={c}, d={d}, e={e}\")\n",
    "\n",
    "func(1,b=9,2,3,4,5,6,d=10)\n",
    "# func(8,7,6,5,4,8)"
   ]
  },
  {
   "cell_type": "code",
   "execution_count": null,
   "metadata": {},
   "outputs": [],
   "source": [
    "# required argument missing\n",
    "def func(a,b=2,*c,d,e=3):\n",
    "    print(f\"a={a}, b={b}, c={c}, d={d}, e={e}\")\n",
    "\n",
    "func(8,7,6,5,4,8)"
   ]
  },
  {
   "attachments": {},
   "cell_type": "markdown",
   "metadata": {},
   "source": [
    "---\n",
    "# &spades; 補充"
   ]
  },
  {
   "attachments": {},
   "cell_type": "markdown",
   "metadata": {},
   "source": [
    "### P6-2\n",
    ">### print(*objects, end='\\n') \n",
    "### P6-6\n",
    ">### str.format(*args, ***kwargs)\n",
    "### P11-7\n",
    ">### dict1 = dict(one=1, two=2, three=3) <font color=red># arbitrary keyword arguments</font>\n",
    "### P12-6\n",
    ">### s.update(*others) <font color=red># arbitrary arguments</font>"
   ]
  },
  {
   "attachments": {},
   "cell_type": "markdown",
   "metadata": {},
   "source": [
    "### 函式參數設定順序:\n",
    "<pre><code>\n",
    "def f(pos1, pos2, /, pos_or_kwd, *, kwd1, kwd2):\n",
    "      -----------    ----------     ----------\n",
    "        |             |                  |\n",
    "        |        Positional or keyword   |\n",
    "        |                                - Keyword only\n",
    "         -- Positional only\n",
    "</code></pre>\n",
    "#### 函式參數設定順序注意事項:\n",
    ">- 擁有預設引數的參數必須要定義在一般參數之後\n",
    ">>- 這裡是指在以/ 、* 為界線，在這個界線內的參數必須符合這個條件:\n",
    "擁有預設引數的參數必須要定義在一般位置參數之後\n",
    ">- `/`Positional-only parameters前面只能擺擁有預設引數的參數、一般參數\n",
    ">- 定義參數時，`*`(Keyword-Only Arguments)  與 `*args`(Arbitrary Argument Lists) 只能存在其中一個\n",
    ">- `*args`(Arbitrary Argument Lists)後面的參數只能接收關鍵字引數(Keyword-Only Arguments)\n",
    ">- `**kwargs`必須定義在`*arg`之後 (`*`name must occur before `**`name)\n",
    "---\n",
    "### 引數設定順序⇒位置引數→關鍵字引數\n",
    ">### `func(a,b,d=500,c=600)`\n",
    "\n",
    "ref : \n",
    "- https://docs.python.org/3.12/tutorial/controlflow.html#special-parameters\n",
    "- https://docs.python.org/3.12/tutorial/controlflow.html#recap"
   ]
  },
  {
   "attachments": {},
   "cell_type": "markdown",
   "metadata": {},
   "source": [
    "### Arguments unpacking"
   ]
  },
  {
   "cell_type": "code",
   "execution_count": null,
   "metadata": {},
   "outputs": [],
   "source": [
    "# unpack string to be arbitrary arguments\n",
    "'{2}, {0}, {1}'.format(*'abc')"
   ]
  },
  {
   "cell_type": "code",
   "execution_count": null,
   "metadata": {},
   "outputs": [],
   "source": [
    "# unpack dict to be arbitrary keyword arguments\n",
    "data = {'name': 'III', 'est': 40} \n",
    "'The name is {name}, aged {est}.'.format(**data)"
   ]
  }
 ],
 "metadata": {
  "kernelspec": {
   "display_name": "Python 3",
   "language": "python",
   "name": "python3"
  },
  "language_info": {
   "codemirror_mode": {
    "name": "ipython",
    "version": 3
   },
   "file_extension": ".py",
   "mimetype": "text/x-python",
   "name": "python",
   "nbconvert_exporter": "python",
   "pygments_lexer": "ipython3",
   "version": "3.8.10"
  },
  "vscode": {
   "interpreter": {
    "hash": "916dbcbb3f70747c44a77c7bcd40155683ae19c65e1c03b4aa3499c5328201f1"
   }
  }
 },
 "nbformat": 4,
 "nbformat_minor": 4
}
