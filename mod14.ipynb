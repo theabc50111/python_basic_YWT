{
 "cells": [
  {
   "cell_type": "markdown",
   "metadata": {},
   "source": [
    "#  <font color=red> Module_14_函數引數</font>"
   ]
  },
  {
   "cell_type": "markdown",
   "metadata": {},
   "source": [
    "# p14-4 位置引數"
   ]
  },
  {
   "cell_type": "code",
   "execution_count": null,
   "metadata": {},
   "outputs": [],
   "source": [
    "def my_function(x, y):\n",
    "    print(f'x : {x}')\n",
    "    print(f'y : {y}')\n",
    "\n",
    "my_function(5, 6) # 位置引數的接收順序一一對照參數的順序傳給函數"
   ]
  },
  {
   "cell_type": "code",
   "execution_count": null,
   "metadata": {},
   "outputs": [],
   "source": [
    "my_function(5) # 位置引數的數量與函式的參數數量不一致"
   ]
  },
  {
   "cell_type": "code",
   "execution_count": null,
   "metadata": {},
   "outputs": [],
   "source": [
    "# Function definition\n",
    "def area(length,width): # two parametersa\n",
    "    return length*width\n",
    "\n",
    "# MAIN\n",
    "# Call function\n",
    "result = area(15,8) # two require arguments\n",
    "print('Area =',result)"
   ]
  },
  {
   "cell_type": "markdown",
   "metadata": {},
   "source": [
    "---"
   ]
  },
  {
   "cell_type": "markdown",
   "metadata": {},
   "source": [
    "# P14-6 keyword arguments"
   ]
  },
  {
   "cell_type": "code",
   "execution_count": null,
   "metadata": {},
   "outputs": [],
   "source": [
    "# 關鍵字引數\n",
    "# Function definition\n",
    "def my_function(x, y):\n",
    "    print(f'x : {x}')\n",
    "    print(f'y : {y}')\n",
    "\n",
    "my_function(y = 6, x = 5) # key-word arguments ,可以不需依照順序傳引數，而是使用引數名稱(x、y)來傳遞引數值"
   ]
  },
  {
   "cell_type": "code",
   "execution_count": null,
   "metadata": {},
   "outputs": [],
   "source": [
    "# 關鍵字引數\n",
    "# Function definition\n",
    "def printinfo(dbname, port):\n",
    "    print('DB Name:', dbname)\n",
    "    print('Port:', port)\n",
    "\n",
    "# Call function\n",
    "printinfo('MSSQL', 1433)    # required arguments\n",
    "printinfo(port=3306, dbname='MySQL') # key-word arguments ,可以不需依照順序傳引數，而是使用引數名稱(port、dbname)來傳遞引數值"
   ]
  },
  {
   "cell_type": "code",
   "execution_count": null,
   "metadata": {},
   "outputs": [],
   "source": [
    "# Function definition\n",
    "def printinfo(name, age):\n",
    "    print('Name:', name)\n",
    "    print('Age', age)\n",
    "\n",
    "# MAIN\n",
    "# Call function\n",
    "printinfo('Harris',40)\n",
    "printinfo(age=20, name='Mary')"
   ]
  },
  {
   "cell_type": "code",
   "execution_count": null,
   "metadata": {},
   "outputs": [],
   "source": [
    "print?"
   ]
  },
  {
   "cell_type": "code",
   "execution_count": null,
   "metadata": {},
   "outputs": [],
   "source": [
    "print('ABC',end=' ') # 'ABC'就是位置引數，end就是關鍵字引數 "
   ]
  },
  {
   "cell_type": "markdown",
   "metadata": {},
   "source": [
    "---"
   ]
  },
  {
   "cell_type": "markdown",
   "metadata": {},
   "source": [
    "# P14-8 default arguments"
   ]
  },
  {
   "cell_type": "code",
   "execution_count": null,
   "metadata": {},
   "outputs": [],
   "source": [
    "# Function definition\n",
    "def printinfo(tblname, dbname='MySQL', port=3306):\n",
    "    print('Table Name:', tblname)\n",
    "    print('DB Name:', dbname)\n",
    "    print('Port:', port)\n",
    "\n",
    "printinfo('person') # 1 positional argument, two default arguments\n",
    "printinfo(tblname='person') # 1 keyword argument,  two default arguments"
   ]
  },
  {
   "cell_type": "code",
   "execution_count": null,
   "metadata": {},
   "outputs": [],
   "source": [
    "printinfo(port=3330, tblname='products') # 2 keyword arguments, one of them has default value, but is covered by the new given value. the last one is default arguments"
   ]
  },
  {
   "cell_type": "code",
   "execution_count": null,
   "metadata": {},
   "outputs": [],
   "source": [
    "printinfo('person', 'MSSQL', 1433) # 3 positional arguments, two of them have default value, but they are covered by the new given value"
   ]
  },
  {
   "cell_type": "code",
   "execution_count": null,
   "metadata": {},
   "outputs": [],
   "source": [
    "printinfo('products', port=3330)  # 1 positional, 1 keyword arguments. the last one is default arguments"
   ]
  },
  {
   "cell_type": "code",
   "execution_count": null,
   "metadata": {},
   "outputs": [],
   "source": [
    "# Function definition \n",
    "def printinfo(name, age=35):\n",
    "    print('Name:', name)\n",
    "    print('Age', age)\n",
    "\n",
    "# MAIN\n",
    "# Call function\n",
    "printinfo(age=50, name='Calvin')   # age is 50\n",
    "printinfo(name='Calvin')   # age is 35"
   ]
  },
  {
   "cell_type": "code",
   "execution_count": null,
   "metadata": {},
   "outputs": [],
   "source": [
    "print?"
   ]
  },
  {
   "cell_type": "code",
   "execution_count": null,
   "metadata": {},
   "outputs": [],
   "source": [
    "print('ABC') # end 與 sep 都沒傳引數，使用預設值 => 預設引數"
   ]
  },
  {
   "cell_type": "markdown",
   "metadata": {},
   "source": [
    "---"
   ]
  },
  {
   "cell_type": "markdown",
   "metadata": {},
   "source": [
    "# P14-9 引數 錯誤用法"
   ]
  },
  {
   "cell_type": "code",
   "execution_count": null,
   "metadata": {},
   "outputs": [],
   "source": [
    "# required argument missing\n",
    "def printinfo(name, age=35):\n",
    "    print('Name:', name)\n",
    "    print('Age', age)\n",
    "\n",
    "printinfo()  # lack of required arg"
   ]
  },
  {
   "cell_type": "code",
   "execution_count": null,
   "metadata": {},
   "outputs": [],
   "source": [
    "# positional after keyword argument\n",
    "def printinfo(tblname, dbname='MySQL', port=3306):\n",
    "    print('Table Name:', tblname)\n",
    "    print('DB Name:', dbname)\n",
    "    print('Port:', port)\n",
    "    \n",
    "printinfo(port=8888, 'person')  # keyword argument has to be after required argument"
   ]
  },
  {
   "cell_type": "code",
   "execution_count": null,
   "metadata": {},
   "outputs": [],
   "source": [
    "# duplicate arguments  2 tblname\n",
    "def printinfo(tblname, dbname='MySQL', port=3306):\n",
    "    print('Table Name:', tblname)\n",
    "    print('DB Name:', dbname)\n",
    "    print('Port:', port)\n",
    "    \n",
    "printinfo('person', tblname='products')     "
   ]
  },
  {
   "cell_type": "markdown",
   "metadata": {},
   "source": [
    "---"
   ]
  },
  {
   "cell_type": "markdown",
   "metadata": {},
   "source": [
    "# P14-11 不固定長引數"
   ]
  },
  {
   "cell_type": "code",
   "execution_count": null,
   "metadata": {},
   "outputs": [],
   "source": [
    "# 在參數前面加上一個*，就可以接收複數個引數，且數量可以不固定\n",
    "def person(name,age,*experience): \n",
    "    print(f'Hi {name}, you are {age} years old, you have work experience in {experience}')\n",
    "\n",
    "person('Nick', 18, 'CompanyA', 'CompanyB', 'CompanyC', 'CompanyD','CompanyE') # 'Nick'、18 is  position argumnets, 'CompanyA', 'CompanyB', 'CompanyC', 'CompanyD' is arbitrary arguments "
   ]
  },
  {
   "cell_type": "code",
   "execution_count": null,
   "metadata": {},
   "outputs": [],
   "source": [
    "def func(a,b=2,*c,d,e=3):\n",
    "    print(a,b,c,d,e)\n",
    "\n",
    "func(6,5,4,3,2,1,d=10)\n",
    "func(6,5,4,3,2,1,d=10,e=8)\n",
    "func(8,d=10)\n",
    "# func(6,5,4,3,2,1,e=8,b=9,d=10)\n",
    "# func(1,b=9,2,3,4,5,6,d=10)\n",
    "# func(8,7,6,5,4,8)"
   ]
  },
  {
   "cell_type": "code",
   "execution_count": null,
   "metadata": {},
   "outputs": [],
   "source": [
    "# Function definition\n",
    "# 在參數前面加上一個*，就可以接收複數個引數，且數量可以不固定\n",
    "def printinfo(arg1, *vartuple):\n",
    "    print('Output is: ')\n",
    "    print('first:',arg1)\n",
    "    print('the rest of args :', vartuple)\n",
    "    for var in vartuple:\n",
    "        print(var)\n",
    "    print()\n",
    "    \n",
    "# MAIN\n",
    "# Call function\n",
    "printinfo(10)\n",
    "printinfo(70, 60, 50) # 70 is a position argumnet, 60、50 is arbitrary arguments "
   ]
  },
  {
   "cell_type": "markdown",
   "metadata": {},
   "source": [
    "---"
   ]
  },
  {
   "cell_type": "markdown",
   "metadata": {},
   "source": [
    "# &spades; 補充"
   ]
  },
  {
   "cell_type": "markdown",
   "metadata": {},
   "source": [
    "### `**kwargs`"
   ]
  },
  {
   "cell_type": "code",
   "execution_count": null,
   "metadata": {},
   "outputs": [],
   "source": [
    "# 參數名稱前面加上**，可以接受所有剩餘的傳入資料(關鍵字引數)，產生字典\n",
    "def info(**dt):                # **kwargs\n",
    "    print(dt)                  #{'name': 'Tom', 'age': 30}\n",
    "    print(type(dt))            # dict\n",
    "\n",
    "info(name=\"Tom\",age=30)"
   ]
  },
  {
   "cell_type": "code",
   "execution_count": null,
   "metadata": {},
   "outputs": [],
   "source": [
    "# 參數名稱前面加上**，可以接受所有剩餘的傳入資料(關鍵字引數)，產生字典\n",
    "def foo(x,y,z,**kwargs):\n",
    "    print(f'x:{x}, y:{y}, z:{z}, kwargs:{kwargs}')\n",
    "foo(1,y='2',z='3',a='A',b='B',c='C')"
   ]
  },
  {
   "cell_type": "markdown",
   "metadata": {},
   "source": [
    "### P6-3\n",
    ">### print(*objects, end='\\n') \n",
    "### P6-12\n",
    ">### str.format(*args, ***kwargs)\n",
    "### P6-15\n",
    ">### data = {'name': 'III', 'est': 40} \n",
    ">### 'The name is {name}, aged {est}.'.format(**data) <font color=red># unpack dict to be arbitrary keyword arguments</font>\n",
    ">### '{2}, {1}, {0}'.format(*'abc') <font color=red># unpack string to be arbitrary arguments</font>\n",
    "### P11-4\n",
    ">### dict1 = dict(one=1, two=2, three=3) <font color=red># arbitrary keyword arguments</font>\n",
    "### P12-13\n",
    ">### s.update(*others) <font color=red># arbitrary arguments</font>"
   ]
  },
  {
   "cell_type": "markdown",
   "metadata": {},
   "source": [
    "### 函式參數設定順序:\n",
    "<pre><code>\n",
    "def f(pos1, pos2, /, pos_or_kwd, *, kwd1, kwd2):\n",
    "      -----------    ----------     ----------\n",
    "        |             |                  |\n",
    "        |        Positional or keyword   |\n",
    "        |                                - Keyword only\n",
    "         -- Positional only\n",
    "</code></pre>\n",
    "#### 函式參數設定順序注意事項:\n",
    ">- 擁有預設引數的參數必須要定義在一般參數之後\n",
    ">>- 這裡是指在以/ 、* 為界線，在這個界線內的參數必須符合這個條件:\n",
    "擁有預設引數的參數必須要定義在一般位置參數之後\n",
    ">- `/`Positional-only parameters前面只能擺擁有預設引數的參數、一般參數\n",
    ">- 定義參數時，`*`(Keyword-Only Arguments)  與 `*args`(Arbitrary Argument Lists) 只能存在其中一個\n",
    ">- `*args`(Arbitrary Argument Lists)後面的參數只能接收關鍵字引數(Keyword-Only Arguments)\n",
    ">- `**kwargs`必須定義在`*arg`之後 (`*`name must occur before `**`name)\n",
    "---\n",
    "### 引數設定順序⇒位置引數→關鍵字引數\n",
    ">### `func(a,b,d=500,c=600)`\n",
    "\n",
    "ref : \n",
    "- https://docs.python.org/3.8/tutorial/controlflow.html#special-parameters\n",
    "- https://docs.python.org/3.8/tutorial/controlflow.html#recap"
   ]
  }
 ],
 "metadata": {
  "kernelspec": {
   "display_name": "Python 3 (ipykernel)",
   "language": "python",
   "name": "python3"
  },
  "language_info": {
   "codemirror_mode": {
    "name": "ipython",
    "version": 3
   },
   "file_extension": ".py",
   "mimetype": "text/x-python",
   "name": "python",
   "nbconvert_exporter": "python",
   "pygments_lexer": "ipython3",
   "version": "3.8.10"
  }
 },
 "nbformat": 4,
 "nbformat_minor": 4
}
