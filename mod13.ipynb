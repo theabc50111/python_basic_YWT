{
 "cells": [
  {
   "cell_type": "markdown",
   "metadata": {},
   "source": [
    "#  <font color=red> Module_13_function</font>"
   ]
  },
  {
   "cell_type": "markdown",
   "metadata": {},
   "source": [
    "# P13-3\n",
    "## 使用函數/函式的好處 :\n",
    ">### 程式碼重複使用\n",
    ">### 功能切割，模組化，結構化\n",
    ">### 簡化程式提高程式的可讀性\n",
    ">### 易於維護及管理\n",
    "## 之前的章節提到各種內建的Function與不同資料型別的Method，有時會把Function與Method兩個詞混用\n",
    "><details>\n",
    "    <summary>illustrator</summary>\n",
    "    <img src='./img/method_func.png' style='height:300px'>\n",
    " </details>"
   ]
  },
  {
   "cell_type": "code",
   "execution_count": null,
   "metadata": {},
   "outputs": [],
   "source": [
    "S='hello'\n",
    "S.upper()\n",
    "len(S)"
   ]
  },
  {
   "cell_type": "markdown",
   "metadata": {},
   "source": [
    "---"
   ]
  },
  {
   "cell_type": "markdown",
   "metadata": {},
   "source": [
    "# P13-6\n",
    "<img src='./img/main_func2.png' style='height:400px'>"
   ]
  },
  {
   "cell_type": "code",
   "execution_count": null,
   "metadata": {},
   "outputs": [],
   "source": [
    "# Function definition\n",
    "def make_a_sound():\n",
    "    print('quack')\n",
    "\n",
    "# main function    \n",
    "make_a_sound() # Call function \n",
    "print('-'*30)\n",
    "for i in range(3):\n",
    "    make_a_sound()"
   ]
  },
  {
   "cell_type": "markdown",
   "metadata": {},
   "source": [
    "###  如果函數內沒有明確的使用 return 敘述，預設為 “return None”"
   ]
  },
  {
   "cell_type": "code",
   "execution_count": null,
   "metadata": {
    "tags": []
   },
   "outputs": [],
   "source": [
    "def sum_num(num1,num2):\n",
    "    print(\"In funcion:\",num1+num2)\n",
    "\n",
    "print('output of sum_num(5,6) :', sum_num(5,6))"
   ]
  },
  {
   "cell_type": "markdown",
   "metadata": {},
   "source": [
    "### 比較使用return 與沒有 return的差別"
   ]
  },
  {
   "cell_type": "code",
   "execution_count": null,
   "metadata": {
    "tags": []
   },
   "outputs": [],
   "source": [
    "def sum_num_ret(num1, num2):\n",
    "    print(\"In funcion:\",num1+num2)\n",
    "    return num1+num2\n",
    "\n",
    "# main function\n",
    "print('output of sum_num(5,6) :', sum_num_ret(5,6))"
   ]
  },
  {
   "cell_type": "code",
   "execution_count": null,
   "metadata": {
    "tags": []
   },
   "outputs": [],
   "source": [
    "def sum_num_ret(num1, num2):\n",
    "    print(\"In funcion:\",num1+num2)\n",
    "    return num1+num2\n",
    "\n",
    "# main function\n",
    "sum_num_ret(5, 6)\n",
    "a = sum_num_ret(7, 8)\n",
    "print(a)"
   ]
  },
  {
   "cell_type": "code",
   "execution_count": null,
   "metadata": {},
   "outputs": [],
   "source": [
    "a = [1,2,3,4]\n",
    "b = a.pop()\n",
    "print(a,b)"
   ]
  },
  {
   "cell_type": "code",
   "execution_count": null,
   "metadata": {},
   "outputs": [],
   "source": [
    "a = print('abc')\n",
    "print(a)"
   ]
  },
  {
   "cell_type": "code",
   "execution_count": null,
   "metadata": {},
   "outputs": [],
   "source": [
    "# Function definition\n",
    "def printme(pstr):\n",
    "    print(pstr)\n",
    "\n",
    "def sum_nums(n1, n2):\n",
    "    return n1+n2\n",
    "    \n",
    "# Call function\n",
    "printme('Hello Python') #'Hello Python' is an argument for printme()\n",
    "printme('Python Programming')\n",
    "\n",
    "total = sum_nums(35,20)\n",
    "print('sum of 35+20 :',total)\n",
    "print('sum of 40+50 :',sum_nums(40,50))"
   ]
  },
  {
   "cell_type": "markdown",
   "metadata": {},
   "source": [
    "### 可以使用元組(tuple) 格式傳回多個資料"
   ]
  },
  {
   "cell_type": "code",
   "execution_count": null,
   "metadata": {},
   "outputs": [],
   "source": [
    "def sum_num2(num1,num2):\n",
    "    sum_num = num1+num2\n",
    "    multi_num = num1*num2\n",
    "    return sum_num, multi_num\n",
    "\n",
    "a,b = sum_num2(5,6)\n",
    "print(a,b)"
   ]
  },
  {
   "cell_type": "markdown",
   "metadata": {},
   "source": [
    "### 使用help() 或者 ?(Jupyter notebook的功能) 尋找函式的說明(document string)"
   ]
  },
  {
   "cell_type": "code",
   "execution_count": null,
   "metadata": {},
   "outputs": [],
   "source": [
    "def func1():\n",
    "    \"\"\"print python world\"\"\" # document string\n",
    "    print('python world')"
   ]
  },
  {
   "cell_type": "code",
   "execution_count": null,
   "metadata": {},
   "outputs": [],
   "source": [
    "help(func1)"
   ]
  },
  {
   "cell_type": "code",
   "execution_count": null,
   "metadata": {},
   "outputs": [],
   "source": [
    "func1?"
   ]
  },
  {
   "cell_type": "code",
   "execution_count": null,
   "metadata": {},
   "outputs": [],
   "source": [
    "print?"
   ]
  },
  {
   "cell_type": "markdown",
   "metadata": {},
   "source": [
    "### 變數 i 若沒有使用到，可使用底線 _ 代替，表示沒有使用到這個變數。"
   ]
  },
  {
   "cell_type": "code",
   "execution_count": null,
   "metadata": {},
   "outputs": [],
   "source": [
    "for _ in range(3):  #因為 i 沒用到\n",
    "    print('good')"
   ]
  },
  {
   "cell_type": "markdown",
   "metadata": {},
   "source": [
    "---"
   ]
  },
  {
   "cell_type": "markdown",
   "metadata": {},
   "source": [
    "# P13-9\n",
    "###### (P15-7 First)"
   ]
  },
  {
   "cell_type": "markdown",
   "metadata": {},
   "source": [
    "# Assignment 只是建立物件的參考(References to objects)，Python中的reference就是 C語言的指標\n",
    "><details>\n",
    "    <summary>illustrator</summary>\n",
    "    <img src='./img/py_c_pointer.gif' style='height:400px'>\n",
    " </details>"
   ]
  },
  {
   "cell_type": "markdown",
   "metadata": {},
   "source": [
    "---"
   ]
  },
  {
   "cell_type": "markdown",
   "metadata": {},
   "source": [
    "# P13-10"
   ]
  },
  {
   "cell_type": "markdown",
   "metadata": {},
   "source": [
    "### Python 的 pass by assignment 還是使用C的Call-by-value的風格\n",
    "##### 其實Python傳參數還是使用C的Call-by-value的風格，只是為了說明Python沒有類似C++的Call-by-reference風格，所以才解釋為Pass-by-Assignment。\n",
    "##### Python傳參數時，傳遞的是變數的參考，而非傳遞數值本身\n",
    "<details>\n",
    "    <summary>before change</summary>\n",
    "    <img src='./img/pass_by_assignment1_1.png' style='height:400px'>\n",
    "</details>\n",
    "<details>\n",
    "    <summary>after change</summary>\n",
    "    <img src='./img/pass_by_assignment1_2.png' style='height:400px'>\n",
    " </details>"
   ]
  },
  {
   "cell_type": "code",
   "execution_count": null,
   "metadata": {},
   "outputs": [],
   "source": [
    "# Function definition\n",
    "def changeme(myvar):\n",
    "    print('In function, before change:', myvar)\n",
    "    myvar = 50\n",
    "    print('In function, after change:', myvar)\n",
    "    \n",
    "# main function\n",
    "myvar = 20\n",
    "changeme(myvar) # Call function\n",
    "print('Outside function:', myvar)"
   ]
  },
  {
   "cell_type": "markdown",
   "metadata": {},
   "source": [
    "---"
   ]
  },
  {
   "cell_type": "markdown",
   "metadata": {},
   "source": [
    "# P13-11"
   ]
  },
  {
   "cell_type": "markdown",
   "metadata": {},
   "source": [
    "### Python的List 類似 C 的指標陣列(array of pointer)\n",
    "<details>\n",
    "    <summary>illustrator</summary>\n",
    "    <img src='./img/pointers_array.png' style='height:500px'>\n",
    "</details>"
   ]
  },
  {
   "cell_type": "markdown",
   "metadata": {},
   "source": [
    "### pass by assignment for mutable data\n",
    "<details>\n",
    "    <summary>before change</summary>\n",
    "    <img src='./img/pass_by_assignment_mutable1_1.png' style='height:400px'>\n",
    "</details>\n",
    "<details>\n",
    "    <summary>after change</summary>\n",
    "    <img src='./img/pass_by_assignment_mutable1_2.png' style='height:400px'>\n",
    "</details>\n",
    "\n"
   ]
  },
  {
   "cell_type": "code",
   "execution_count": null,
   "metadata": {},
   "outputs": [],
   "source": [
    "# Function definition\n",
    "def changeme(mylist):\n",
    "    print('In function, before change:', mylist)\n",
    "    mylist[1] = 50\n",
    "    print('In function, after change:', mylist)\n",
    "\n",
    "# Call function\n",
    "mylist = [10,20,30]\n",
    "changeme(mylist)\n",
    "print('Outside function:',mylist)"
   ]
  },
  {
   "cell_type": "markdown",
   "metadata": {},
   "source": [
    "---"
   ]
  },
  {
   "cell_type": "markdown",
   "metadata": {},
   "source": [
    "# &spades; 補充\n",
    "## <a href='https://docs.python.org/3/faq/programming.html#how-do-i-write-a-function-with-output-parameters-call-by-reference'>How do I write a function with output parameters (call by reference)?</a>"
   ]
  },
  {
   "cell_type": "code",
   "execution_count": null,
   "metadata": {},
   "outputs": [],
   "source": [
    "def func2(a, b): \n",
    "    a = 'new-value' # a and b are local names\n",
    "    b = b + 1 # assigned to new objects\n",
    "    return a, b # return new valuesx, y = 'old-value', 99\n",
    "\n",
    "x, y = 'old-value', 99 # x and y are aliasees of 'old-value' and 99\n",
    "w, z = func2(x, y)\n",
    "print(w, z) # output: new-value 100"
   ]
  }
 ],
 "metadata": {
  "kernelspec": {
   "display_name": "Python 3 (ipykernel)",
   "language": "python",
   "name": "python3"
  },
  "language_info": {
   "codemirror_mode": {
    "name": "ipython",
    "version": 3
   },
   "file_extension": ".py",
   "mimetype": "text/x-python",
   "name": "python",
   "nbconvert_exporter": "python",
   "pygments_lexer": "ipython3",
   "version": "3.8.10"
  }
 },
 "nbformat": 4,
 "nbformat_minor": 4
}
