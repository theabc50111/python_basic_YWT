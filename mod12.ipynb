{
 "cells": [
  {
   "cell_type": "markdown",
   "metadata": {},
   "source": [
    "#  <font color=red> Module_12_Set</font>"
   ]
  },
  {
   "attachments": {},
   "cell_type": "markdown",
   "metadata": {},
   "source": [
    "# P12-2\n",
    "## Set &rArr; 無序(unordered)、可變(mutable)\n",
    ">### P3-3<img src='./img/py_data_type_3.png'>"
   ]
  },
  {
   "cell_type": "code",
   "execution_count": null,
   "metadata": {},
   "outputs": [],
   "source": [
    "basket = {'apple', 'orange', 'apple', 'pear', 'orange', 'banana'}\n",
    "basket  # 只留下一個apple"
   ]
  },
  {
   "cell_type": "code",
   "execution_count": null,
   "metadata": {},
   "outputs": [],
   "source": [
    "a = []\n",
    "b = ()\n",
    "c = {} # 因為 { } 代表空字典(Dict)\n",
    "d = set()  # 空集合\n",
    "print(type(a), type(b), type(c), type(d))"
   ]
  },
  {
   "cell_type": "markdown",
   "metadata": {},
   "source": [
    "### Set 沒有順序"
   ]
  },
  {
   "cell_type": "code",
   "execution_count": null,
   "metadata": {},
   "outputs": [],
   "source": [
    "s1 = {2,1,4,3}\n",
    "s2 = {1,2,3,4}\n",
    "print(f's1 == s2 : {s1 == s2}')"
   ]
  },
  {
   "cell_type": "code",
   "execution_count": null,
   "metadata": {},
   "outputs": [],
   "source": [
    "s1 = {1,2,3,4}\n",
    "s1[1]    # error no ordered"
   ]
  },
  {
   "attachments": {},
   "cell_type": "markdown",
   "metadata": {},
   "source": [
    "---\n",
    "# P12-4"
   ]
  },
  {
   "attachments": {},
   "cell_type": "markdown",
   "metadata": {},
   "source": [
    "### 成員運算"
   ]
  },
  {
   "cell_type": "code",
   "execution_count": null,
   "metadata": {},
   "outputs": [],
   "source": [
    "basket = {'apple', 'orange', 'apple', 'pear', 'orange', 'banana'}\n",
    "print(f'grape in basket : {\"grape\" in basket}, orange in basket : {\"orange\" in basket}')"
   ]
  },
  {
   "attachments": {},
   "cell_type": "markdown",
   "metadata": {},
   "source": [
    "### 集合運算\n",
    "<details>\n",
    "    <summary>集合運算示意圖</summary>\n",
    "    <img src=\"./img/set.png\"  style='height:450px; width:750px'>\n",
    "</details>\n",
    "\n",
    "##### 包含\n",
    ">### $$\\subset \\Rightarrow 數學符號:包含於$$\n",
    ">### $$\\supset \\Rightarrow 數學符號:包含$$"
   ]
  },
  {
   "cell_type": "code",
   "execution_count": null,
   "metadata": {},
   "outputs": [],
   "source": [
    "print('{1,2,3} | {2,3,4} = ', {1,2,3} | {2,3,4})  # 聯集\n",
    "print('{1,2,3} & {2,3,4} = ', {1,2,3} & {2,3,4}, '\\n')  # 交集\n",
    "\n",
    "print('{1,2,3} - {2,3,4} = ', {1,2,3} - {2,3,4})  # diff\n",
    "print('{2,3,4} - {2,3,1} = ', {2,3,4} - {2,3,1})  # diff\n",
    "print('{1,2,3} ^ {2,3,4} = ', {1,2,3} ^ {2,3,4}, '\\n')  # symmetric diff\n",
    "\n",
    "print('{1,2} < {1,2,3,4} = ', {1,2} < {1,2,3,4})  # sub\n",
    "print('{1,2} > {1,2,3,4} = ', {1,2} > {1,2,3,4})  # sup"
   ]
  },
  {
   "attachments": {},
   "cell_type": "markdown",
   "metadata": {},
   "source": [
    "---\n",
    "# P12-5 Built-in function for Set"
   ]
  },
  {
   "cell_type": "code",
   "execution_count": null,
   "metadata": {},
   "outputs": [],
   "source": [
    "s1 = {'66316666'};\n",
    "s2 = set('66316666')\n",
    "print(s1, len(s1))\n",
    "print(s2, len(s2))\n",
    "print(type(s1))\n",
    "print(type(s2))"
   ]
  },
  {
   "cell_type": "code",
   "execution_count": null,
   "metadata": {},
   "outputs": [],
   "source": [
    "s1 = {1,2,3,4,5}\n",
    "print(len(s1))\n",
    "print(max(s1))\n",
    "print(min(s1))\n",
    "print(sum(s1))\n",
    "print(sorted(s1))\n",
    "print(sorted(s1,reverse=True))"
   ]
  },
  {
   "cell_type": "markdown",
   "metadata": {},
   "source": [
    "### Set內不能放可變類型的資料"
   ]
  },
  {
   "cell_type": "code",
   "execution_count": null,
   "metadata": {},
   "outputs": [],
   "source": [
    "{[1,2,3,4]}"
   ]
  },
  {
   "cell_type": "code",
   "execution_count": null,
   "metadata": {},
   "outputs": [],
   "source": [
    "{{'A':1, 'B':2}}"
   ]
  },
  {
   "cell_type": "code",
   "execution_count": null,
   "metadata": {},
   "outputs": [],
   "source": [
    "{{1,2,3,4}}"
   ]
  },
  {
   "attachments": {},
   "cell_type": "markdown",
   "metadata": {},
   "source": [
    "---\n",
    "# P12-6 Set methods"
   ]
  },
  {
   "cell_type": "code",
   "execution_count": null,
   "metadata": {},
   "outputs": [],
   "source": [
    "a = {1,2,3}\n",
    "b = a.copy()\n",
    "print(a)\n",
    "print(b)\n",
    "print(a is b, a == b)"
   ]
  },
  {
   "cell_type": "code",
   "execution_count": null,
   "metadata": {},
   "outputs": [],
   "source": [
    "a = {1,2,3}; b = {3,4,5}\n",
    "\n",
    "a.update(b)\n",
    "a"
   ]
  },
  {
   "cell_type": "code",
   "execution_count": null,
   "metadata": {},
   "outputs": [],
   "source": [
    "a = {1,2,3}; b = {3,4,5}\n",
    "\n",
    "a.intersection_update(b)\n",
    "a                         #傳回與 b集合的交集"
   ]
  },
  {
   "cell_type": "code",
   "execution_count": null,
   "metadata": {},
   "outputs": [],
   "source": [
    "a = {1,2,3}; b = {3,4,5}\n",
    "a.difference_update(b)\n",
    "a"
   ]
  },
  {
   "cell_type": "code",
   "execution_count": null,
   "metadata": {},
   "outputs": [],
   "source": [
    "a = {1,2,3}; b = {3,4,5}\n",
    "a.symmetric_difference_update(b)\n",
    "a"
   ]
  },
  {
   "cell_type": "code",
   "execution_count": null,
   "metadata": {},
   "outputs": [],
   "source": [
    "a = {1,2,3}; b = {3,4,5}\n",
    "print(id(a))\n",
    "\n",
    "a.update(b)\n",
    "print(id(a)) # set is mutable"
   ]
  },
  {
   "attachments": {},
   "cell_type": "markdown",
   "metadata": {},
   "source": [
    "---\n",
    "# P12-7 Set methods"
   ]
  },
  {
   "cell_type": "code",
   "execution_count": null,
   "metadata": {},
   "outputs": [],
   "source": [
    "a = {1,2,3}; b = {3,4,5}; c = {4,5,6}; d = {1,2,3,4,5,6}\n",
    "\n",
    "a.add(1)  # set isn't repeatable\n",
    "print(a)\n",
    "a.add(5)  \n",
    "print(a)"
   ]
  },
  {
   "cell_type": "code",
   "execution_count": null,
   "metadata": {},
   "outputs": [],
   "source": [
    "a = {1,2,3}\n",
    "a.remove(1)\n",
    "a"
   ]
  },
  {
   "cell_type": "code",
   "execution_count": null,
   "metadata": {},
   "outputs": [],
   "source": [
    "a = {1,2,3}\n",
    "a.remove(4)\n",
    "a"
   ]
  },
  {
   "cell_type": "code",
   "execution_count": null,
   "metadata": {},
   "outputs": [],
   "source": [
    "a = {1,2,3}\n",
    "a.discard(4) # 如果 elem 存在於 s ，則將其移除。此方法不會觸發 KeyError 的例外\n",
    "a  "
   ]
  },
  {
   "cell_type": "code",
   "execution_count": null,
   "metadata": {},
   "outputs": [],
   "source": [
    "a = {1,2,3}\n",
    "b = a.pop()\n",
    "print(a,b)"
   ]
  },
  {
   "attachments": {},
   "cell_type": "markdown",
   "metadata": {},
   "source": [
    "---\n",
    "# P12-8"
   ]
  },
  {
   "cell_type": "code",
   "execution_count": null,
   "metadata": {},
   "outputs": [],
   "source": [
    "s = {num for num in range(1,30) if num % 3 == 1}\n",
    "s"
   ]
  },
  {
   "cell_type": "code",
   "execution_count": null,
   "metadata": {},
   "outputs": [],
   "source": [
    "s2 = {num%3 for num in range(1,30)}\n",
    "s2 # 元素不重複"
   ]
  },
  {
   "attachments": {},
   "cell_type": "markdown",
   "metadata": {},
   "source": [
    "---\n",
    "# &spades; 補充: "
   ]
  },
  {
   "cell_type": "markdown",
   "metadata": {},
   "source": [
    "# 資料型態總結\n",
    "<img src='./img/py_data_type_2.png'>"
   ]
  }
 ],
 "metadata": {
  "kernelspec": {
   "display_name": "Python 3",
   "language": "python",
   "name": "python3"
  },
  "language_info": {
   "codemirror_mode": {
    "name": "ipython",
    "version": 3
   },
   "file_extension": ".py",
   "mimetype": "text/x-python",
   "name": "python",
   "nbconvert_exporter": "python",
   "pygments_lexer": "ipython3",
   "version": "3.8.10"
  },
  "vscode": {
   "interpreter": {
    "hash": "916dbcbb3f70747c44a77c7bcd40155683ae19c65e1c03b4aa3499c5328201f1"
   }
  }
 },
 "nbformat": 4,
 "nbformat_minor": 4
}
