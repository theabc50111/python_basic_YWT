{
 "cells": [
  {
   "attachments": {},
   "cell_type": "markdown",
   "metadata": {},
   "source": [
    "#  <font color=red> Module_17_檔案讀寫</font>"
   ]
  },
  {
   "attachments": {},
   "cell_type": "markdown",
   "metadata": {},
   "source": [
    "# P17-6 `open()` & `write()`"
   ]
  },
  {
   "cell_type": "code",
   "execution_count": null,
   "metadata": {},
   "outputs": [],
   "source": [
    "fp = open('./mod17/note.txt', 'w')\n",
    "fp.write('Python!!!!\\n')\n",
    "fp.write('iiiedu\\n')\n",
    "print('Write two data to note.txt!')\n",
    "fp.close()"
   ]
  },
  {
   "cell_type": "code",
   "execution_count": null,
   "metadata": {},
   "outputs": [],
   "source": [
    "fp = open('./mod17/note.txt', 'a')\n",
    "fp.write('iii.org.tw\\n')\n",
    "print('Append one data to note.txt!')\n",
    "fp.close()"
   ]
  },
  {
   "attachments": {},
   "cell_type": "markdown",
   "metadata": {},
   "source": [
    "---\n",
    "# P17-7 `read()`"
   ]
  },
  {
   "cell_type": "code",
   "execution_count": null,
   "metadata": {},
   "outputs": [],
   "source": [
    "# file read\n",
    "fp = open('./mod17/note.txt', 'r')   \n",
    "str1 = fp.read()\n",
    "print(str1)\n",
    "fp.close()"
   ]
  },
  {
   "cell_type": "code",
   "execution_count": null,
   "metadata": {},
   "outputs": [],
   "source": [
    "fp = open('./mod17/note.txt', 'r') #r只能讀取\n",
    "print(fp.read())\n",
    "fp.write('Nick\\n')\n",
    "fp.close()"
   ]
  },
  {
   "cell_type": "code",
   "execution_count": null,
   "metadata": {},
   "outputs": [],
   "source": [
    "fp = open('./mod17/note.txt', 'r+') #r+ 能夠讀取加上寫入\n",
    "print(fp.read())\n",
    "fp.write('Nick\\n')\n",
    "fp.close()"
   ]
  },
  {
   "attachments": {},
   "cell_type": "markdown",
   "metadata": {},
   "source": [
    "---\n",
    "# P17-8 `readline()`"
   ]
  },
  {
   "cell_type": "code",
   "execution_count": null,
   "metadata": {},
   "outputs": [],
   "source": [
    "fp = open('./mod17/note.txt', 'r') \n",
    "line=fp.readline()\n",
    "print(line)\n",
    "fp.close()"
   ]
  },
  {
   "cell_type": "code",
   "execution_count": null,
   "metadata": {},
   "outputs": [],
   "source": [
    "fp = open('./mod17/note.txt', 'r')   \n",
    "print('Content(readline):')\n",
    "i=1\n",
    "while True: \n",
    "    line=fp.readline() # 每一次執行while迴圈，fp.readline()就會讀取檔案的下一行(yield 與 next()的概念，心有餘力的同學可以在自行搜索)\n",
    "    if not line:\n",
    "        break\n",
    "    print(f'No.{i} line: ',line, end='') \n",
    "    i+=1\n",
    "fp.close()"
   ]
  },
  {
   "attachments": {},
   "cell_type": "markdown",
   "metadata": {},
   "source": [
    "---\n",
    "# P17-10"
   ]
  },
  {
   "cell_type": "code",
   "execution_count": null,
   "metadata": {},
   "outputs": [],
   "source": [
    "# file read\n",
    "fname='./mod17/note.txt'\n",
    "\n",
    "with open(fname, 'r') as fp:\n",
    "    print('Content(readline):')\n",
    "    i=0\n",
    "    while True: \n",
    "        line=fp.readline() # 每一次執行while迴圈，fp.readline()就會讀取檔案的下一行(yield 與 next()的概念，心有餘力的同學可以在自行搜索)\n",
    "        if not line:\n",
    "            break\n",
    "        print(f'No.{i} line: ',line, end='') \n",
    "        i+=1"
   ]
  },
  {
   "attachments": {},
   "cell_type": "markdown",
   "metadata": {},
   "source": [
    "---\n",
    "# &spades; 補充: "
   ]
  },
  {
   "cell_type": "markdown",
   "metadata": {},
   "source": [
    "### open()會得到的是一個IO物件，IO物件是可迭代的"
   ]
  },
  {
   "cell_type": "code",
   "execution_count": null,
   "metadata": {},
   "outputs": [],
   "source": [
    "# file read\n",
    "fp = open('./mod17/note.txt', 'r')   \n",
    "print(type(fp))\n",
    "\n",
    "for line in fp:\n",
    "    print(line, end='')    \n",
    "fp.close()"
   ]
  },
  {
   "cell_type": "code",
   "execution_count": null,
   "metadata": {},
   "outputs": [],
   "source": [
    "fp = open('./mod17/note.txt', 'r+')\n",
    "fp.write('ABCDEFG') # 在沒有close() 之前， 都沒有正式寫入檔案中\n",
    "print(list(fp))\n",
    "fp.close()"
   ]
  }
 ],
 "metadata": {
  "kernelspec": {
   "display_name": "Python 3",
   "language": "python",
   "name": "python3"
  },
  "language_info": {
   "codemirror_mode": {
    "name": "ipython",
    "version": 3
   },
   "file_extension": ".py",
   "mimetype": "text/x-python",
   "name": "python",
   "nbconvert_exporter": "python",
   "pygments_lexer": "ipython3",
   "version": "3.8.10"
  },
  "vscode": {
   "interpreter": {
    "hash": "916dbcbb3f70747c44a77c7bcd40155683ae19c65e1c03b4aa3499c5328201f1"
   }
  }
 },
 "nbformat": 4,
 "nbformat_minor": 2
}
