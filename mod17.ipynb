{
 "cells": [
  {
   "cell_type": "markdown",
   "metadata": {},
   "source": [
    "#  <font color=red> Module_17_異常處理</font>"
   ]
  },
  {
   "cell_type": "markdown",
   "metadata": {},
   "source": [
    "# P17-6"
   ]
  },
  {
   "cell_type": "code",
   "execution_count": null,
   "metadata": {},
   "outputs": [],
   "source": [
    "# exception\n",
    "try:\n",
    "    n1,n2 = eval(input('Input two integers(n1,n2): '))\n",
    "    r = n1/n2\n",
    "    print('r =', r)    \n",
    "except:\n",
    "    print('Error: Input data or expression has error!') \n",
    "else:\n",
    "    print('Else: No errors!')\n",
    "finally:\n",
    "    print('Finally: Finish processing!')"
   ]
  },
  {
   "cell_type": "markdown",
   "metadata": {},
   "source": [
    "---"
   ]
  },
  {
   "cell_type": "markdown",
   "metadata": {},
   "source": [
    "# P17-7"
   ]
  },
  {
   "cell_type": "markdown",
   "metadata": {},
   "source": [
    "### try 敘述可以有㇐或多個 except 子句，來處理不同情況的異常"
   ]
  },
  {
   "cell_type": "code",
   "execution_count": null,
   "metadata": {},
   "outputs": [],
   "source": [
    "n1,n2 = eval(input('Input two integers(n1,n2): '))\n",
    "r = n1/n2\n",
    "print('r =', r)  "
   ]
  },
  {
   "cell_type": "code",
   "execution_count": null,
   "metadata": {},
   "outputs": [],
   "source": [
    "try:\n",
    "    n1,n2 = eval(input('Input two integers(n1,n2): '))\n",
    "    r = n1/n2\n",
    "    print('r =', r)    \n",
    "except SyntaxError: #輸入1;2可以測試此區塊\n",
    "    print('Error: Please separate input data by comma!')\n",
    "except ZeroDivisionError: #n2輸入0可以測試此區塊\n",
    "    print('Error: Devided by zero!')\n",
    "except: # 只輸入一個數字可以測試此區塊\n",
    "    print('Error: Input error!')\n",
    "else:\n",
    "    print('no error')\n",
    "finally:\n",
    "    print('finally')"
   ]
  },
  {
   "cell_type": "markdown",
   "metadata": {},
   "source": [
    "### ㇐個 except 子句可以處理多個類型的異常"
   ]
  },
  {
   "cell_type": "code",
   "execution_count": null,
   "metadata": {},
   "outputs": [],
   "source": [
    "try:\n",
    "    n1,n2 = eval(input('Input two integers(n1,n2): '))\n",
    "    r = n1/n2\n",
    "    print('r =', r)    \n",
    "except (SyntaxError,ZeroDivisionError):\n",
    "    print('Error: Please separate input data by comma! Or Devided by zero!')\n",
    "except:\n",
    "    print('Error: Input error!')\n",
    "else:\n",
    "    print('no error')\n",
    "finally:\n",
    "    print('finally')"
   ]
  },
  {
   "cell_type": "markdown",
   "metadata": {},
   "source": [
    "---"
   ]
  },
  {
   "cell_type": "markdown",
   "metadata": {},
   "source": [
    "# P17-9"
   ]
  },
  {
   "cell_type": "markdown",
   "metadata": {},
   "source": [
    "### 把錯誤訊息顯示出來"
   ]
  },
  {
   "cell_type": "code",
   "execution_count": null,
   "metadata": {},
   "outputs": [],
   "source": [
    "num = eval(input('Enter a number: '))\n",
    "print('value is', num) "
   ]
  },
  {
   "cell_type": "code",
   "execution_count": null,
   "metadata": {},
   "outputs": [],
   "source": [
    "# exception\n",
    "try:\n",
    "    num = eval(input('Enter a number: '))\n",
    "    print('value is', num)    \n",
    "except NameError as e:\n",
    "    print('Error: ',e)"
   ]
  },
  {
   "cell_type": "markdown",
   "metadata": {},
   "source": [
    "---"
   ]
  },
  {
   "cell_type": "markdown",
   "metadata": {},
   "source": [
    "# P17-11"
   ]
  },
  {
   "cell_type": "code",
   "execution_count": null,
   "metadata": {},
   "outputs": [],
   "source": [
    "# exception\n",
    "while True:\n",
    "    try:\n",
    "        lst1 = [1,2,3,4]\n",
    "        idx = int(input('Enter an index: '))\n",
    "        if not 0<=idx<4:\n",
    "            raise IndexError('Index out of range')\n",
    "        print('Value is',lst1[idx])\n",
    "        break\n",
    "    except IndexError as e:\n",
    "        print('Index Error :', e)"
   ]
  }
 ],
 "metadata": {
  "kernelspec": {
   "display_name": "Python 3 (ipykernel)",
   "language": "python",
   "name": "python3"
  },
  "language_info": {
   "codemirror_mode": {
    "name": "ipython",
    "version": 3
   },
   "file_extension": ".py",
   "mimetype": "text/x-python",
   "name": "python",
   "nbconvert_exporter": "python",
   "pygments_lexer": "ipython3",
   "version": "3.8.10"
  }
 },
 "nbformat": 4,
 "nbformat_minor": 4
}
