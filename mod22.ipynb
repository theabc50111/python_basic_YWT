{
 "cells": [
  {
   "attachments": {},
   "cell_type": "markdown",
   "metadata": {},
   "source": [
    "#  <font color=red> Module_22_Iterator & Generator</font> "
   ]
  },
  {
   "attachments": {},
   "cell_type": "markdown",
   "metadata": {},
   "source": [
    "# P22-3\n",
    "<details>\n",
    "    <summary style=\"font-size: 1.25em;\">iterable & iterator & generator 的關係</summary>\n",
    "    <img src=\"./img/Iterables_iterator_generator.jpg\">\n",
    "</details>"
   ]
  },
  {
   "cell_type": "code",
   "execution_count": null,
   "metadata": {},
   "outputs": [],
   "source": [
    "from collections.abc import Iterable, Iterator\n",
    "\n",
    "numbers = [1, 2, 3, 4, 5]\n",
    "print(f\"Is numbers a instance of Iterable:{isinstance(numbers, Iterable)}\")  # list is an iterable\n",
    "print(f\"Is numbers a inatance of Iterator:{isinstance(numbers, Iterator)}\")  # list is not a iteratorfrom collections.abc import Iterable, Iterator\n",
    "print(dir(numbers))  # __iter__ but lack of __next__"
   ]
  },
  {
   "attachments": {},
   "cell_type": "markdown",
   "metadata": {},
   "source": [
    "---\n",
    "# P22-4"
   ]
  },
  {
   "attachments": {},
   "cell_type": "markdown",
   "metadata": {},
   "source": [
    "- ### 內建函數`iter()`建立Iterator\n",
    "- ### 屬於iterator的物件會包含`__iter__()` 與 `__next__()`"
   ]
  },
  {
   "cell_type": "code",
   "execution_count": null,
   "metadata": {},
   "outputs": [],
   "source": [
    "from collections.abc import Iterable, Iterator\n",
    "\n",
    "numbers = [1, 2, 3, 4, 5]\n",
    "numbers_iterator = iter(numbers)  # Create an iterator\n",
    "print(numbers_iterator)\n",
    "print(f\"Is numbers_iterator a instance of Iterable:{isinstance(numbers_iterator, Iterable)}\")\n",
    "print(f\"Is numbers_iterator a inatance of Iterator:{isinstance(numbers_iterator, Iterator)}\")\n",
    "print(dir(numbers_iterator))  # __iter__ & __next__"
   ]
  },
  {
   "attachments": {},
   "cell_type": "markdown",
   "metadata": {},
   "source": [
    "### 可以透過`next()`或是for-loop來對Iterator取值\n",
    "- #### 透過`next()`對Iterator取值，可以自行選擇要從Iterator取多少值"
   ]
  },
  {
   "cell_type": "code",
   "execution_count": null,
   "metadata": {},
   "outputs": [],
   "source": [
    "numbers = [1, 2, 3, 4, 5]\n",
    "numbers_iterator = iter(numbers)  # Create an iterator\n",
    "print(next(numbers_iterator))\n",
    "print(next(numbers_iterator))    # 透過next()對Iterator取值，可以自行選擇要從Iterator取多少值\n",
    "print(\"---------------------In for loop---------------------\")\n",
    "for i in numbers_iterator :\n",
    "    print(i)"
   ]
  },
  {
   "attachments": {},
   "cell_type": "markdown",
   "metadata": {},
   "source": [
    "- ### Iterator 裡的元素用完之後會發出`StopIteration`"
   ]
  },
  {
   "cell_type": "code",
   "execution_count": null,
   "metadata": {},
   "outputs": [],
   "source": [
    "numbers = [1, 2, 3, 4, 5]\n",
    "numbers_iterator = iter(numbers)  # Create an iterator\n",
    "\n",
    "try:\n",
    "    while True:\n",
    "        print(next(numbers_iterator))  # Print elements one by one\n",
    "except StopIteration:\n",
    "    print(\"numbers_iterator raise StopItreration\")  # Handle end of iteration"
   ]
  },
  {
   "attachments": {},
   "cell_type": "markdown",
   "metadata": {},
   "source": [
    "---\n",
    "# P22-5"
   ]
  },
  {
   "attachments": {},
   "cell_type": "markdown",
   "metadata": {},
   "source": [
    "### Lazy evaluation"
   ]
  },
  {
   "cell_type": "code",
   "execution_count": null,
   "metadata": {},
   "outputs": [],
   "source": [
    "print(range(5))\n",
    "print(list(range(5)))\n",
    "print(map(lambda x:x**2, [1, 2, 3]))\n",
    "print(list(map(lambda x:x**2, [1, 2, 3])))"
   ]
  },
  {
   "attachments": {},
   "cell_type": "markdown",
   "metadata": {},
   "source": [
    "### 建立generator的方式\n",
    "- #### `(x for x in [1,2,3])`\n",
    "- #### `yield`\n"
   ]
  },
  {
   "cell_type": "code",
   "execution_count": null,
   "metadata": {},
   "outputs": [],
   "source": [
    "a = (x for x in [1,2,3])\n",
    "print(a)          # lazy evaluation\n",
    "print(type(a))    # generator\n",
    "print(next(a))\n",
    "print(next(a))\n",
    "print(next(a))"
   ]
  },
  {
   "cell_type": "code",
   "execution_count": null,
   "metadata": {},
   "outputs": [],
   "source": [
    "def my_generator():\n",
    "    for i in [1, 2, 3]:\n",
    "        yield i\n",
    "\n",
    "a = my_generator()\n",
    "print(a)          # lazy evaluation\n",
    "print(type(a))    # generator\n",
    "print(next(a))\n",
    "print(next(a))\n",
    "print(next(a))"
   ]
  },
  {
   "attachments": {},
   "cell_type": "markdown",
   "metadata": {},
   "source": [
    "### `yield`可以用來暫停和恢復迭代"
   ]
  },
  {
   "cell_type": "code",
   "execution_count": null,
   "metadata": {},
   "outputs": [],
   "source": [
    "def my_generator():\n",
    "    print('before')\n",
    "    yield 10            # break 1\n",
    "    print('middle')\n",
    "    yield 20            # break 2\n",
    "    print('after')\n",
    "\n",
    "x = my_generator()\n",
    "print(next(x))  # => before\n",
    "print(next(x))  # => middle\n",
    "print(next(x))  # => after\n",
    "# exception StopIteration"
   ]
  },
  {
   "attachments": {},
   "cell_type": "markdown",
   "metadata": {},
   "source": [
    "### 自訂迭代的邏輯\n",
    "- #### `yield`可以用來暫停和恢復迭代，可以透過這個特性來自訂迭代邏輯，例如：\n",
    "  - ##### Iterator只能使用一次，當裡面的元素都用完之後就不能在用了。\n",
    "  - ##### 可以透過`yield`自訂generator與迭代邏輯來達到：在使用for loop取值時可以得到跟Iterator一樣結果，但是又要令它可以重複被使用"
   ]
  },
  {
   "cell_type": "code",
   "execution_count": null,
   "metadata": {},
   "outputs": [],
   "source": [
    "class MyIterator:\n",
    "    def __init__(self, max_num):\n",
    "        self.max_num = max_num\n",
    "        self.index = 0\n",
    "\n",
    "    def __iter__(self):\n",
    "        return self\n",
    "        \n",
    "    def __next__(self):\n",
    "        self.index += 1\n",
    "        if self.index <= self.max_num:\n",
    "            return self.index\n",
    "        else:\n",
    "            raise StopIteration\n",
    "        \n",
    "my_iterator = MyIterator(3)\n",
    "print(\"---------------------In for loop---------------------\")\n",
    "for item in my_iterator:\n",
    "    print(item)\n",
    "print(\"-------------------------my_iterator return nothing-------------------------\")\n",
    "for item in my_iterator:\n",
    "    print(item)  # empty"
   ]
  },
  {
   "cell_type": "code",
   "execution_count": 2,
   "metadata": {},
   "outputs": [
    {
     "name": "stdout",
     "output_type": "stream",
     "text": [
      "1\n",
      "2\n",
      "3\n",
      "-------------------------my_generator would start over again-------------------------\n",
      "1\n",
      "2\n",
      "3\n"
     ]
    }
   ],
   "source": [
    "class MyGenerator:\n",
    "    def __init__(self, max_num):\n",
    "        self.max_num = max_num\n",
    "        self.index = 0\n",
    "\n",
    "    def __iter__(self):\n",
    "        self.index = 0\n",
    "        while self.index <= self.max_num-1:\n",
    "            self.index += 1\n",
    "            yield self.index\n",
    "\n",
    "\n",
    "\n",
    "my_generator = MyGenerator(3)\n",
    "for item in my_generator:\n",
    "    print(item)\n",
    "print(\"-------------------------my_generator would start over again-------------------------\")\n",
    "for item in my_generator:\n",
    "    print(item)"
   ]
  },
  {
   "attachments": {},
   "cell_type": "markdown",
   "metadata": {},
   "source": [
    "---\n",
    "# &spades; 補充"
   ]
  },
  {
   "cell_type": "markdown",
   "metadata": {},
   "source": [
    "### 如果\\_\\_iter\\_\\_() 的回傳值是一個iterator，則呼叫iter() 會得到\\_\\_iter\\_\\_() 的回傳值"
   ]
  },
  {
   "cell_type": "code",
   "execution_count": null,
   "metadata": {},
   "outputs": [],
   "source": [
    "class A():\n",
    "    def __iter__(self):\n",
    "        result = map(lambda x:x+100, [1,2,3])\n",
    "        return result\n",
    "a = A()\n",
    "print(a.__iter__())\n",
    "print(iter(a))\n",
    "\n",
    "class B():\n",
    "    def __iter__(self):\n",
    "        return 10\n",
    "b = B()\n",
    "print(b.__iter__())\n",
    "print(iter(b))"
   ]
  },
  {
   "attachments": {},
   "cell_type": "markdown",
   "metadata": {},
   "source": [
    "<details>\n",
    "    <summary style=\"font-size: 1.5em ;\">for loop 會先看__iter__()，而next() 會直接看__next__()</summary>\n",
    "    <img src=\"./img/forloop_iter.png\">\n",
    "</details>"
   ]
  },
  {
   "cell_type": "code",
   "execution_count": null,
   "metadata": {},
   "outputs": [],
   "source": [
    "class Fibonacci():\n",
    "    def __init__(self):\n",
    "        self.a, self.b = (0, 1)\n",
    "    def __iter__(self):\n",
    "        result = map(lambda x:x+self.b, [100,200,300])\n",
    "        return result # instead of self, we use map() as return value of __iter__ \n",
    "    def __next__(self):\n",
    "        result = self.a\n",
    "        self.a, self.b = self.b, self.a + self.b\n",
    "        if result <100:\n",
    "            return result\n",
    "        else:\n",
    "            raise StopIteration\n",
    "\n",
    "fibos = Fibonacci()\n",
    "print(next(fibos)) #=> 0\n",
    "print(next(fibos)) #=> 1\n",
    "print(next(fibos)) #=> 1\n",
    "print(next(fibos)) #=> 2\n",
    "print(f\"---------------------------------{iter(fibos)}---------------------------------\") \n",
    "for i in fibos:\n",
    "    print(i)"
   ]
  },
  {
   "attachments": {},
   "cell_type": "markdown",
   "metadata": {},
   "source": [
    "### iterator物件的內容，可以使用`list()`一次性全部取出 \n",
    "- ### lazy evaluation"
   ]
  },
  {
   "cell_type": "code",
   "execution_count": null,
   "metadata": {},
   "outputs": [],
   "source": [
    "class Fibonacci():\n",
    "    def __init__(self):\n",
    "        self.a, self.b = (0, 1)\n",
    "    def __iter__(self):\n",
    "        return self\n",
    "    def __next__(self):\n",
    "        result = self.a\n",
    "        self.a, self.b = self.b, self.a + self.b\n",
    "        if result <100:\n",
    "            return result\n",
    "        else:\n",
    "            raise StopIteration\n",
    "\n",
    "fibos = Fibonacci()\n",
    "print(list(fibos))"
   ]
  },
  {
   "attachments": {},
   "cell_type": "markdown",
   "metadata": {},
   "source": [
    "### Function hint"
   ]
  },
  {
   "cell_type": "code",
   "execution_count": null,
   "metadata": {},
   "outputs": [],
   "source": []
  }
 ],
 "metadata": {
  "kernelspec": {
   "display_name": "Python 3",
   "language": "python",
   "name": "python3"
  },
  "language_info": {
   "codemirror_mode": {
    "name": "ipython",
    "version": 3
   },
   "file_extension": ".py",
   "mimetype": "text/x-python",
   "name": "python",
   "nbconvert_exporter": "python",
   "pygments_lexer": "ipython3",
   "version": "3.8.10"
  },
  "orig_nbformat": 4,
  "vscode": {
   "interpreter": {
    "hash": "916dbcbb3f70747c44a77c7bcd40155683ae19c65e1c03b4aa3499c5328201f1"
   }
  }
 },
 "nbformat": 4,
 "nbformat_minor": 2
}
