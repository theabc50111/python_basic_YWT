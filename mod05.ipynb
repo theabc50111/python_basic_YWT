{
 "cells": [
  {
   "cell_type": "markdown",
   "metadata": {},
   "source": [
    "#  <font color=red> Module_05_Python 文字資料型態與成員運算子</font>"
   ]
  },
  {
   "attachments": {},
   "cell_type": "markdown",
   "metadata": {},
   "source": [
    "# P5-2\n",
    "## 單引號雙引號混用的好處"
   ]
  },
  {
   "cell_type": "code",
   "execution_count": null,
   "metadata": {},
   "outputs": [],
   "source": [
    "str1 = \"it's nice\"\n",
    "str1"
   ]
  },
  {
   "attachments": {},
   "cell_type": "markdown",
   "metadata": {},
   "source": [
    "---\n",
    "# P5-3 索引(Index) 與切片(Slicing) :\n",
    "<dl style=\"margin-left: 2em; font-size: 1.5em;\">\n",
    "    <li><font color=red>索引值:只要是<font color=blue>有序</font>的資料型態，其表現形式都很接近(有索引與切片功能)</font>\n",
    "        <details>\n",
    "            <summary style=\"text-indent: 2em;\">P3-3</summary>\n",
    "            <img style=\"margin-left: 2em;\" src='./img/py_data_type_3.png'>\n",
    "        </details>\n",
    "    </li>\n",
    "    <li>索引值(index)是從0開始的整數\n",
    "        <dl style=\"margin-left: 2em;\">\n",
    "            <li>正序&rArr;從0開始的整數</li>\n",
    "            <li>反序&rArr;從-1開始的整數</li>\n",
    "            <details>\n",
    "                <summary>illustrator</summary>\n",
    "                <img src='./img/strIndex01.png'>\n",
    "            </details>\n",
    "        </dl>\n",
    "    </li>\n",
    "    <li>Slice\n",
    "        <dl style=\"margin-left: 2em;\">\n",
    "            <li>切片(slice) 格式為 <font color=orange>[起點:終點:間隔]</font>，<font color=red>切片不含終點</font></li>\n",
    "            <details>\n",
    "                <summary style=\"text-indent: 2em;\"><font color=red>Slice都含起始值，不含結束值點</font></summary>\n",
    "                <img src='./img/index01.png'>\n",
    "            </details>\n",
    "        </dl>\n",
    "    </li>\n",
    "</dl>"
   ]
  },
  {
   "cell_type": "code",
   "execution_count": null,
   "metadata": {
    "tags": []
   },
   "outputs": [],
   "source": [
    "var1 = 'Hello World'\n",
    "\n",
    "print('var1[0] :      ', var1[0])\n",
    "print('var1[1:4] :    ', var1[1:4]) # 不指定間隔(預設為1)\n",
    "print('var1[5:1] :    ', var1[5:1]) # 開頭到結尾的順序，要與間隔的正負號一致，所以不能用[5:1]\n",
    "print('var1[:6] :     ', var1[:6]) # 不指定起點(預設從0開始)\n",
    "print('var1[::2] :    ', var1[::2]) # 不指定起點(預設從0開始)，不指定終點(預設到最後為止)，隔一個選取\n",
    "print('var1[::-1] :   ', var1[::-1]) # 倒序\n",
    "print('var1[::-2] :   ', var1[::-2]) # 倒序，且間隔為2 \n",
    "print('var1[-1] :     ', var1[-1])\n",
    "print('var1[-11:-2] : ', var1[-11:-2]) \n",
    "print('var1[-2:-11] : ', var1[-2:-11]) # 間隔為1，所以不能用[-2:-11]\n",
    "print('var1[3:-2] :   ', var1[3:-2])\n",
    "print('var1[3:-2:2] : ', var1[3:-2:2])"
   ]
  },
  {
   "attachments": {},
   "cell_type": "markdown",
   "metadata": {},
   "source": [
    "---\n",
    "# P5-4\n",
    "## 字串不可變(immutable)\n",
    "<details>\n",
    "    <summary>P3-3</summary>\n",
    "    <img src='./img/py_data_type_3.png'>\n",
    "</details>"
   ]
  },
  {
   "cell_type": "code",
   "execution_count": null,
   "metadata": {},
   "outputs": [],
   "source": [
    "var1 = 'Hello World!'\n",
    "var1[4]='W'  # TypeError"
   ]
  },
  {
   "attachments": {},
   "cell_type": "markdown",
   "metadata": {},
   "source": [
    "## operator overloading (來自C#/C++)\n",
    ">- 在字串中使用加號(`+`)，來連接字串\n",
    ">- 在字串中使用乘號(`*`)，來令字串重複出現，乘多少，重複多少次"
   ]
  },
  {
   "cell_type": "code",
   "execution_count": null,
   "metadata": {},
   "outputs": [],
   "source": [
    "print('A'+'B')\n",
    "print('A'*10)\n",
    "print('A'*10.0) #不能乘以浮點數"
   ]
  },
  {
   "attachments": {},
   "cell_type": "markdown",
   "metadata": {},
   "source": [
    "## 更新文字是『重新參考到另一個全新字串物件』\n",
    "<details>\n",
    "    <summary style=\"text-indent: 2em;\">Illustrator</summary>\n",
    "    <img src='./img/str_update.png'>\n",
    "</details>"
   ]
  },
  {
   "cell_type": "code",
   "execution_count": null,
   "metadata": {},
   "outputs": [],
   "source": [
    "var1 = 'Hello World!'\n",
    "print(id(var1))\n",
    "var1 = var1[:6] + 'python'\n",
    "print(id(var1))"
   ]
  },
  {
   "attachments": {},
   "cell_type": "markdown",
   "metadata": {},
   "source": [
    "---\n",
    "# P5-5 跳脫字元\n"
   ]
  },
  {
   "cell_type": "code",
   "execution_count": null,
   "metadata": {},
   "outputs": [],
   "source": [
    "print('She said: \"It's raining.\"')"
   ]
  },
  {
   "cell_type": "code",
   "execution_count": null,
   "metadata": {},
   "outputs": [],
   "source": [
    "print('\\'')"
   ]
  },
  {
   "cell_type": "code",
   "execution_count": null,
   "metadata": {},
   "outputs": [],
   "source": [
    "print('She said: \"It\\'s raining.\"')"
   ]
  },
  {
   "cell_type": "code",
   "execution_count": null,
   "metadata": {},
   "outputs": [],
   "source": [
    "'c:\\test\\new.txt' # 互動式介面中，並不會真正執行跳脫字元，要使用print函數才能解釋跳脫字元"
   ]
  },
  {
   "cell_type": "code",
   "execution_count": null,
   "metadata": {},
   "outputs": [],
   "source": [
    "print('c:\\test\\new.txt')\n",
    "print('c:\\\\test\\\\new.txt')"
   ]
  },
  {
   "attachments": {},
   "cell_type": "markdown",
   "metadata": {},
   "source": [
    "---\n",
    "# P5-6 多列字串"
   ]
  },
  {
   "cell_type": "markdown",
   "metadata": {},
   "source": [
    "#### 3個單引號"
   ]
  },
  {
   "cell_type": "code",
   "execution_count": null,
   "metadata": {},
   "outputs": [],
   "source": [
    "text_para1 = '''This is a long string that contains\n",
    "several lines and some non-printable characters, \n",
    "such as TAB(\\t) or NEWLINE(\\n). For triple-quoted strings, \n",
    "always use double quote characters to be consistent \n",
    "with the docstring convention in PEP 257.'''\n",
    "text_para1"
   ]
  },
  {
   "cell_type": "code",
   "execution_count": null,
   "metadata": {},
   "outputs": [],
   "source": [
    "print(text_para1)"
   ]
  },
  {
   "cell_type": "markdown",
   "metadata": {},
   "source": [
    "#### 如果是 docstring，永遠使用三個雙引號表達\n",
    "https://www.python.org/dev/peps/pep-0008/#documentation-strings"
   ]
  },
  {
   "attachments": {},
   "cell_type": "markdown",
   "metadata": {},
   "source": [
    "---\n",
    "# P5-7 成員運算子"
   ]
  },
  {
   "cell_type": "code",
   "execution_count": null,
   "metadata": {},
   "outputs": [],
   "source": [
    "a = 'Hello World'\n",
    "b = 'Hell'\n",
    "print(a in b)\n",
    "print(b in a)\n",
    "print(b not in a)"
   ]
  },
  {
   "cell_type": "code",
   "execution_count": null,
   "metadata": {},
   "outputs": [],
   "source": [
    "a = 'Hello World'\n",
    "b = 'Hello  ' # 注意空白也是字元\n",
    "print(b in a)"
   ]
  },
  {
   "attachments": {},
   "cell_type": "markdown",
   "metadata": {},
   "source": [
    "---\n",
    "# P5-8"
   ]
  },
  {
   "cell_type": "markdown",
   "metadata": {},
   "source": [
    "#### Raw String &rArr; 不解釋任何跳脫字元特殊字元"
   ]
  },
  {
   "cell_type": "code",
   "execution_count": null,
   "metadata": {},
   "outputs": [],
   "source": [
    "print(r'c:\\test\\new.txt')"
   ]
  },
  {
   "cell_type": "code",
   "execution_count": null,
   "metadata": {},
   "outputs": [],
   "source": [
    "print('c:\\\\test\\\\new.txt')"
   ]
  },
  {
   "cell_type": "markdown",
   "metadata": {},
   "source": [
    "#### len() &rArr; 用來計算字串長度"
   ]
  },
  {
   "cell_type": "code",
   "execution_count": null,
   "metadata": {},
   "outputs": [],
   "source": [
    "a = 'Hello'\n",
    "b = 3\n",
    "print('len(a) :', len(a))"
   ]
  },
  {
   "cell_type": "markdown",
   "metadata": {},
   "source": [
    "#### str() &rArr; 用來將資料轉成字串"
   ]
  },
  {
   "cell_type": "code",
   "execution_count": null,
   "metadata": {},
   "outputs": [],
   "source": [
    "print('Hello '+str(b))"
   ]
  },
  {
   "attachments": {},
   "cell_type": "markdown",
   "metadata": {},
   "source": [
    "---\n",
    "# P5-9 字串方法\n",
    "<img src='./img/method_func.png' style='height:400px'>"
   ]
  },
  {
   "cell_type": "code",
   "execution_count": null,
   "metadata": {},
   "outputs": [],
   "source": [
    "S = 'the zeN of python'\n",
    "print('upper :',S.upper())\n",
    "print('lower :',S.lower())"
   ]
  },
  {
   "cell_type": "code",
   "execution_count": null,
   "metadata": {},
   "outputs": [],
   "source": [
    "a = 'hello123'\n",
    "\n",
    "print('a.isalpha() :   ', a.isalpha())\n",
    "print('a.isspace() :   ', a.isspace())\n",
    "\n",
    "print('a.isupper() :   ', a.isupper())\n",
    "print('a.islower() :   ', a.islower())\n",
    "\n",
    "print('a.isdigit() :   ', a.isdigit())\n",
    "print('a.isalnum():    ', a.isalnum())"
   ]
  },
  {
   "attachments": {},
   "cell_type": "markdown",
   "metadata": {},
   "source": [
    "---\n",
    "# P5-10"
   ]
  },
  {
   "cell_type": "code",
   "execution_count": null,
   "metadata": {},
   "outputs": [],
   "source": [
    "a = 'hello123'\n",
    "print(a.replace('123', '456'))"
   ]
  },
  {
   "cell_type": "code",
   "execution_count": null,
   "metadata": {},
   "outputs": [],
   "source": [
    "print(\"Python programming is fun!\".split())\n",
    "print(\"555-867-5309\".split('-'))\n",
    "print(\"123.456.txt\".split('.'))\n",
    "print(\"123.456.txt\".split('.',1))"
   ]
  },
  {
   "cell_type": "code",
   "execution_count": null,
   "metadata": {},
   "outputs": [],
   "source": [
    "print(\"123.456.txt\".rsplit('.',1))"
   ]
  },
  {
   "attachments": {},
   "cell_type": "markdown",
   "metadata": {},
   "source": [
    "---\n",
    "# P5-11"
   ]
  },
  {
   "cell_type": "code",
   "execution_count": null,
   "metadata": {},
   "outputs": [],
   "source": [
    "word = '  #### this is a book ####   '\n",
    "print(word.rstrip())\n",
    "print(word.lstrip())\n",
    "print(word.strip())"
   ]
  },
  {
   "cell_type": "code",
   "execution_count": null,
   "metadata": {},
   "outputs": [],
   "source": [
    "word = '#### this is a book ####'\n",
    "print(word.strip('#'))\n",
    "print(word.strip('#').strip())"
   ]
  },
  {
   "cell_type": "code",
   "execution_count": null,
   "metadata": {},
   "outputs": [],
   "source": [
    "word = '  #### this is a book ####   '\n",
    "print(word.lstrip('#'))"
   ]
  },
  {
   "cell_type": "code",
   "execution_count": null,
   "metadata": {},
   "outputs": [],
   "source": [
    "x = \"Python programming is fun!\"\n",
    "print(x.count('n'))"
   ]
  },
  {
   "attachments": {},
   "cell_type": "markdown",
   "metadata": {},
   "source": [
    "---\n",
    "# &spades; 補充 "
   ]
  },
  {
   "cell_type": "markdown",
   "metadata": {},
   "source": [
    "### 路徑分隔符號"
   ]
  },
  {
   "cell_type": "code",
   "execution_count": null,
   "metadata": {},
   "outputs": [],
   "source": [
    "print('C:\\Program Files') # 以前Windows使用反斜線，Linux 與 網址都是使用斜線\n",
    "print('C:/Program Files') # 但是微軟開始將向Linux系統靠攏，所以現在用斜線的方式也可以了"
   ]
  },
  {
   "cell_type": "markdown",
   "metadata": {},
   "source": [
    "### str 不可變，即便使用str的方法"
   ]
  },
  {
   "cell_type": "code",
   "execution_count": null,
   "metadata": {},
   "outputs": [],
   "source": [
    "a = 'this is a string'\n",
    "print(a, id(a))\n",
    "print(a.replace('string', 'longer string'), id(a.replace('string', 'longer string')))"
   ]
  },
  {
   "cell_type": "markdown",
   "metadata": {},
   "source": [
    "### 運算永遠比函數呼叫快"
   ]
  },
  {
   "cell_type": "code",
   "execution_count": null,
   "metadata": {},
   "outputs": [],
   "source": [
    "a='abcde'\n",
    "print(a[:4])\n",
    "print(a.rstrip('e'))\n",
    "%timeit a[:4]\n",
    "%timeit a.rstrip('e')"
   ]
  }
 ],
 "metadata": {
  "kernelspec": {
   "display_name": "Python 3",
   "language": "python",
   "name": "python3"
  },
  "language_info": {
   "codemirror_mode": {
    "name": "ipython",
    "version": 3
   },
   "file_extension": ".py",
   "mimetype": "text/x-python",
   "name": "python",
   "nbconvert_exporter": "python",
   "pygments_lexer": "ipython3",
   "version": "3.8.10"
  },
  "vscode": {
   "interpreter": {
    "hash": "916dbcbb3f70747c44a77c7bcd40155683ae19c65e1c03b4aa3499c5328201f1"
   }
  }
 },
 "nbformat": 4,
 "nbformat_minor": 4
}
