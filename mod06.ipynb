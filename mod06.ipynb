{
 "cells": [
  {
   "cell_type": "markdown",
   "metadata": {},
   "source": [
    "#  <font color=red> Module_06_基本輸入與輸出</font>"
   ]
  },
  {
   "attachments": {},
   "cell_type": "markdown",
   "metadata": {},
   "source": [
    "# P6-2 輸出資料\n",
    ">### - print() &rArr; 講義中提到:在寫.py腳本程式時才會用到 &rArr; 意味著在.py腳本程式中只有print()才能輸出\n",
    ">>#### - 請看mod06/ex6_1.py 示範。"
   ]
  },
  {
   "cell_type": "code",
   "execution_count": null,
   "metadata": {},
   "outputs": [],
   "source": [
    "x = 3\n",
    "print('x is ', x)\n",
    "print('x is '+str(x))\n",
    "print('x is '+ x)"
   ]
  },
  {
   "cell_type": "code",
   "execution_count": null,
   "metadata": {},
   "outputs": [],
   "source": [
    "print ('Python is simple,', 'enjoy!')\n",
    "print ('Python is simple,', 'enjoy!',end='$$$$$$$')\n",
    "print ('Python is simple,', 'enjoy!',sep='-------')"
   ]
  },
  {
   "attachments": {},
   "cell_type": "markdown",
   "metadata": {},
   "source": [
    "---\n",
    "# P6-3 輸入資料"
   ]
  },
  {
   "attachments": {},
   "cell_type": "markdown",
   "metadata": {},
   "source": [
    "### 基本輸入裝置 : 鍵盤 keyboard\n",
    "### 基本輸出裝置 : 螢幕 monitor\n",
    "### 由input()得到的資料一律為字串。"
   ]
  },
  {
   "cell_type": "code",
   "execution_count": null,
   "metadata": {},
   "outputs": [],
   "source": [
    "x = input('x = ')\n",
    "type(x)"
   ]
  },
  {
   "cell_type": "code",
   "execution_count": null,
   "metadata": {},
   "outputs": [],
   "source": [
    "x = input('x = ')\n",
    "print('x+5=',int(x)+5)\n",
    "print('x+5=',x+5)"
   ]
  },
  {
   "cell_type": "markdown",
   "metadata": {},
   "source": [
    "### eval()函數輸入必須是字串。"
   ]
  },
  {
   "cell_type": "code",
   "execution_count": null,
   "metadata": {},
   "outputs": [],
   "source": [
    "eval('5*30') "
   ]
  },
  {
   "cell_type": "code",
   "execution_count": null,
   "metadata": {},
   "outputs": [],
   "source": [
    "eval(5*30)  # TypeError : shall be string"
   ]
  },
  {
   "cell_type": "code",
   "execution_count": null,
   "metadata": {},
   "outputs": [],
   "source": [
    "a=200\n",
    "eval('a*5') "
   ]
  },
  {
   "cell_type": "code",
   "execution_count": null,
   "metadata": {},
   "outputs": [],
   "source": [
    "num = eval(input('input number (ex. 5*6 or 9/4):'))  # like 3*5\n",
    "num   # it is a number"
   ]
  },
  {
   "attachments": {},
   "cell_type": "markdown",
   "metadata": {},
   "source": [
    "---\n",
    "# P6-5 f-strfing"
   ]
  },
  {
   "attachments": {},
   "cell_type": "markdown",
   "metadata": {},
   "source": [
    "### f-string 可在大括號內{ }，可放置變數名稱。"
   ]
  },
  {
   "cell_type": "code",
   "execution_count": null,
   "metadata": {},
   "outputs": [],
   "source": [
    "name = 'III'\n",
    "est  = 1979\n",
    "\n",
    "print(f'{name} was established in {est}.') "
   ]
  },
  {
   "cell_type": "code",
   "execution_count": null,
   "metadata": {},
   "outputs": [],
   "source": [
    "data = {'name': 'III', 'est': 40} \n",
    "f\"The name is {data['name']}, aged {data['est']}.\"  # after ch11"
   ]
  },
  {
   "attachments": {},
   "cell_type": "markdown",
   "metadata": {},
   "source": [
    "### f-string可包含任意的運算式"
   ]
  },
  {
   "cell_type": "code",
   "execution_count": null,
   "metadata": {},
   "outputs": [],
   "source": [
    "print(f'{2*37}')"
   ]
  },
  {
   "cell_type": "markdown",
   "metadata": {},
   "source": [
    "### f-string 的常見數字格式"
   ]
  },
  {
   "cell_type": "code",
   "execution_count": null,
   "metadata": {
    "tags": []
   },
   "outputs": [],
   "source": [
    "num=50\n",
    "print(f'{num:.2f}')\n",
    "print(f'{num:.5f}') "
   ]
  },
  {
   "cell_type": "code",
   "execution_count": null,
   "metadata": {
    "tags": []
   },
   "outputs": [],
   "source": [
    "print(f'{num:10.3f}')"
   ]
  },
  {
   "cell_type": "code",
   "execution_count": null,
   "metadata": {},
   "outputs": [],
   "source": [
    "num=123456789\n",
    "print(f'{num:5}') # 如果變數列印長度超過指定長度，以變數列印長度為主"
   ]
  },
  {
   "attachments": {},
   "cell_type": "markdown",
   "metadata": {},
   "source": [
    "### f-string可以直接使用方法(method)"
   ]
  },
  {
   "cell_type": "code",
   "execution_count": null,
   "metadata": {},
   "outputs": [],
   "source": [
    "name = 'PYTHON' \n",
    "f'{name.lower()} is funny.'"
   ]
  },
  {
   "attachments": {},
   "cell_type": "markdown",
   "metadata": {},
   "source": [
    "### f-string支援多列陳述句\n",
    "#### 注意多列 f-strings 是用「小括號」包住，此外，每列 f-string 後面沒有逗號"
   ]
  },
  {
   "cell_type": "code",
   "execution_count": null,
   "metadata": {},
   "outputs": [],
   "source": [
    "name = 'III'\n",
    "prof = 'Scientist'\n",
    "lang  = 'Python'\n",
    "message = (f'Hi {name}. '\n",
    "           f'You are a {prof}. '\n",
    "           f'You like {lang}. '\n",
    "          )\n",
    "message"
   ]
  },
  {
   "attachments": {},
   "cell_type": "markdown",
   "metadata": {},
   "source": [
    "---\n",
    "# P6-6 <code>str.format()</code>"
   ]
  },
  {
   "cell_type": "markdown",
   "metadata": {},
   "source": [
    "### 每㇐個置換欄位可以是㇐個索引，代表參數位置"
   ]
  },
  {
   "cell_type": "code",
   "execution_count": null,
   "metadata": {},
   "outputs": [],
   "source": [
    "name = 'III'\n",
    "est  = 1979\n",
    "print('{} is established in {}'.format(name,est))\n",
    "print('{0} was established in {1}'.format(name, est)) \n",
    "print('{1} was established in {0}'.format(name, est)) "
   ]
  },
  {
   "cell_type": "markdown",
   "metadata": {},
   "source": [
    "### 每㇐個置換欄位也可以是關鍵字參數的名稱"
   ]
  },
  {
   "cell_type": "code",
   "execution_count": null,
   "metadata": {},
   "outputs": [],
   "source": [
    "print('{x} is established in {y}'.format(x='ROC',y=1911))"
   ]
  },
  {
   "cell_type": "markdown",
   "metadata": {},
   "source": [
    "### 數字格式"
   ]
  },
  {
   "cell_type": "code",
   "execution_count": null,
   "metadata": {},
   "outputs": [],
   "source": [
    "print('{:7.3f}'.format(20.123))"
   ]
  },
  {
   "attachments": {},
   "cell_type": "markdown",
   "metadata": {},
   "source": [
    "---\n",
    "# P6-7 文字格式化運算子"
   ]
  },
  {
   "cell_type": "code",
   "execution_count": null,
   "metadata": {},
   "outputs": [],
   "source": [
    "name='III'\n",
    "est=1979\n",
    "print('%s is established in %d' % (name,est))\n",
    "print('%s is established in %d' % (est,name))"
   ]
  },
  {
   "attachments": {},
   "cell_type": "markdown",
   "metadata": {},
   "source": [
    "---\n",
    "# &spades;補充"
   ]
  },
  {
   "attachments": {},
   "cell_type": "markdown",
   "metadata": {},
   "source": [
    "## f-string 數字格式 :\n",
    "### f'{ 變數[:] [填補字元] [變數在字串的位置] [變數顯示長度] [類型碼] }'\n",
    ">### 變數在字串的位置\n",
    ">>##### 靠左&rArr;<\n",
    ">>##### 靠右&rArr;>\n",
    ">>##### 置中&rArr;^\n",
    ">### 變數顯示長度\n",
    ">>#### 如果變數長度超過長度，以變數長度為主\n",
    ">### 類型碼\n",
    ">><img src='./img/str_format.png'>"
   ]
  },
  {
   "cell_type": "code",
   "execution_count": null,
   "metadata": {},
   "outputs": [],
   "source": [
    "print(f'{num:*>10.3f}') # *是填補字元。 >是變數在字串的位置。 10是變數的顯示長度。 .3f是類型碼=>精準度到小數點後三位。\n",
    "print(f'{num:0>10.3f}') # 0是填補字元。 >是變數在字串的位置。 10是變數的顯示長度。 .3f是類型碼=>精準度到小數點後三位。\n",
    "print(f'{num: >10.3f}') # \" \"是填補字元。 >是變數在字串的位置。 10是變數的顯示長度。 .3f是類型碼=>精準度到小數點後三位。"
   ]
  },
  {
   "cell_type": "code",
   "execution_count": null,
   "metadata": {},
   "outputs": [],
   "source": [
    "print(f'{num:*<10.3f}') # *是填補字元。 <是變數在字串的位置。 10是變數的顯示長度。 .3f是類型碼=>精準度到小數點後三位。\n",
    "print(f'{num:*^10.3f}') # *是填補字元。 ^是變數在字串的位置。 10是變數的顯示長度。 .3f是類型碼=>精準度到小數點後三位。\n",
    "print(f'{num:*>10.3f}') # *是填補字元。 >是變數在字串的位置。 10是變數的顯示長度。 .3f是類型碼=>精準度到小數點後三位。"
   ]
  },
  {
   "cell_type": "code",
   "execution_count": null,
   "metadata": {},
   "outputs": [],
   "source": [
    "print(f'{num:b}') # 50轉2進位\n",
    "print(f'{num:x}') # 50轉16進位\n",
    "print(f'{123456789:e}') # 科學記號"
   ]
  },
  {
   "cell_type": "markdown",
   "metadata": {},
   "source": [
    "### f-string 支援日期時間格式"
   ]
  },
  {
   "cell_type": "code",
   "execution_count": null,
   "metadata": {},
   "outputs": [],
   "source": [
    "from datetime import datetime\n",
    "print(f'{datetime(2001, 2, 3, 4, 5):%Y/%m/%d}')\n",
    "print(f'{datetime(2001, 2, 3, 4, 5):%Y/%m/%d %H:%M:%S}')"
   ]
  },
  {
   "cell_type": "markdown",
   "metadata": {},
   "source": [
    "---"
   ]
  },
  {
   "attachments": {},
   "cell_type": "markdown",
   "metadata": {},
   "source": [
    "## 講義提到&rArr;f-String運算較快，處理效率較高。"
   ]
  },
  {
   "cell_type": "code",
   "execution_count": null,
   "metadata": {},
   "outputs": [],
   "source": [
    "name = 'III'; est = 1979\n",
    "\n",
    "%timeit f'{name} was established in {est}'  # faster\n",
    "%timeit '{} was established in {}'.format(name,est)     # slower\n",
    "%timeit '%s was established in %d'%(name,est)     # slower"
   ]
  },
  {
   "cell_type": "markdown",
   "metadata": {},
   "source": [
    "---"
   ]
  },
  {
   "attachments": {},
   "cell_type": "markdown",
   "metadata": {},
   "source": [
    "## str.format()方法 & 字典(Dictionaries) 風格"
   ]
  },
  {
   "cell_type": "code",
   "execution_count": null,
   "metadata": {},
   "outputs": [],
   "source": [
    "data = {'name': 'III', 'est': 40} \n",
    "'The name is {name}, aged {est}.'.format(**data) # unpack dict to be arbitrary keyword arguments "
   ]
  },
  {
   "cell_type": "code",
   "execution_count": null,
   "metadata": {},
   "outputs": [],
   "source": [
    "'{2}, {1}, {0}'.format(*'abc') # unpack string to be arbitrary arguments"
   ]
  }
 ],
 "metadata": {
  "kernelspec": {
   "display_name": "Python 3 (ipykernel)",
   "language": "python",
   "name": "python3"
  },
  "language_info": {
   "codemirror_mode": {
    "name": "ipython",
    "version": 3
   },
   "file_extension": ".py",
   "mimetype": "text/x-python",
   "name": "python",
   "nbconvert_exporter": "python",
   "pygments_lexer": "ipython3",
   "version": "3.8.10"
  }
 },
 "nbformat": 4,
 "nbformat_minor": 4
}
